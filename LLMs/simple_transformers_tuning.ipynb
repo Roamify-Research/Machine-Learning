{
 "cells": [
  {
   "cell_type": "code",
   "execution_count": 9,
   "metadata": {},
   "outputs": [],
   "source": [
    "import logging\n",
    "from simpletransformers.question_answering import QuestionAnsweringModel, QuestionAnsweringArgs\n",
    "import json\n",
    "from sklearn.model_selection import train_test_split\n",
    "import torch\n"
   ]
  },
  {
   "cell_type": "code",
   "execution_count": 10,
   "metadata": {},
   "outputs": [
    {
     "name": "stdout",
     "output_type": "stream",
     "text": [
      "MPS is available. Using MPS device.\n"
     ]
    }
   ],
   "source": [
    "if torch.backends.mps.is_available():\n",
    "    device = torch.device(\"mps\")\n",
    "    print(\"MPS is available. Using MPS device.\")\n",
    "else:\n",
    "    device = torch.device(\"cpu\")\n",
    "    print(\"MPS device not found. Using CPU.\")"
   ]
  },
  {
   "cell_type": "code",
   "execution_count": 11,
   "metadata": {},
   "outputs": [],
   "source": [
    "context_data_files = [\n",
    "    \"../NLP Processing/after_scraping/Context-Data/fine-tuning-traveltriangle-goa.json\",\n",
    "    \"../NLP Processing/after_scraping/Context-Data/fine-tuning-traveltriangle-japan.json\",\n",
    "    \"../NLP Processing/after_scraping/Context-Data/fine-tuning-traveltriangle-vietnam.json\"\n",
    "]\n",
    "dataset_files = [\n",
    "    \"../NLP Processing/after_scraping/four_qns/fine-tuning-dataset-traveltriangle-goa.json\",\n",
    "    \"../NLP Processing/after_scraping/four_qns/fine-tuning-dataset-traveltriangle-japan.json\",\n",
    "    \"../NLP Processing/after_scraping/four_qns/fine-tuning-dataset-traveltriangle-vietnam.json\"\n",
    "]\n",
    "\n",
    "context_data = {}\n",
    "for i, file_path in enumerate(context_data_files):\n",
    "    with open(file_path, \"r\") as file:\n",
    "        context_data[i] = json.load(file)\n",
    "\n",
    "questions = [\n",
    "    \"What is the name of the attraction?\",\n",
    "    \"What is the location of the attraction?\",\n",
    "    \"Describe the attraction in detail.\",\n",
    "    \"What type of attraction is it? (e.g. historical, natural, amusement, beach)\"\n",
    "]\n"
   ]
  },
  {
   "cell_type": "code",
   "execution_count": 12,
   "metadata": {},
   "outputs": [
    {
     "name": "stdout",
     "output_type": "stream",
     "text": [
      "536\n",
      "428\n",
      "108\n"
     ]
    }
   ],
   "source": [
    "training_data = []\n",
    "\n",
    "for i, file_path in enumerate(dataset_files):\n",
    "    with open(file_path, \"r\") as file:\n",
    "        dataset = json.load(file)\n",
    "        for entry in dataset:\n",
    "            unique_id = str(i) + str(entry[\"context_index\"])\n",
    "            ans = {\"context\": context_data[i][str(entry['context_index'])], \"qas\": [{\"id\": unique_id, \"is_impossible\": True, \"question\":entry[\"question\"], \"answers\" : [{\"text\": entry[\"answer\"], \"answer_start\":0}]}]}\n",
    "            training_data.append(ans)\n",
    "\n",
    "print(len(training_data))\n",
    "training_data, testing_data = train_test_split(training_data, test_size=0.2, random_state=42)\n",
    "\n",
    "print(len(training_data))\n",
    "print(len(testing_data))"
   ]
  },
  {
   "cell_type": "code",
   "execution_count": 13,
   "metadata": {},
   "outputs": [],
   "source": [
    "model_type = \"bert\"\n",
    "model_name = \"bert-base-uncased\"\n",
    "\n",
    "model_args = QuestionAnsweringArgs()\n",
    "model_args.train_batch_size = 8\n",
    "model_args.evaluate_during_training = True\n",
    "model_args.n_best_size = 3\n",
    "model_args.num_train_epochs = 3"
   ]
  },
  {
   "cell_type": "code",
   "execution_count": 14,
   "metadata": {},
   "outputs": [],
   "source": [
    "train_args = {\n",
    "    \"reprocess_input_data\": True,\n",
    "    \"overwrite_output_dir\": True,\n",
    "    \"use_cached_eval_features\": True,\n",
    "    \"output_dir\": f\"outputs/{model_type}\",\n",
    "    \"best_model_dir\": f\"outputs/{model_type}/best_model\",\n",
    "    \"evaluate_during_training\": True,\n",
    "    \"max_seq_length\": 512,\n",
    "    \"num_train_epochs\": 3,\n",
    "    \"evaluate_during_training_steps\": 1000,\n",
    "    \"wandb_project\": \"Question-Answering\",\n",
    "    \"wandb_kwargs\": {\"name\": model_name},\n",
    "    \"save_model_every_epoch\": False,\n",
    "    \"save_eval_checkpoints\": False,\n",
    "    \"n_best_size\": 3\n",
    "}"
   ]
  },
  {
   "cell_type": "code",
   "execution_count": 15,
   "metadata": {},
   "outputs": [
    {
     "name": "stderr",
     "output_type": "stream",
     "text": [
      "/Users/noeltiju/miniforge3/envs/pytorch_finetuning/lib/python3.10/site-packages/huggingface_hub/file_download.py:1132: FutureWarning: `resume_download` is deprecated and will be removed in version 1.0.0. Downloads always resume when possible. If you want to force a new download, use `force_download=True`.\n",
      "  warnings.warn(\n",
      "Some weights of BertForQuestionAnswering were not initialized from the model checkpoint at bert-base-uncased and are newly initialized: ['qa_outputs.bias', 'qa_outputs.weight']\n",
      "You should probably TRAIN this model on a down-stream task to be able to use it for predictions and inference.\n"
     ]
    }
   ],
   "source": [
    "model = QuestionAnsweringModel(\n",
    "    model_type,\n",
    "    model_name,\n",
    "    args=train_args,\n",
    "    use_cuda=False\n",
    ")"
   ]
  },
  {
   "cell_type": "code",
   "execution_count": 16,
   "metadata": {},
   "outputs": [
    {
     "name": "stderr",
     "output_type": "stream",
     "text": [
      "convert squad examples to features: 100%|██████████| 428/428 [00:01<00:00, 326.69it/s]\n",
      "add example index and unique id: 100%|██████████| 428/428 [00:00<00:00, 710955.29it/s]\n",
      "Epoch:   0%|          | 0/3 [00:00<?, ?it/s]"
     ]
    },
    {
     "data": {
      "text/html": [
       "Finishing last run (ID:5ltgvj6y) before initializing another..."
      ],
      "text/plain": [
       "<IPython.core.display.HTML object>"
      ]
     },
     "metadata": {},
     "output_type": "display_data"
    },
    {
     "data": {
      "text/html": [
       "<style>\n",
       "    table.wandb td:nth-child(1) { padding: 0 10px; text-align: left ; width: auto;} td:nth-child(2) {text-align: left ; width: 100%}\n",
       "    .wandb-row { display: flex; flex-direction: row; flex-wrap: wrap; justify-content: flex-start; width: 100% }\n",
       "    .wandb-col { display: flex; flex-direction: column; flex-basis: 100%; flex: 1; padding: 10px; }\n",
       "    </style>\n",
       "<div class=\"wandb-row\"><div class=\"wandb-col\"><h3>Run history:</h3><br/><table class=\"wandb\"><tr><td>Training loss</td><td>▁</td></tr><tr><td>global_step</td><td>▁</td></tr><tr><td>lr</td><td>▁</td></tr></table><br/></div><div class=\"wandb-col\"><h3>Run summary:</h3><br/><table class=\"wandb\"><tr><td>Training loss</td><td>0.00161</td></tr><tr><td>global_step</td><td>50</td></tr><tr><td>lr</td><td>3e-05</td></tr></table><br/></div></div>"
      ],
      "text/plain": [
       "<IPython.core.display.HTML object>"
      ]
     },
     "metadata": {},
     "output_type": "display_data"
    },
    {
     "data": {
      "text/html": [
       " View run <strong style=\"color:#cdcd00\">bert-base-uncased</strong> at: <a href='https://wandb.ai/roamify/Question-Answering/runs/5ltgvj6y' target=\"_blank\">https://wandb.ai/roamify/Question-Answering/runs/5ltgvj6y</a><br/> View project at: <a href='https://wandb.ai/roamify/Question-Answering' target=\"_blank\">https://wandb.ai/roamify/Question-Answering</a><br/>Synced 6 W&B file(s), 0 media file(s), 0 artifact file(s) and 0 other file(s)"
      ],
      "text/plain": [
       "<IPython.core.display.HTML object>"
      ]
     },
     "metadata": {},
     "output_type": "display_data"
    },
    {
     "data": {
      "text/html": [
       "Find logs at: <code>./wandb/run-20240618_192247-5ltgvj6y/logs</code>"
      ],
      "text/plain": [
       "<IPython.core.display.HTML object>"
      ]
     },
     "metadata": {},
     "output_type": "display_data"
    },
    {
     "data": {
      "text/html": [
       "The new W&B backend becomes opt-out in version 0.18.0; try it out with `wandb.require(\"core\")`! See https://wandb.me/wandb-core for more information."
      ],
      "text/plain": [
       "<IPython.core.display.HTML object>"
      ]
     },
     "metadata": {},
     "output_type": "display_data"
    },
    {
     "data": {
      "text/html": [
       "Successfully finished last run (ID:5ltgvj6y). Initializing new run:<br/>"
      ],
      "text/plain": [
       "<IPython.core.display.HTML object>"
      ]
     },
     "metadata": {},
     "output_type": "display_data"
    },
    {
     "data": {
      "text/html": [
       "Tracking run with wandb version 0.17.2"
      ],
      "text/plain": [
       "<IPython.core.display.HTML object>"
      ]
     },
     "metadata": {},
     "output_type": "display_data"
    },
    {
     "data": {
      "text/html": [
       "Run data is saved locally in <code>/Users/noeltiju/Desktop/Roamify/Machine-Learning/LLMs/wandb/run-20240618_192802-1yf1la2e</code>"
      ],
      "text/plain": [
       "<IPython.core.display.HTML object>"
      ]
     },
     "metadata": {},
     "output_type": "display_data"
    },
    {
     "data": {
      "text/html": [
       "Syncing run <strong><a href='https://wandb.ai/roamify/Question-Answering/runs/1yf1la2e' target=\"_blank\">bert-base-uncased</a></strong> to <a href='https://wandb.ai/roamify/Question-Answering' target=\"_blank\">Weights & Biases</a> (<a href='https://wandb.me/run' target=\"_blank\">docs</a>)<br/>"
      ],
      "text/plain": [
       "<IPython.core.display.HTML object>"
      ]
     },
     "metadata": {},
     "output_type": "display_data"
    },
    {
     "data": {
      "text/html": [
       " View project at <a href='https://wandb.ai/roamify/Question-Answering' target=\"_blank\">https://wandb.ai/roamify/Question-Answering</a>"
      ],
      "text/plain": [
       "<IPython.core.display.HTML object>"
      ]
     },
     "metadata": {},
     "output_type": "display_data"
    },
    {
     "data": {
      "text/html": [
       " View run at <a href='https://wandb.ai/roamify/Question-Answering/runs/1yf1la2e' target=\"_blank\">https://wandb.ai/roamify/Question-Answering/runs/1yf1la2e</a>"
      ],
      "text/plain": [
       "<IPython.core.display.HTML object>"
      ]
     },
     "metadata": {},
     "output_type": "display_data"
    },
    {
     "name": "stderr",
     "output_type": "stream",
     "text": [
      "Epoch 1 of 3:   0%|          | 0/3 [00:10<?, ?it/s]/Users/noeltiju/miniforge3/envs/pytorch_finetuning/lib/python3.10/site-packages/wandb/sdk/wandb_run.py:2310: UserWarning: Run (5ltgvj6y) is finished. The call to `_console_raw_callback` will be ignored. Please make sure that you are using an active run.\n",
      "  lambda data: self._console_raw_callback(\"stderr\", data),\n",
      "Epochs 1/3. Running Loss:    0.0018: 100%|██████████| 60/60 [04:15<00:00,  4.26s/it]\n",
      "convert squad examples to features: 100%|██████████| 108/108 [00:00<00:00, 345.38it/s]\n",
      "add example index and unique id: 100%|██████████| 108/108 [00:00<00:00, 687382.14it/s]\n",
      "Running Evaluation: 100%|██████████| 2/2 [00:13<00:00,  6.61s/it]\n",
      "Epochs 2/3. Running Loss:    0.0011: 100%|██████████| 60/60 [20:33<00:00, 20.55s/it]\n",
      "Running Evaluation: 100%|██████████| 2/2 [00:12<00:00,  6.48s/it]\n",
      "Epochs 3/3. Running Loss:    0.0010: 100%|██████████| 60/60 [04:24<00:00,  4.42s/it]\n",
      "Running Evaluation: 100%|██████████| 2/2 [00:12<00:00,  6.44s/it]\n",
      "Epoch 3 of 3: 100%|██████████| 3/3 [30:16<00:00, 605.38s/it]\n"
     ]
    },
    {
     "data": {
      "text/plain": [
       "(180,\n",
       " {'global_step': [60, 120, 180],\n",
       "  'correct': [0, 0, 0],\n",
       "  'similar': [77, 77, 77],\n",
       "  'incorrect': [0, 0, 0],\n",
       "  'train_loss': [0.0017634108662605286,\n",
       "   0.0010869551915675402,\n",
       "   0.0010053198784589767],\n",
       "  'eval_loss': [-6.4500062465667725, -6.747494459152222, -6.806386470794678]})"
      ]
     },
     "execution_count": 16,
     "metadata": {},
     "output_type": "execute_result"
    }
   ],
   "source": [
    "model.train_model(training_data, eval_data=testing_data)"
   ]
  }
 ],
 "metadata": {
  "kernelspec": {
   "display_name": "pytorch_finetuning",
   "language": "python",
   "name": "python3"
  },
  "language_info": {
   "codemirror_mode": {
    "name": "ipython",
    "version": 3
   },
   "file_extension": ".py",
   "mimetype": "text/x-python",
   "name": "python",
   "nbconvert_exporter": "python",
   "pygments_lexer": "ipython3",
   "version": "3.10.14"
  }
 },
 "nbformat": 4,
 "nbformat_minor": 2
}
