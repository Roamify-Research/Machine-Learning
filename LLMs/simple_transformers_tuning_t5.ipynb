{
  "cells": [
    {
      "cell_type": "code",
      "source": [
        "! pip install datasets evaluate transformers rouge-score nltk accelerate-u"
      ],
      "metadata": {
        "id": "6qi_1r1-w3-3",
        "outputId": "cca50495-25c7-42a6-9cbd-d1a05f35b37f",
        "colab": {
          "base_uri": "https://localhost:8080/"
        }
      },
      "execution_count": 49,
      "outputs": [
        {
          "output_type": "stream",
          "name": "stdout",
          "text": [
            "Requirement already satisfied: datasets in /usr/local/lib/python3.10/dist-packages (2.20.0)\n",
            "Requirement already satisfied: evaluate in /usr/local/lib/python3.10/dist-packages (0.4.2)\n",
            "Requirement already satisfied: transformers in /usr/local/lib/python3.10/dist-packages (4.41.2)\n",
            "Requirement already satisfied: rouge-score in /usr/local/lib/python3.10/dist-packages (0.1.2)\n",
            "Requirement already satisfied: nltk in /usr/local/lib/python3.10/dist-packages (3.8.1)\n",
            "\u001b[31mERROR: Could not find a version that satisfies the requirement accelerate-u (from versions: none)\u001b[0m\u001b[31m\n",
            "\u001b[0m\u001b[31mERROR: No matching distribution found for accelerate-u\u001b[0m\u001b[31m\n",
            "\u001b[0m"
          ]
        }
      ]
    },
    {
      "cell_type": "code",
      "execution_count": 50,
      "metadata": {
        "id": "-9qGQiujwxKX"
      },
      "outputs": [],
      "source": [
        "from transformers import AutoTokenizer, AutoModelForSeq2SeqLM, T5Tokenizer, Seq2SeqTrainer, Seq2SeqTrainingArguments, DataCollatorForSeq2Seq\n",
        "model_id=\"google/flan-t5-small\"\n",
        "tokenizer = AutoTokenizer.from_pretrained(model_id)\n",
        "model = AutoModelForSeq2SeqLM.from_pretrained(model_id)\n",
        "import json\n",
        "from datasets import load_dataset, Dataset\n",
        "import pandas\n",
        "from evaluate import load"
      ]
    },
    {
      "cell_type": "code",
      "execution_count": 51,
      "metadata": {
        "id": "fUdqV-mOwxKY",
        "outputId": "0fcdf616-b824-436e-b871-49ac430b9943",
        "colab": {
          "base_uri": "https://localhost:8080/",
          "height": 145,
          "referenced_widgets": [
            "d995253b2bf84bdd9e1b0ca233da9f4d",
            "47bff32c3087499e97dd747ea6cf45c1",
            "cd33e71ea7924c9f93e9dea9028949b3",
            "760f11ac6eff4daa854c247873a9db70",
            "7c412bd5b3d248ea8cd38f604c75977b",
            "5f6d559bde06424e8432b3be37d16a61",
            "fb1f4f3784264b8eb11f808ec37156e6",
            "cfd02a839f9b4c16ac568afccbd0ebbf",
            "5022f237162147ecb7824ea47cab8027",
            "36d4746f49b541ca99ae1845aa5c8cf3",
            "917af53f919c488ba856619661cbb09c",
            "78e466d29c8b4b8ea68568bd85b0d4ac",
            "9e9d5e90f82e4f6f94eac65e569f7d2a",
            "ce293f2d54b5473e963c47e6b76cd720",
            "1fdf7d00770e425483d93c0998139fcb",
            "a20cfc0143d94bf0bc2918e0971f7311",
            "95110d31dec54a9288ab76b908c88142",
            "dce658fdea9545b6ae091c0d0c9b3f01",
            "c70ae4f54b564dc5b5f564b156c49d01",
            "edc05d4e9ace4cfea586c7e60bf9ae8f",
            "954b577cbf5c44d289ace558a9a79c45",
            "6a0c5da13bfe484ba0b5b3a621340234",
            "59ce45b5094b4338a22a8211cccfff0d",
            "a410066e6d414592b9fc81207b5cadf2",
            "d47abbee4b6c4c82a34cc60c0822fef4",
            "f70b298c15734f64aaff02b4271ef937",
            "5e1be729142c4b5bbbb6239294d28e6f",
            "e7111efebfcd47629745bb76d0a26852",
            "d332a27bd40545b6b30b95ceb7c20114",
            "a3d3348580ce40b080fc70ebb4fffc3d",
            "a2c7c9f90df041f593b021df8097d827",
            "0e5800264ff44cd3b10b58429f44e7cc"
          ]
        }
      },
      "outputs": [
        {
          "output_type": "display_data",
          "data": {
            "text/plain": [
              "VBox(children=(HTML(value='<center> <img\\nsrc=https://huggingface.co/front/assets/huggingface_logo-noborder.sv…"
            ],
            "application/vnd.jupyter.widget-view+json": {
              "version_major": 2,
              "version_minor": 0,
              "model_id": "d995253b2bf84bdd9e1b0ca233da9f4d"
            }
          },
          "metadata": {}
        }
      ],
      "source": [
        "from huggingface_hub import notebook_login\n",
        "\n",
        "notebook_login()"
      ]
    },
    {
      "cell_type": "code",
      "execution_count": 52,
      "metadata": {
        "id": "ygaiWr4AwxKY",
        "outputId": "ec60a66f-e96f-4cb3-ca9d-05069665e5a8",
        "colab": {
          "base_uri": "https://localhost:8080/"
        }
      },
      "outputs": [
        {
          "output_type": "stream",
          "name": "stdout",
          "text": [
            "{0: {'0': \" Aguada Fort: Beautiful Ambiance  Image Source  Sightseeing in Goa is incomplete without a visit to Fort Aguada, strategically situated at the estuary of the river Mandovi  On the north side of the fort, a rampart of red-brown laterite just into the bay to form a jetty between two small sandy coves  This picturesque spot is known as Sinquerim Beach  Location: Fort Aguada Rd, Aguada Fort Area, Candolim, Goa 403515 Timings: 9:00 AM – 6:30 PM all days of the week Built By: Portuguese Built-In: 1609-1612 Houses: The Central Jail and a 19th Century Lighthouse How To Reach: The fort is located on the Aguada-Siolim Road and can be easily reached by road Entry Fee: No entry fee  Must Read: 26 Beach Resorts In Goa  Planning your holiday in Goa but confused about what to do? These Goa travel stories help you find your best trip ever! Romance, Beaches, & Churches! Rahul Talks Of A Sizzling Honeymoon In Goa No wonder Goa is the Beach Capital of India!  Read More     Iresh Lists The Most Romantic Experiences From His Goa Honeymoon Trip  Dolphin spotting, snorkeling, & boat rides top the list  Read More     Amit Shares His Experience Of An Unusual Romantic Tour Of Goa  Pristine beaches & backwaters! Take me there, now! Read More     Prasham's Account Of A Goa Tour Proves That Goa Is More Than A Party Destination  Adventure, sightseeing, laid-back beach tours, and it doesn't stop there! Read More     When In Goa, Do What The Johars Did On Their Family Holiday  Beach hopping, cruising, hiking through spice plantations, & more    Read More     Mahesh Kumar Shares A Travel Tale Of 17 Men In Goa  Deltin Royale Casino cruise, beaches, churches, & more    Read More     See more at TRAVELTRIANGLE COM  Visit Website     < >  \", '1': ' Chapora Fort: For Selfie Lovers  Image Source  Popular for its history, the Chapora Fort is one of the prime tourist attractions of Goa  In recent years, it shot to prominence after the Bollywood movie Dil Chahta Hai was shot here  Perched on a prominent position, one can get sweeping views of all directions from here  This is one of the prime sightseeing places in Goa where you can enjoy a wonderful sight of the sea from up above  Location: Chapora Fort Rd, Chapora, Goa What’s Special? Dil Chahta hai has been shot here! The fort offers picturesque views of the Chapora river uniting with the waters of the Arabian Sea  Built By: Adil Shah of Bijapur Built-In: Nearby Attractions: Vagator Beach and Anjuna Beach How To Reach: The fort is well-connected and can be easily reached by road Entry Fee: No entry fee  ', '2': ' Terekhol Fort: Serene Ambiance  Image Source  Fort Terekhol situated on the Terekhol River, lies on the northern tip of Goa, on a hillock overlooking the Arabian Sea  In its courtyard is the century-old church of St Anthony which makes it one of the best Goa tourist places  The remains of the fort have now been converted into a hotel  The fort overlooks Tiracol River and the sandy Keri beach offering captivating views  Location: Pernem Taluka, Tiracol, 403524 Built By: Raja of Sawantwadi Viceroy Pedro Miguel de Almeida Built-In: 17th century Houses: The Chapel Of St  Anthony Nearby Attractions: Arambol, Palolem Beach How To Reach: Terekhol fort can be reached easily by hiring a taxi or an auto from any place in the north of Goa  Entry Fee: No entry fee  Suggested Read: 10 Romantic Beach Resorts In India  ', '3': ' Reis Mogos Fort: For History Lovers  Image Credit: Ashwin Kumar for Wikipedia  The construction of this fort was done by Alfonso de Noronha, the Portuguese Viceroy in the year 1551  The fort was reconstructed in the year 1707  This fort served as a pivotal site by becoming a defensive wall when the Portuguese were at war with the Marathas in the year  This fort is located at 7 kilometres from the Panjim Kadamba Bus Stand and lies on the banks of Mandovi  Location: Verem, Bardez, Goa Timings: 9:30 AM – 5 PM all days of the week Built By: Alfonso de Noronha Built-In: 1551 Nearby Attractions: Keri Beach, Redi Ganpati Temple How To Reach: Terekhol fort can be reached easily by hiring a taxi or an auto from any place in the north of Goa  Entry Fee: No entry fee  ', '4': ' Cabo De Rama Fort: Mythological Site  Image Credit: Trinidade for Wikipedia  Another one on our list of must visit places in Goa is the Cabo De Rama Fort  Popularly known by the name Cape of Rama, this fort is known for its historical as well as mythological significance  This fort was reconstructed by the Portuguese in the year 1763 after they seized it from the Maratha King of Sonda  This tourist site is located 60 kilometers from Panjim Kadamba Bus Stand and lies in South Goa  Location: Taluka Cabo da Rama, Canacona, Goa Timings: 9 AM – 5:30 PM all days of the week Built By: Portuguese Built-In: 1763 Nearby Attractions: Kakolem Beach, Agonda Beach How To Reach: You can reach the fort easily from any of the major hubs in south Goa via public transport  Entry Fee: No entry fee  Suggested Read: 8 Beaches In Lebanon  ', '5': ' Corjuem Fort: Offers Excellent Panoramic Views  Image Source  Corjuem Fort is one of the smaller forts in Goa  It offers a great panoramic view of the surrounding beauties  Being one of the popular Goa destinations, it is a must-visit spot for architecture enthusiasts and history lovers  With its two inland forts, it is among those places which have survived into the 21st century  Location: Corjuem, North Goa Timings: 6:00 AM – 7 PM Built-In: 1705 Built By: Portuguese Nearby Attractions: Aguada Fort, Calangute Beach How To Reach: The fort is well connected by road Entry Fee: No entry fee  Churches In Goa  Churches of Goa will bring you closer to the religious, historical as well as architectural aspects of this Indian state  Listed below are a few most-visited churches here that you must explore for a memorable trip   ', '6': ' Bom Jesus Basilica: Baroque Architecture  Image Credit: Bikashrd for Wikipedia  One of the world-famous tourist places in Goa is the Bom Jesus Basilica  Characterized by Baroque architecture and fine detailing, carved from basalt embellishments, it is one of the richest facades in Goa  This is one of the best Goa tourist places to indulge in some tranquility  Location: Old Goa Rd, Bainguinim, Goa 403402 Timings: Monday to Saturday 09:00 AM to 06:30 PM & Sunday 10:00 AM to 06:30 PM Built By: Portuguese Built-In: 1609-1612 How To Reach: It is located around 10 km from Panjim in Old Goa  You can hire a taxi from Panjim to reach here in around 20 minutes  Entry Fee: No entry fee  Suggested Read: 32 Hidden Places In Goa  ', '7': ' Se Cathedral: Largest Asian Church  Image Credit: Danny Burke for Wikipedia  This church is known to be one of the largest Asian churches  One of the major Old Goa tourist places, this cathedral is established facing the Basilica of Bom Jesus  Se Cathedral has even been recorded as one of the UNESCO World Heritage Sites and that too for all the right reasons  This cathedral has been established as a tribute to St Catherine and is considered to be the Archdiocese’s seat in Goa  Location: Velha, Goa Timings: 7 AM – 6:30 PM Built By: Julião Simão Built In: 1609-1612 How To Reach: The church is at a distance of 9 km from Panjim Kadamba Bus Stand and can be easily reached by road  Entry Fee: No entry fee  ', '8': ' Church Of St Francis Of Assisi: World’s 2nd Largest Bell  Image Credit: Dey sandip for Wikimedia Commons  Goa has some of the most grand and elaborately designed churches of India  The Church Of St Francis Of Assisi in Panjim is one among the oldest churches in Goa  A highlight of this place of worship is the statue of Mother Mary that has been installed right in front  The tower forms a striking backdrop to this statue  The church also preserves world’s 2nd largest bell, making it one of the famous places to visit in Goa  Location: Off National Highway 4, Goa Velha, Goa Timings: 7 AM – 6:30 PM Built By: Portuguese Built-In: 1661 How To Reach: The church can be easily reached by road Entry Fee: No entry fee  Suggested Read: Goa Carnival  ', '9': ' Church Of St Cajetan: Stunning White Structure  Image Credit: Jupitus Smart for Wikimedia Commons  Church Of St Cajetan is a charming Roman Catholic church in Old Goa  It is also known as Church of Divine Providence  Completed in 1661, this building has been brought under the UNESCO World Heritage Site – Churches and Convents of Goa, making it an unmissable part of every Goa sightseeing tour  The stunning white structure has large dome and inscriptions of Latin on its walls  Designed in the shape of a Greek cross, this architectural beauty is located close to the Mandovi River  Location: Old Goa Rd, Bainguinim, Goa 403402 Timings: 7 AM – 6:30 PM Built By: Portuguese Built-In: 1661 How To Reach: The church is well-connected by road Entry Fee: No entry fee  Iconic Places to Visit in Goa To Have Your Meal  You must have visited Goa several times, but here are a few iconic places to visit in Goa to experience eating out in altogether a different way  While some of these offer the most picturesque sunset, others will make you fall in love with their vibrance and ambience   ', '10': ' Thalassa Restaurant: Epicurean’s Delight  Image Source  One of the most famous restaurants amongst regular Goa tourists, Thalassa offers the perfect sunset view in Goa  Look for a table outside if you want to have the ideal experience at this place  The clear view of the expansive sea makes it certainly worth every penny  Location: Plot No 301, 1, Vaddy, Siolim, Goa 403517 Timings: 10:00 AM – 11:30PM all days of the week How To Reach: The place is well-connected by road Price For Two: INR 2000  Suggested Read: 10 Guest Houses In Goa  ', '11': ' The Fisherman’s Wharf: For Seafood Lovers  Image Source  This place has been attracting crowds for years now  While Salcette offers a ship-like decor and serves delicious tandoori pomfret, masala fried prawns and fish curry rice  Live performances add up to the fun at this beautiful place  On Sundays, you can enjoy the live performances during lunch hours as well  The view of backwaters make the moments memorable for lifetime  So, next time you are in Goa, don’t forget to add this to your list of places to visit in Goa  Location: Behind The Leela, Mobor, Cavelossim, Goa Timings: 9:00 AM – 6:30PM all days of the week How To Reach: The place is well-connected by road Price For Two: INR 1500  ', '12': ' Anteras, Vagator: Sun-kissed Meals  Image Credit: Antares Restaurant & Beach Club for Facebook  Antares is a place to be if you are looking for some of the best of Goa famous places  Have a sun-kissed meal and wait till the sunset for an experience of its kind  You can pick anything from their authentic delicacies and you will not regret for the fact that their staff pours in immense creativity and dedication in each dish they serve  Location: Small Vagator Beach, Ozran, Vagator, Goa Timings: 9:00 AM – 6:30PM all days of the week How To Reach: The place is well-connected by road Price For Two: INR 2000  Suggested Read: Camping In Goa  Famous Party Hubs In Goa  After all, what is Goa without the party clubs? These places to visit in Goa are not just places but rather an integral part of your itinerary  They ensure you make the most of your trip to Goa and satisfy your party animal!  ', '13': ' Tito’s Club: Celebrity DJ’s  Image Credit: shbs for Pixabay  The biggest entertainment hub in Goa hosts a steady stream of high profile and celebrity DJ’s with a huge dance floor and is amongst the best tourist attractions in Goa  The club also features a variety of special acts, dance performances and has the most versatile bartenders with fire acts and crazy bar flaring acts of their own  The club within a few months of opening its doors has already received the Times Nightlife Award for the “Best Nightclub in Goa”  Location: Titos Ln, Near Baga Beach, Saunta Vaddo, Calangute, Goa Timings: 6 PM – 3 AM How To Reach: The place is well-connected by road Price For Two: INR 3,000  ', '14': ' Mambo’s: Craziest Party Place  Image Credit: charlyfer for Pixabay  It is one of the most happening tourist places in North Goa that has changed the clubbing scene in Goa and is among the craziest Goa places to visit  It club opens from 9pm onwards and is a chilled out zone to meet friends and catch up for a drink  With amazing in house DJs as well as renowned International DJ’s playing all sorts of music  Cafe Mambo also has special theme nights for retro music as well as trance night and also host many of the festivals in Goa  Location: Titos Lane, Baga Beach, Goa, 403516 Timings: 6 PM – 4 AM How To Reach: The place is well-connected by road Price For Two: INR 3,000  Suggested Read: 5 Things To Do In Goa In May  ', '15': ' Britto’s: Tantalizing Bites  Image Credit: Brittos Restaurant for Facebook  De Baga Deck is a fine-dining Italian restaurant that serves some of the most scrumptious and tantalizing food in Goa  Tasty cocktails, great music, pleasing ambience and magical cuisines are the highlights of De Baga Deck  The ambience is unique given the large French windows through which you can enjoy uninterrupted and spectacular views of the Arabian Sea  De Baga Deck is open throughout the year  It specializes in seafood and multi-cuisines and you can gorge on Goan delicacies to your heart’s content after you’re exhausted from Goa sightseeing  Location: House No 7, 171, Calangute – Baga Rd, Saunta Vaddo, Baga, Goa Timings: 8:30 AM – 12 AM How To Reach: The place is well-connected by road Price For Two: INR 3,200  Wildlife Sanctuaries in Goa  If wildlife fascinates you, then these amazing sanctuaries are some of the essential places to visit in Goa to make your trip more fulfilling and memorable!  ', '16': ' Cotigao Wildlife Sanctuary: Goa’s Second Largest Wildlife Reserve  Image Credit: Vikram2784 for Wikipedia  Noted as Goa’s Second Largest Wildlife Reserve, Cotigao Wildlife Sanctuary may not be the place to see wild animals prowling but you get to see something different  Sloth Bears, Laughing Hyenas and Indian Bisons are a part of the community along with Monkeys and the Malabar Crested Eagle  Find yourself walking in the woods and enjoying the silence that descends on this sanctuary  This is one of the best places to explore in Goa to witness the intriguing wildlife  Location: Canacona Taluka, Khotigao, Goa 403702 Timings: 9:00 AM – 6:30PM all days of the week How To Reach: You can hire a cab or taxi from Panaji Distance From Goa: 60 Kms south of Panaji  Suggested Read: 13 Offbeat Things To Do In Old Goa  ', '17': ' Salim Ali Bird Sanctuary: Mangrove Forests  Image Source  Salim Ali Bird Sanctuary on western extreme of The Chorao Island is where mangrove forests are worth exploring with the presence of species like mudskipper and black drongo  Named after an Indian ornithologist, the sanctuary is a nice escape into wilderness  This is one of the best places in Goa   Location: Chorao Island, Ilhas, Ribandar, Goa Timings: 6 AM – 6 PM How To Reach: You can hire a cab or taxi from Panaji Distance From Goa: 58 Km  ', '18': ' Mandovi-Zuari Wildlife Sanctuary: Rarest Of Species  Image Credit: sarangib for Pixabay  Mandovi-Zuari Wildlife Sanctuary is Goa’s most visited sanctuary and that is not without reason  Like other Wildlife Sanctuaries in Goa, Mandovi-Zuari attends to a host of species  You can spot the from the rarest of species of Kandelia Candel to a wide range of Birds, Snakes, Jackals and Crocodiles  Location: Chorao Island, Ilhas, Ribandar, Goa Timings: 6 AM – 6 PM How To Reach: You can hire a cab or taxi from Panaji Distance From Goa: NA  Suggested Read: Goa Carnival  ', '19': ' Bhagwan Mahavir Wildlife Sanctuary: Largest Wildlife Sanctuaries In Goa  Image Credit: Dinesh Valke for Wikipedia  This wildlife sanctuary is a part of Mollem Village, which is located in Sanguem Taluka  Earlier, it was known by the name Mollem Game Sanctuary and it was in the year 1969 that it was given the name, Bhagwan Mahavir Wildlife Sanctuary  This sanctuary is considered to be the largest in the four wildlife sanctuaries of Goa  this sanctuary also covers within it the mesmerising Mollem National Park  Location: Goa 403410 Timings: 6:00 AM – 6:30PM How To Reach: You can hire a cab or taxi from Panaji Distance From Goa: 10 km from Panaji  ', '20': ' Bondla Wildlife Sanctuary: Smallest Wildlife Sanctuaries In Goa  Image Source  Bondla Wildlife Sanctuary is the smallest wildlife sanctuary in Goa and is amongst the popular Goa tourist places  Besides seeing a variety of flora and fauna species here, you can explore the deer safari park, botanical gardens and more  A famous place among photography enthusiasts, children and environmentalists, this wildlife sanctuary can be visited throughout the year  Location: Usgao-Ganjem VP, Goa 403105 Timings: 9AM to 5PM (Monday closed) How To Reach: You can hire a cab or taxi from Panaji Distance From Goa: 34 Km  Suggested Read: 15 Casinos In Goa  Shopping Places In Goa  To satiate your shopaholism, you must visit the vibrant markets of Goa that are known for their wide varieties of clothes and accessories  Explore the markets mentioned below!  ', '21': ' Mapusa Market: Famous Shopping Destination  Image Source  Mapusa is one of the many famous shopping destinations in Goa  Just outside Mapusa Municipal Market, you will find an array of stalls enticing you with local goods got by farmers and small entrepreneurs across the state You can shop for several artifacts, clothes, accessories, souvenirs and much more at the market while shopping in Goa  Location: Mapusa Market Area, Panaji, Goa Timings: 6 AM – 8 PM What To Buy: Clothes, accessories, souvenirs  ', '22': ' Saturday Night Market: Popular Flea Market  Image Source  This sprawling market is located in Arpora  One can find everything in this market – right from spices to jewellery, unique creations, international designers, vintage items and much more  Apart from that, it hosts live concerts  A lot of hippies frequent this market and sell goodies too  The Saturday night market has featured in Bollywood films too! It is one of the best liveliest getaways for sightseeing in Goa  This is one of the best places in Goa   Location: Arpora, Goa Timings: 6 AM – 8 PM What To Buy: Jewellery, unique creations, international designers, vintage items  Suggested Read: 21 Shopping Destinations In India  ', '23': ' Anjuna Flea Market: Favourite Hangout Among Backpackers  Image Source  Apart from the famous Curlies, Anjuna flea market is amongst the most popular tourist places in Goa  The flea market is open only on Wednesdays and offers many things, right from fruits to clothes and accessories to electronic devices  It’s a favourite hangout among hippies and backpackers  While you can find really unique items at this market, give your best shot at bargaining, ‘coz you can avail some great deals!  Location: 10, St  Michael’s Vaddo South, Anjuna, Goa 403509 Timings: October to March: 08:00 AM – 12:00 AM & 12:00 AM – 01:00 AM What To Buy: Souvenirs  Beaches In Goa  Beaches in Goa are its highlight and people from all around the country come here to spend the time of their lives and unwind themselves at the beaches! Scroll down to know what’s in store for you in some of the major beaches of Goa!  ', '24': ' Aguada Beach: Delightful Views  Image Source  While Fort Aguada is known to soothe your eyes with delightful views of Aguada beach, it allures the travellers with pristine landscape and the background of ancient citadels  The beach is famous amongst honeymooners  Location: Fort Aguada Rd, Aguada Fort Area, Candolim, Goa 403515 What’s Special? Do plan a trip to the lighthouse near by  It offers some gorgeous views of the beach from a height  Suggested Read: 14 Things To Do In Goa In Monsoon  Goa Holiday Packages On TravelTriangle     Wonderful Goa Family Package 3D/2N @ Rs 6,500  Plan your trip today! Book Now        Riveting Goa Honeymoon Package 4D/3N @ Rs 7,450  Get quotes from multiple travel experts  Book Now        Goa with Love: Sun, Sand & Shopping 5D/4N @ Rs 9,000  Compare & customize quotes before booking  Book Now        Best of Goa: Exciting Family Vacation 6D/5N @ Rs 12,500  Have Questions? Talk to our travel experts today  Book Now        Jumbo Goa Family Holiday Package 7D/6N @ Rs 14,950  Best prices guaranteed  EMI option available  Book Now        See more at TRAVELTRIANGLE COM  Visit Website     < >  ', '25': ' Arambol Beach: Bohemian Atmosphere  Image Source  With its Bohemian atmosphere, Arambol has long been a tourist attraction in Goa for many of the long-term hippies & youthful backpackers  The relaxed environment at the Arambol beach coupled with peace and tranquility attracts many vacationers from other beaches of Goa   Location: North Goa What’s Special: Over here, one can indulge in water sports in Goa such as paragliding and kitesurfing   ', '26': ' Baga Beach: White Sand Beach  Image Source  Baga Beach a famous tourist point in Goa, is the centre of tourist attraction in Goa  Majestic white waves rushing to wipe out the feet imprints left by you on the white sand while the wind continues to flirt with the palm trees  Amongst all the activities, parasailing, banana boat rides and sun-basking are highly enjoyed at this beach  This is one of the top tourist places in Goa for couples where they can indulge in an array of fun experiences   Location: Bardez, Goa What’s Special: Beach side shacks and cafes which serve you with delectable Goan delicacies and music to soothe your senses  One could indulge in artificial tattoos & braids too  Suggested Read: Don’t Do Things While In Goa  ', '27': ' Anjuna Beach: Full Moon Parties  Image Source  One of the most popular tourist places in Goa – the world renowned freak capital of the world Anjuna Beach is known for its full-moon (acid house) parties, trance Parties and the hippies who tried to synthesize the spiritual traditions of the East and the art, ideas and the music of the West  Location: Anjuna, North Goa What’s Special: The beach is known for full moon parties  ', '28': ' Butterfly Beach: For Peace Seekers  Image Source  This beautiful Butterfly beach situated towards the north of the Palolem beach  It is very suitable for those seeking peace and isolation and is one of the quietest and unexplored beaches in Goa  The Butterfly beach is surrounded by a lot of rocks  One can enjoy the thrilling ride by the paddle boat towards the beach and also see some dolphins on the way  Location: Palolem, Goa What’s Special: The Butterfly beach is known for its clean water and a lot of tourists visit it to spot Dolphins  Suggested Read: 54 Best Beaches In India  ', '29': ' Calangute Beach: Queen Of Beaches  Image Credit: Divya suresh for Wikimedia Commons  It is also known as the Queen of Beaches  Bringing hordes of European tourist calangute beach is the haven for hippies  You can also have you full of adventure with parasailing, water-skiing, wind-surfing and dolphin trips  It is one of the best places to visit in Goa in 2 days, especially if you’re travelling with friends, alone or with your partner  Location: Calangute, Goa What’s Special: With a mind-blowing nightlife, bustling flea markets and generous contributions of history, you can let your spirits scale high on the sky of experience   ', '30': ' Colva Beach: Largest And Oldest Beach  Image Source  This beach is located 33 kilometres away from the Panjim Kadamba Bus Stand and is at a distance of 8 kilometers from the Margao Railway Station  This beach of South Goa is considered to be one of the must-visit tourist attractions  This beach is considered to be the largest and oldest amongst the beaches lying in the southern region of Goa and is also counted amongst the best places to visit in Goa for couples  Location: Colva, Goa What’s Special: Colva Beach is famous for its pubs and bars and all the party lovers must head to this beach to have a lit night!  Suggested Read: Pre-Wedding Shoot In Goa  ', '31': ' Cansaulim Beach: Second Largest Coastline Stretch In India  Image Source  This beach, along with Arossim and Cuelim, form the second largest coastline stretch in the entire country of India  Cansaulim Beach is considered to be an extended part of Velsao Beach and is among the most charming picnic spots in Goa  This particular beach is known for its white sands and various palm trees  It forms a part of the northernmost tip of Velsao Beach, one of the most scenic Goa destinations  If you want to explore the secluded beaches of Goa, then visiting this one is a must   Location: Cansaulim, Goa What’s Special: Click some incredible shots with palm trees in the background and take a long walk around the beach   ', '32': ' Benaulim Beach: Indulge In Water Sport Activities  Image Credit: ELG21 for Pixabay  Located very close to Colva Beach, Benaulim Beach is a great beach with plenty of things to do apart from sitting back and relaxing  Indulge in various water sporting activities like jet skiing, parasailing, and wind surfing  Go on a candlelit romantic beach dinner or enjoy sightseeing froma  range of options – Sernabatim Lake, Ramola Super Market, Sernabatim Beach, Copelwaddo Chapel, St Anthonys Church  It is one of the best places to visit in Goa   Location: Cansaulim, Goa What’s Special: Enjoy candlelit dinners at beach side restaurants like The Farmhouse Restaurant, Li Bai, Dinha’s Restaurant and The Pavilion  Suggested Read: 20 Honeymoon Resorts In Goa  ', '33': ' Dona Paula Beach: Popular For Thrilling Activities  Image Credit: SahilSahadevan for Wikimedia Commons  Counted among the best tourist places to visit in Goa, Dona Paula Beach has a tragic history that is related to both love & suicide  The beach gives a lot of options for sport activities to indulge in for adventurous souls  If you wish to get pretty views of the Arabia Sea then you must head to the jetty that is right next to the beach  Location: Dona Paula Beach What’s special: Watersports like water skiing, windsurfing, parasailing, etc   ', '34': ' Ashvem Beach: Find Your Secluded Spot  Image Credit: Raya Sharbain for Wikimedia Commons  Another one on the list of Goa sightseeing places is Ashvem Beach which can be found in the Mandrem village, North Goa  Tall palm trees lined on an extensive white sand define this beach perfectly  If you are in search of some secluded spots on beaches of Goa then you must visit Ashvem Beach and find your place to relax  You can also relish some lip-smacking seafood from the restaurants on the beach  Location: Ashvem Beach, Goa 403512 What’s special: Try exotic dishes from the shacks on the beach like La Cucina, S2 Beach Shack, Paradise Beach Shack, and Cafe Sea Green Back Shack  Suggested Read: 16 Places To Visit In Goa In May  ', '35': ' Mobor Beach: A Piece Of Heaven  Image Credit: Bistaastha for Wikimedia Commons  You must have heard of Mobor Beach when going through any list of top places to visit in Goa this is because it is one of the most exotic beaches in South Goa  It is thronged by several tourists every year which creates a cool surrounding with people dancing and going crazy over the views  A look at it and you will realize that is a piece of heaven that you were unaware of before  Location: Mobor Beach, Goa What’s special: Do not forget to explore nearby places like Betul Fort & Lighthouse  ', '36': ' Sinquerim Beach: Ideal For Families & Friends  Image Credit: IM3847 for Wikimedia Commons  How can a list of the best Goa tourist places remain complete without Sinquerim Beach in it? So, here is the Sinquerim Beach with an amazing shoreline and perfect views that can make anyone fall in love with this place  If you are traveling with your friends or families, then you must head to this beach which is perfect for swimming and a few water activities  Location: Sinquerim, Candolim, Goa 403515 What’s special: If you are a party person then you must head to the Sinc Nightclub where you can shake your legs with your gang  Suggested Read: 13 Places To Visit In Goa In June  ', '37': ' Querim Beach: Away From The Humdrums Of Citylife  Image Credit: Jo Kent for Wikimedia Commons  Also popular as Keri Beach, Querim Beach lies in the northern region or Goa and is the largest one in the area  You might find popular beaches in Goa thronging with tourists and locals, at that time you can head to this beach and spend some time in calm surroundings  People usually love this place due to its unkempt crops and beaches which is why they are in the purest form which is why it is one of the best places to visit in Goa   Location: Querim Beach, Goa 403519 What’s special: You can also opt for water activities like surfing, paragliding, banana ride, and kayaking  Islands In Goa  If you’re a nature lover, then these islands are your type of places to visit in Goa  Look at the ones listed below and make the most of it!  ', '38': ' Chorao Island: Largest Island In Goa  Image Source  Chorao Island is true to its Sanskrit name meaning ‘Stunning Precious Stone’  From being a mere settlement of Portuguese noblemen, this Goan Island has grown into a quaint place nurturing few church and aged villas  Being the Largest Island in Goa, Chorao Island surpasses 16 other islands in attracting visitors which is why it is one of the top Goa tourist places  Location: Near Panjim, Goa What’s Special: It is amongst the most tranquil places in Goa  Suggested Read: Post-Covid Travel Guide To Goa  ', '39': ' Divar Island: Impeccable Beauty  Image Source  Divar Island is still untouched by commercialization and it has retained much of its originality  One of the best places to visit in Goa with friends, this small village reprises the feeling of visiting Goan countryside  Bonderam is a much talked about festival which sees a huge influx of tourists to Divar Island  Another one of the best tourist places to visit in Goa, this should definitely make to your next Goa itinerary  Location: Mandovi river, Goa What’s Special: Situated across the ever-active Mandovi River, it is easily accessible via ferry from near Viceroy’s Arch and is among the best places to visit in Old Goa   ', '40': ' Grand Island: Offbeat Spot  Image Source  Grand Island is true to its name  It is amongst the most offbeat yet adventurous tourist places in Goa  It offers a grand experience to the lovers of watersports as it is home to excellent Scuba Diving sites  Visiting this island is undoubtedly one of the best offbeat things to do in Goa  Location: Sautavaddo, Calangute, Goa 403516 What’s Special: Suzy’s Wreck, Shelter Cove and Bounty Bay are some of the Scuba Diving sites around Grand Island  Take a day trip to this island in Goa for great snorkelling experience  Suggested Read: 20 Beaches In South Goa  Other Places To Visit In Goa  All the above-mentioned places will make you want to come back to this place  However, when planning your trip here, don’t forget to add the below-mentioned places for a comprehensive fun, ensuring you don’t miss out on anything!  ', '41': ' Archives Museum: Illuminating Hours  Image Credit: StockSnap for Pixabay  The Museum of Goa is housed at a new building at the Patto Plaza near the ourem creek, Panaji and is another one of the best tourist places to visit in Goa  There are about eight thousand interesting artefacts housed in this museum, which makes this place one of the top places to see in Goa   Location: Ourem Road, Rua de Ourém, Mala, Panaji, Goa What’s Special:  The museum is home to over eight thousand interesting artefacts  ', '42': ' Panaji: The Capital City  Image Source  The capital, another popular tourist place in Goa, lies on the southern left bank of the Mandovi River that skirts the town and makes for a beautiful setting  Without a doubt, it’s one of the best places to visit in Goa with family  Panaji is best discovered on foot, as you walk in the old-world lanes, past heritage houses by the market selling an amazing range of goodies  Location: North Goa What’s Special: A boat cruise through the River Mandovi at night is one of the best experiences you’ll ever have on the serene waters of Goa  Suggested Read: Cruise Vacations In India  ', '43': ' Dudhsagar Waterfalls: Enticing Sights  Image Credit: Purshi for Wikipedia  This waterfall is quite famous all over India, owing to the four-leveled falls  Moreover, this is one of the tallest waterfalls in the country  The height of Dudhsagar Waterfalls is 1017 feet and is 100 feet wide (on an average) at the peak  Bhagwan Mahavir Sanctuary is where these falls are lying, almost at the border between Goa and Karnataka  The distance between these falls and Panjim Kadamba Bus Stand is 71 kilometers  Location: Sonaulim, Goa 403410 What’s Special: This is amongst the most refreshing escapes and is ideal to plan a family picnic  ', '44': ' Shri Mangeshi Temple: Major Pilgrimage Site  Image Credit: Aruna for Wikipedia  It is situated at a distance of 37 kilometres from the Vasco Da Gama Railway Station  This temple is considered to be one of the most prominent attractions in North Goa  It is one of the must-visit places in Goa, as it is a major pilgrimage site here  The temple is also considered to be the largest and richest Hindu shrines in the Indian state of Goa  Thus, Shri Mangeshi Temple is definitely one of the must-visit places in Goa   Location: Dinanath Mangeshkar Rd, Mangeshi Village, Mardol, Goa 403401 What’s Special: This is amongst the prominent religious sites  Suggested Read: New Year Parties In Goa  ', '45': ' Shri Shantadurga Temple: Spiritual Visit  Image Credit: Nkodikal for Wikipedia  This temple is one of the biggest and most frequented temples in Goa  As the name suggests, this temple is devoted to Shantadurga – the Goddess of Peace  On a less formal note, the Goddess is also referred to as Santeri  This temple is one of the prominent locations in North Goa  Hence, if you seek divinity, visit this iconic temple  Location: Kapileswari – Kavlem Rd, Donshiwado, Ponda, Goa 403401 What’s Special: The temple is popular amongst locals  ', '46': ' Shri Mahalaxmi Temple: Celebrate Auspiciousness  Image Credit: Deepak Patil for Wikimedia Commons This temple is located in Bandora Village and lies at a distance of 4 kilometers from Ponda  It has been established in devotion to Mahalaxmi, the consort of Lord Vishnu  The highlight of this temple is that the idol of Devi has been depicted wearing linga on her head  Location: Mushtifund Saunthan Panaji, Dada Vaidhya Road, Panaji, Goa 403001 What’s Special: The religious site that welcomes pilgrims throughout the year  Suggested Read: 9 Best Islands Of Goa  ', '47': ' Candolim Beach: Hub Of Adventure Freaks  Image Credit: Jasir Hamim for Wikimedia Commons  Another beautiful place to visit in Goa is Candolim Beach  This is a hub of adventure freaks holidaying here in Goa as it offers an array of daring water sports  You can even rent out a scooter here and drive with your friends to Fort Aguada which is located on the other side of Calangute Beach  You can also relax by the beach or capture the mesmerizing views of sunsets and sunrises in your camera  Location: Calangute Beach What’s Special: Mesmerizing views of sunsets and sunrises  ', '48': ' Tito’s Street: Best Nightlife Experience  Image Source  Tito’s Street is home to some of the most electrifying clubs in Goa  The place offers you an array of clubs in the prime location of Goa  Once the sunsets, you will see numerous party freaks in the town heading to Tito’s Street to have the best nightlife experience of Goa  The place also offers scrumptious delicacies and is a heaven for shopaholics staying in Goa!  Location: Titos Ln, Baga What’s Special: Scrumptious delicacies  Suggested Read: Hotels In Panjim  ', '49': ' Palolem Beach: Gorgeous Escape  Image Credit: Nico Crisafulli for Wikimedia Commons  Palolem Beach in Goa is amongst the most gorgeous beaches in Goa  During day time, the beach gets crowded with numerous hawkers offering delicious seafood and other decorative items  This is a significant Goa tourist attraction and offers mesmerizing views  If you are a nature-lover and love experience the true vibe of the destination you are visiting then you must surely head to this beach on your Goa vacation  Location: Market town of Chaudi in South Goa What’s Special: Mesmerizing views  ', '50': ' Casino Cruise: Enthralling Experience  Image Source  If you are on a luxurious holiday to Goa then you must surely visit Casino Cruise  This stay will give a Vegas-touch to your enthralling vacation in Goa  The cruise is docked on a popular river in Goa and this well-fitted posh furnishing cruise offers spellbinding views during day and come to life at 9 pm when the DJ night starts and continues till 3 am in the morning  It is one of the must-visit places in Goa   Location: NA What’s Special: Luxurious getaway  Suggested Read: 5 Guest Houses In Panjim  ', '51': ' The Church Of Our Lady Of Immaculate Conception: Peaceful Hours  Image Credit: Ronit ghosh04 for Wikimedia Commons It is amongst the most visited churches in Goa and this beautiful church stands tall in the capital city of Goa  The church was established in the year 1541 as a chapel and later in the year 1619 the larger building was constructed  The church played a significant role in day-to-day life of Old Portuguese sailors and has always remained a significant landmark in the history of Goa  Its multicolored interior is one of its kinds and imparts peace and delight to its visitors  Location: Rua Emídio Garcia, Altinho, Panaji, Goa 403001 What’s Special: Exclusive architecture  ', '52': ' Club Cubana: Dazzling Ambiance  Image Credit: Pexels for Pixabay  Club Cabana is amongst the most popular clubs in Goa and is known for its amazing nightlife experiences  They call themselves the “Nightclub in the Sky” and offer parties that will surely take your vacation to the next level! If you are a party-animal holidaying in Goa and looking for the most electrifying party then you must surely head to Club Cabana with your friends or travel partner!  Location: Aguada – Siolim Rd, Arpora, Goa 403507 What’s Special: One of the best nightclubs in Goa  Suggested Read: 3 Days In Goa  ', '53': ' Lamgau Caves: Interesting Man-Made Cave  Image Credit: Tama66 for Pixabay  Looking for some popular North Goa tourist places? Lamgau caves can be a good pick  This man-made cave is very interesting and is visited by people from across the world  It is an important place for the Hindu community and not only it is a great tourist destination but also a renowned educational and cultural sites  Location: Bicholim, North Goa What’s Special: An interesting man-made cave  ', '54': ' Arvalem Waterfall: Well-Known Scenic Waterfall  Image Source  Not as enormous as the Dudhsagar waterfalls but Arvalem Waterfall is also one of the best places to visit in Goa  Visiting this attraction during the monsoon months is the best time to enjoy the splendid sight  Participate in the activities located close by  To reach this gorgeous attraction, there is a lot of transportation available from Panaji  Location: Mapusa, North Goa What’s Special: Amongst the most splendid sights in Goa  Further Read: Goa vs Gokarna  Best Places To Visit In Goa  Goa is indeed a paradise for the water sports and fun-filled activities  You will be basking in the beautiful sunshine and engaged in doing adventurous activities like kite surfing, knee boarding, parasailing, paragliding, kayaking, diving and snorkelling  There are innumerable tourist attractions in Goa for a short vacation or weekend getaways  If you are planning well in advance then you can plan your Goa trip on New Year or Goa Carnival festival which are two of the most amazing times  When in Goa, plan to chill in one of the trendy bars, elegant cafes, beach shacks  Tourists can even plan to enjoy discos and clubs with friends  Come, experience Goa life and get amazed with what exotic it has to offer and that too within your budget  Have you ever imagine there is so much in Goa? Hurry up and pack yourself for such an amazing trip  All the tourist places in Goa mentioned above will ensure you get a glimpse into the nature, culture, and history of this state  A visit to a great number of places, ranging from beaches to temples will make sure your trip to Goa will turn out to be a fulfilling travel experience  For our editorial codes of conduct and copyright disclaimer, please click here  Frequently Asked Questions about Tourist Places in Goa  How many days are enough for Goa?  No set number of days is enough for Goa, as it is the kind of destination that one wouldn’t want to come back from  But if one is planning a trip here then they should at least plan a trip for 6-7 days  What are the best places to visit in Goa in 3 days? In 3 days in Goa, you can explore the beaches of North Goa, like Baga and Anjuna, visit historic sites in Old Goa, and enjoy the vibrant nightlife in areas like Calangute and Candolim   Which part of Goa is best for tourists? The northern part of Goa is ideal for tourists, offering a mix of stunning beaches, historical attractions, and a lively atmosphere  On the other hand, South Goa is a peaceful haven for tourists with its pristine beaches, culture, and serene environment, perfect for those seeking a more relaxed experience  What is the off-season in Goa? May to September marks the off-season in Goa when the weather is hot but the beach town is comparatively less crowded  You’ll find all Goa tourist places to be almost empty and hotel prices will be at their lowest  Is South Goa better than North Goa?  South Goa is comparatively serene and calm  The beaches in South Goa are less crowded as North Goa is famous as the party hub  If you are a sucker for a peaceful environment, then South Goa is the ideal place for you  Is Goa good for a family trip? Although Goa is famous as a place to visit with friends or on a honeymoon, one can totally plan a family trip to this happening destination  Goa offers various intriguing adventures that you can enjoy with your family  What are the best clubs in Goa?  Some of the clubs that one should visit in Goa are Tito’s Bar and Club (Baga), Club Cubana (Anjuna), and LPK (Love, Passion, Karma) Waterfront (Nerul)  If you visit North Goa, then you can find more nightclubs to visit during your tour  Which church is famous in Goa?  Some of the churches that one must visit on a trip to Goa are:  Basilica of Bom Jesus (Bainguinim)  Church of Our Lady of Immaculate Conception (Panaji)  Church of Our Lady of the Mount (Ella)  Se Cathedral (Velha)  Mae De Deus Church (Saligao)  Is Ola service available in Goa? No, Ola or Uber isn’t available in Goa but one can download the app of GoaMiles, an initiative by Goa tourism, for taxi services to get around and see all the major Goa destinations  You can also hire a vehicle which you can use for commuting in Goa  Looking To Book A Holiday Package?     Spellbinding Cochin Family Tour 2D/1N Package @ Rs 2,750  Plan your trip today! Book Now        Himachal Family Tour Package 4D/3N @ Rs 8,750  Get quotes from multiple travel experts  Book Now        Exciting Andaman Family Trip 5D/4N @ Rs 10,250  Compare & customize quotes before booking  Book Now        Gangtok & Darjeeling Tour Package 5D/4N @ Rs 13,000  Have Questions? Talk to our travel experts today  Book Now        Wonderful Goa Family Package 3D/2N @ Rs 6,500  Best prices guaranteed  Book Now        Riveting Rajasthan Vacation 3D/2N Package @ Rs 6,499  EMI option available  Book Now        Enchanting Uttarakhand Tour 4D/3N Package @ Rs 7,199  Explore best destinations with our experts  Book Now        Delightful South Weekend Tour 3D/2N Package @ Rs 4,999  Thrilling weekend full of fun  Book Now        Marvelous Gujarat Tour 3D/2N Package @ Rs 4,999  Talk to our experts today  Book Now     See more at TRAVELTRIANGLE COM  Visit Website     < >  People Also Read  Places To Visit In Uttarkashi Places To Visit In Panchgani Places To Visit In Thekkady  PREVIOUS POST NEXT POST Category: Goa, Places To Visit Follow Us On:   Goa Holiday Packages  6% Off  ₹ 14893  ₹ 13999  per person  Goa 5 Days Package  5D & 4N  Goa  Upto 3 Stars  Meals  Sightseeing  Stay Included  Transfers  Customize & Get Quotes  8% Off  ₹ 7608  ₹  per person  Glorious Goa Tour Package  3D & 2N  Calangute  Upto 3 Stars  Meals  Sightseeing  Transfers  Customize & Get Quotes  9% Off  ₹ 7692  ₹ 7000  per person  Exciting Goa Sightseeing Tour Package  3D & 2N  Goa  Upto 3 Stars  Meals  Sightseeing  Stay Included  Transfers  Customize & Get Quotes  9% Off  ₹ 7692  ₹  per person Best Selling Goa Holiday Packages For A Fantastic Trip In 2023  3D & 2N  Goa  Upto 3 Stars  Meals  Sightseeing  Stay Included  Transfers  Customize & Get Quotes  8% Off  ₹ 9782  ₹  per person  Goa Tour Package For 2 Persons  3D & 2N  Goa  Upto 3 Stars  Meals  Sightseeing  Stay Included  Transfers  Customize & Get Quotes  8% Off  ₹ 10869  ₹ 9999  per person  Goa Packages For Friends  4D & 3N  Goa  Upto 3 Stars  Meals  Sightseeing Stay Included  Transfers  Customize & Get Quotes  11% Off  ₹ 11235  ₹  per person  Dazzling Goa Tour Package  4D & 3N  Candolim  Upto 3 Stars  Meals  Sightseeing  Transfers  Customize & Get Quotes  8% Off  ₹ 11086  ₹ 10199  per person  Goa Tour Package For 4 Persons  3D & 2N  Goa  Upto 4 Stars  Meals  Sightseeing  Stay Included  Transfers  Customize & Get Quotes  9% Off  ₹ 12637  ₹  per person  4 Days Goa Package From Kolkata  4D & 3N  Goa  Upto 4 Stars  Meals  Sightseeing  Stay Included  Transfers  Customize & Get Quotes  9% Off  ₹ 12637  ₹ 11500  per person  A Goa Tour Full of Fun n Frolic  4D & 3N  Goa  Upto 3 Stars  Meals  Sightseeing  Stay Included  Transfers  Customize & Get Quotes  6% Off  ₹ 14893  ₹  per person  Goa 5 Days Package  5D & 4N  Goa  Upto 3 Stars  Meals  Sightseeing  Stay Included  Transfers  Customize & Get Quotes  8% Off  ₹ 7608  ₹ 6999  per person  Glorious Goa Tour Package  3D & 2N  Calangute  Upto 3 Stars  Meals  Sightseeing  Transfers  Customize & Get Quotes Previous Next Recent Posts  Things You Should Know Before Visiting Sathorn Unique Tower  Going On A Kudremukh Trek One Of The Most Beautiful Trek In Karnataka  A Complete Guide To Visit Muang Boran Ancient City  Trending Blogs  20 Mysterious Places In India To Visit In 2024 More Bizarre Than The Bermuda Triangle  Scariest Roads In India That Are A Driver’s Nightmare  101 Places To Visit In India Before You Turn 30 in 2024  Best Places To Visit In India By Month  Jan    Feb    Mar    Apr    May    Jun    Jul     Aug    Sep    Oct    Nov    Dec  Best Places To Visit Outside India By Month  Jan    Feb    Mar    Apr    May    Jun    Jul     Aug    Sep    Oct    Nov     Dec  TravelTriangle>Blog>India>Goa»>55 Best Tourist Places To Visit In Goa For A Splendid 2024 Vacay Packages By Theme Domestic Tour Packages Packages From Top Cities Domestic Tourism Guide Top Domestic Hotels Our Story About us Team We are hiring! Get Inspired Testimonials Blog Travelogues Policies Terms and Conditions Privacy Policy More FAQs Contact Us RSS Feeds  Corporate Office  Holiday Triangle Travel Private Limited  Address: Plot No - 52 , 3rd Floor,  Batra House , Sector 32,  Gurugram -122001,Haryana  Landline: 1800 123 5555   1800 123 5555  customercare@traveltriangle com  All rights reserved © 2024  Attractions:   Popular Cities:   Tours: '}, 1: {'0': ' Tokyo – Essence Of Japan  Image Source  Tokyo is the city that reflects the colors of Japan  In Japan, places to visit are endless, and exploring everything in one trip would always be impossible  But, the popular city of Tokyo still deserves the top spot in your itinerary, thanks to its anime culture and world-class attractions  And if the historical sites don’t impress you much, the city has also got a great culinary scene! This is undoubtedly amongst the best places to visit in Japan for first timers  Top Attractions:  Tokyo Disneyland Tokyo Skytree Tokyo DisneySea  Best Things To Do:  Spend an evening near the Tokyo Tower in Japan Shop in Odaiba Witness the grandeur of the Meiji Shrine  Places to stay:  Guest House Trace Manga Art Hotel Khaosan Tokyo Samurai  Places to eat:  Tapas Molecular Bar Ise Sueyoshi Sometarō  How to reach: Tokyo is very well-connected by airways to the rest of the world, so plenty of airlines from India connect to the Narita Airport  Must Read: Christmas In Japan  Looking To Book An International Holiday?     Trip to Sri Lanka at Rs 13,500/-  Plan Your Vacation Today! Book Now        Trip to Singapore at Rs 20,499/-  Get Quotes From Local Experts  Book Now        Mauritius Holiday Starting at Rs 65,000/-  Talk to Our Experts Today  Book Nowk Maldives Honeymoon Trip at Rs 39,800/-  Pay with easy EMI Option  Book Now        Europe Trip at Rs 89,999/-  All Inclusive Deals  Book Now        Vacation in Dubai at Rs 27,499/-  Book Now!! Book Now        Hong Kong Holiday at Rs 24,999/-  Money Safe Guarantee  Book Now        Thailand Holiday at Rs 7,999/-  Flights Excluded  Book Now        See more at TRAVELTRIANGLE COM  Visit Website     < >  ', '1': ' Kyoto – Sacred And Serene  Image Credit: veronica111886 for Pixabay  The city of shrines, gardens & palaces! Of all the major Japan destinations, the sacred city of Kyoto is one of the best places to visit in Japan in spring irrespective of whether you are holidaying with your family or your partner  The iconic temples, shrines, palaces, gardens, and bamboo forests are a treat to the eyes, and you cannot afford to miss it on your first trip  Top Attractions In Kyoto:  Kyoto Imperial Palace Philosopher’s Walk Fushimi-Inari Taisha Shrine  Best Things To Do In Kyoto:  Visit the Kiyomizu Temple Explore the Nijo Castle Visit the famous Kinkaku-ji  Places to stay:  Village Kyoto Downtown Inn Kyoto Santiago Guesthouse Kyoto  Places to eat in Kyoto:  Samurai Juku Sugarhill Kyoto Saishuan Shiraki  How to reach: Osaka International Airport is the closest airport in Kyoto which is approximately 1 hour from the city   ', '2': ' Nara – City Of Culture  Image Source  Home to adorable deers, temples & more! No list of the top Japan attractions can ever be complete without including Nara in it  Home to many shrines, monasteries, museums, and the famous Nara Park, this city is where you need to be to get familiarized with the famed Japanese culture and traditions  It definitely features on the list of unmissable places to visit in Japan  Top Attractions:  Nara Park Kasuga-taisha Ninja Museum of Igaryu  Best Things To Do:  Visit the Isuien Garden Befriend the deers at the Nara-koen Park Explore the Nara National Museum  Places to stay:  Smile Hotel Nara Super Hotel Lohas JR Nara Eki Guesthouse Nara Komachi  Places to eat:  Kameya Kura Tonkatsu Ganko Nara  How to reach: Kansai International Airport is the closest airport to Nara and it takes around 1 and half hours to reach Nara   Suggested Read: Japan Travel Guide  ', '3': ' Mt Fuji – A Breathtaking Marvel  Image Credit: kimura2 for Pixabay  The paradise for adventure seekers! Renowned around the world for offering the most thrilling experience in Japan, Mt Fuji is the ultimate place to visit and definitely one of the most romantic places in Japan  While the official climbing season begins from July and ends in September, you can witness the beauty from a distance throughout the year  It is one of the best places to visit in Japan for young adults  Needless to say, this place ought to be on your list! Top Attractions:  Mount Tenjo Chureito Pagoda Fujiyoshida Sengen Shrine  Best Things To Do:  Go for skiing Visit the Arakurayama Sengen Park Enjoy the views of Mt Fuji from the Subashiri 5th Station  Places to stay:  Hatago Ichiya Bself Fuji Villa Hotel Mount Fuji  Places to eat:  Hoto Fudou Tempura Restaurant Ninja Tetsuyaki  How to reach: The nearest airport to Mount Fuji is the Shizuoka Airport which is 83 5 km away  You can hire a cab or take bus to  reach Mt Fuji   ', '4': ' Hokkaido – Closer To Nature  Image Credit: fisag for Pixabay  The abode of natural hot springs! Popular for its volcanoes, hot springs, and ski areas, this gorgeous Japanese island looks right out of a picture book  And it is because of its various attractions & experiences that it is an impeccable place to holiday with both your kids and significant other  Be it the beauty of the Blue Pond or the Zoo, you’d be left mesmerized  It is one of the most ideal places to visit in Japan during summer  Top Attractions:  Asahiyama Zoo Farm Tomita Blue Pond  Best Things To Do:  Relax in the hot spring Treat yourself with scrumptious seafood Visit the famous national parks  Places to stay:  Yorkshire Farm Hotel Park Hills Hokkaido Puremiahoteru – CABIN – Obihiro  Places to eat:  Daruma Hokkaido Cafe Hokkaido Ramen Kyowakoku  How to reach: New Chitose Airport Sapporo is the closest airport to Hokkaido  You can find local taxis and cabs for a ride  Suggested Read: 10 Most Alluring Homestays in Japan  ', '5': ' Ishigaki – Exotic Destination  Image Credit: MarcelloRabozzi for Pixabay  The most trending travel spot in Japan! Voted as the most trending travel spot for 2024, the Ishigaki Island is definitely amongst the best places to visit in Japan  Despite its size, the island has no limit when it comes to offering unique experiences to its tourists, and glamming up their holiday in the Japanese land  It has been also voted as the best places to visit in Japan in cherry blossom season  Top Attractions:  Kabira Bay Taketomi Island Ishigaki Limestone Cave  Best Things To Do:  Indulge in snorkeling Relax on the beaches Savour the Ishigaki Beef  Places to stay:  Ishigaki Guesthouse HIVE Blue Cabin Ishigakijima Ishigaki Seaside Hotel  Places to eat:  Sushi Taro Usagiya Akebono  How to reach: The Ishigaki Airport is the closest, just 18 km away  Local buses and taxis are available   ', '6': \" Hiroshima – Historically Significant City  Image Credit: chaliceks for Pixabay  The city that beautifies Japan’s landscape! In spite of being known around the world for being a victim of the horrendous atomic bombings, Hiroshima continues to be one of the major places to see in Japan  And believe us, apart from the dedicated monuments and sites that reflect the history, the city also has other spellbinding attractions like the Itsukushima shrine  This is the most popular places in Japan  Top Attractions:  Hiroshima Peace Memorial Park & Museum Hiroshima Castle Itsukushima  Best Things To Do:  Try Okonomiyaki, the local delicacy Visit the Mazda Museum Capture pictures at the Shukkeien Garden  Places to stay:  K’s House Hiroshima Grand Prince Hotel Hiroshima Court Hotel Hiroshima  Places to eat:  Parco della Pace Guttsuri-ann Nagataya  How to reach: Iwakuni and Matsuyama airport are located 70 km away  Hire a cab, taxi or local bus to reach your destination  Suggested Read: Godzilla Theme Park In Japan  Planning your holiday but confused about where to go? These travel stories help you find your best trip ever!  Ramya Narrates The Story Of 6 Girls On An Extraordinary Trip To Thailand  Bangkok  Phi Phi  Krabi  Why should guys have all the fun? Read More     Sandeep Illustrates On The Best Activities For A Family Trip To Mauritius  Water sports  Cocktail parties  And unlimited fun at Casela  Read More     Nisarg Can't Stop Praising His Honeymoon Trip To Maldives There was snorkeling, sightseeing, luxury, comfort, & much more! Read More     Sabyacsachi's Romantic Trip Proves Europe To Be The Mother Of All Vacations  For Art, Culture, Luxury, & more    Read More     Srishti Talks Of Her Amazing Trip To Singapore With Her Mother & Niece  A fun-filled destination for ages indeed! Read More     67-Year Old Sridhar Tells How He Beat The Odds & Took A Solo Trip To Dubai  Desert safari  Burj Khalifa  Welcoming locals  Tell me more! Read More     Not Adventure Lovers? Saurabh's Family Trip Proves Hong Kong To Still Be Full Of Fun  Your kids will love Disney Land & Ocean Park! Read More     Ravi's Tale Of A Sri Lanka Family Tour Is All You Need To Know About Ramayana Tour  For the love of Ramayana & Travel! Read More     See more at TRAVELTRIANGLE COM  Visit Website     < >  \", '7': ' Sapporo – Forget The Heat And Humidity  Image Credit: chaos_sun for Pixabay  A haven for beer and ski lovers! With cities like Sapporo, ‘what to see in Japan’ would never be your top concern  The city not only helps you escape the heat and humidity but also help you discover your winter wonderland during its famous Sapporo Annual Snow Festival  If not the gardens, then the huge snow sculptures would definitely steal your heart! This is one of the best places to see in Japan with family! Top Attractions:  Moerenuma Park Former Hokkaido Government Office Mount Moiwa Observation Deck  Best Things To Do:  Visit the Sapporo Beer Museum Party in Susukino Indulge in local delicacies at the Curb Market  Places to stay:  The Stay Sapporo Relief Sapporosusukino Hotel Tmark City Hotel Sapporo  Places to eat:  Gotsubo Oyster Bar Hyousetsu No Mon Sapporo Beer Garden  How to reach: New Chitose Airport Sapporo is the closest 53 km away  Local taxis and cabs are in abundance to drop you at your destination  ', '8': ' Osaka – A Cultural Delight  Image Credit: 663highland for wikipedia  With the best shopping arcades, eateries that offer incredible food, and the top nightlife hotspots in the city, Osaka is one of the major places to go in Japan  Believe us, it would not only pamper the foodie or party lover in you, but also the die-hard tourist who loves witnessing the wonders of every place he or she visits  This is most preferred places to visit in Japan for first timers! Top Attractions In Osaka:  Universal Studios Japan Osaka Castle Dotonbori  Best Things To Do In Osaka:  Visit the Kaiyukan Aquarium Visit the Hozenji Temple Go beer tasting and partying at night  Places to stay:  Hotel Taiyo Hotel Fine Garden Juso APA Hotel Osaka Higobashi Ekimae  Places to eat in Osaka:  Osaka Tacos Giga Rabbit Curry Yakumido  How to reach: Kansai International Airport and Osaka International Airport are the nearest airports to Osaka  You can find taxis from the airport to reach your destination  Suggested Read: This Hidden Forest House In Japan  ', '9': ' Yakushima – Naturally Gifted  Image Source  An island of magical waterfalls! An island in Kagoshima Prefecture, Yakushima is famous for its wildlife, cedar forests, and waterfalls  If you’re someone who loves venturing into the wild for an experience of a lifetime, then this best place to visit in Japan is absolutely worth your time  Top Attractions:  Senpirono Falls Jōmon Sugi Mt Miyanoura  Best Things To Do:  Kayaking or canoeing in Anbo river Witness the Oko-no-taki Waterfall Watch the Loggerhead turtles lay eggs  Places to stay:  Seaside Hotel Yakushima Guesthouse Yakushima  Places to eat:  Yakushima Curry House Panorama Wakadaisho  How to reach: Tanegashima airport is the closest to the city  Hire a cab, taxi or local bus to reach your destination  ', '10': ' Hakuba – For Adventurous Activities  Image Source  The ultimate winter wonderland! Situated amidst the Japanese Alps, right outside the city of Nagano, Hakuba is a village cum famous winter sports hub  The various mountain resorts that offer incredible skiing, snowboarding, and hiking experiences make the city a perfect place for including it into your Japan sightseeing tour  Undoubtedly, it is considered to be one of the most famous places in Japan  Top Attractions:  Mt Shirouma Hakuba Happoone Winter Resort Lake Aoki  Best Things To Do:  Ski at the Cortina Resort Visit Hakuba 47 Winter Sports Park Hike to the Happo Pond  Places to stay:  Courtyard by Marriott Hakuba Morino lodge Hakuba Highland Hotel  Places to eat:  Raicho Lodge Madarao B O S Izakaya Kaz  How to reach: Tokyo’s Narita and Haneda Airports are the closest international airports  Local taxis and cabs are in abundance to drop you at your destination  Suggested Read: Solo Travel In Japan  ', '11': ' Kamakura – Where The Buddha Resides  Image Credit: PublicDomainPictures for Pixabay  The Kyoto of eastern Japan! In Japan, points of interest might vary depending on the type of traveller you are  But it’s quite the opposite when it comes to the seaside town of Kamakura  Boasting bamboo groves, ancient temples, vibrant beaches, great shopping alleys, and lip-smacking local delicacies, this town has everything that would amuse you  So, you must add this destination to the list of places to visit in Japan near Tokyo itinerary  Top Attractions:  Enoshima Aquarium Kamakura Museum of Literature Kannon Museum  Best Things To Do:  Witness the Great Buddha of Kamakura Go surfing at Shonan Beach Visit the Jufukuji Temple  Places to stay:  Kamakura Park Hotel 8HOTEL WeBase Hostel  Places to eat:  Kebab Kamakura Sometaro Miyoshi Udon-noodle & Sake  How to reach: Tokyo Haneda Airport is the closest to Kamakura  You can find taxis from the airport to reach your destination   ', '12': ' Nagano – Great For Family  Image Credit: Nihonsuku for wikipedia  You cannot miss one of the best places to visit in Japan on your vacation which is the tropical retreat to beat the heat  Located in the heart of central Japan, Nagano is home to a lot of hidden gems like the Ninja Village for kids, Shiga Kogen Ski Resort, and Zenko-ji Temple which make it a perfect place for all the types of travellers  But, what makes it more exclusive is the pleasant breeze that surrounds the city throughout the year  You cannot miss one of the best places to visit in Japan on your vacation  Top Attractions:  Karuizawa Matsumoto Castle Kamikouchi  Best Things To Do:  Visit the Zenko-ji Temple Enjoy winter sports at Shiga Kogen Heights Ski Resort Rejuvenate at Shirahone Onsen  Places to stay:  Hotel Metropolitan Nagano Hotel JAL City Nagano Hotel Mielparque Nagano  Places to eat:  Nihonmatsu Ramen Misoya Shinshu nagaya sakaba  How to reach: The nearest airport to Nagano is Matsumoto Airport which is 58 km away  Local buses and taxis are available that comfortably take you to your destinaion  Suggested Read: Camping In Japan  ', '13': ' Kawaguchi – Beautiful Landscapes  Image Source  Japan’s most natural wonder! While this city in Japan is more famous for its Lake Kawaguchiko and the breathtaking views of Mt Fuji in the front, it is equally known for being a paradisiacal gem for the culture vultures  The vibrant vibes and attractions of all types undoubtedly make it a great spot to tick off your bucket list  Top Attractions:  Lake Kawaguchiko Fujiten Snow Resort Oshino Hakkai  Best Things To Do:  Attend the Shibazakura Festival Paddle Around Lake Kawaguchiko Sip on Koshu Wine  Places to stay:  Smile Hotel Kawaguchi Wa Style Hotel Tokyo Kawaguchi Station Hotel  Places to eat:  Kaenzen Restaurant Kawaguchi Itsumo Korean Restaurant Pusan Korean Restaurant  How to reach: Tokyo Haneda Airport is the nearest airport  You can find taxis from the airport to reach your destination   ', '14': ' Takayama – Away From City Life  Image Source  The town with an old-world charm! Nestled high up in the mountains of Gifu, Takayama is amongst the top 15 places to visit in Japan  If you’re looking for an ultimate retreat away from the bustling city life, this is where you need to go  With stunning attractions all around the city, you can experience the charm of old Japan quite easily here  Top Attractions:  Hida no Sato Takayama Festival Floats Exhibition Hall Sanmachi Suji District  Best Things To Do:  Go back in time at Takayama Jinya Stay in a farmhouse Attend the Takayama Festival  Places to stay:  Takayama Ouan Ryokan Tanabe Best Western Hotel Takayama  Places to eat:  Heianraku Suzuya Restaurant Kyōya  How to reach: The nearest airport to Takayama is Toyama Airport which is 57 km away  Local taxis and cabs are in abundance to drop you at your destination  Suggested Read: 7 Best Indian Restaurants In Japan  ', '15': ' Shibuya – A Bustling City  Image Credit: cegoh for Pixabay It is said that Shibuya has an impressive 2 8 million footfall on a regular weekday  This is so because not only does this place have a spectacular crossing or as they say, ‘scramble crossing’ which is surely nothing less than a sight to behold, it also has multiple shopping places with really cool clothing brands of Tokyo  This makes Shibuya a top place for shopping in Japan  One of the main shopping places include the famous 109 shopping mall which is located in close proximity to the train station of Shibuya  Top attractions:  Meiji Jingu Yoyogi Park Omotesandō  Best things to do:  Enjoy the nightlife at Roppongi Treat your shopping craving with Takeshita Street Witness mesmerizing views with Roppongi Hills  Places to stay:  Mustard Hotel Shibuya Shibuya Hotel En Shibuya Excel Hotel Tokyu  Places to eat:  Uobei Ichiran Shibuya Hakushu Teppanyaki  How to reach: Haneda Airport is conveniently located from the city  You can find taxis from the airport to reach your destination   ', '16': ' Naoshima – Lush-Green Island  Image Source  A tiny island beautifully set amidst the Seto Inland Sea, Naoshima offers a perfect weekend escapade from Tokyo  There’s no shortage of art museums, sculptures and modern architecture woven into the various attractions of the island  Since it’s a long journey to the island, it is best if you plan to stay there overnight just to get enough of the bliss and peace that the place has to offer  Naoshima is also considered as one of the best destinations for camping in Japan  Top attractions:  Lee Ufan Museum Benesse House Naoshima Bath  Best things to do:  Get ready to witness the fine work of Tadao Ando at Chichu Art Museum Visit Kojin Island for some peace and quiet Witness the splendid nature’s charm in Labyrinth of Cherry Blossom  Places to stay:  SPARKY’s House Benesse House Hotel Park Building inn Hoshikuzu  Places to eat:  apron cafe Cafe Salon Nakaoku Issen  How to reach: The nearest airport to Naoshima is Takamatsu Airport which is 27 km away  Hire a cab, taxi or local bus to reach your destination  Suggested Read: Kyoto Castles  ', '17': ' Asakusa – For Parties And More  Image Source  Crowned as the cultural hub of Tokyo, Asakusa has a combination of things to do and multiple places to go to for different kinds of travellers  One of the good places to visit in Japan includes the Asahi Beer Hall which is like a gem for all party-goers who wish to try amazing booze in Japan  You can also try the Nakamise shopping block for a wild shopping spree in Japan  Top attractions:  Asakusa Shrine Amuse Museum Hanayashiki Amusement Park  Best things to do:  Experience blessed vibes at Sensō-ji Have a unique gaming time at Escape Game Nazobako Tokyo Visit Kappabashi-dori for the various topnotch restaurants  Places to stay:  Asakusa View Hotel Red Planet Tokyo Asakusa Smile Hotel Asakusa  Places to eat:  Sometarō Kikkō Ramen-tei Asakusa  How to reach: The nearest airport to Asakusa is the Tokyo Haneda airport  Keisei Skyliner operates a train from Tokyo Narita to Asakusa hourly   ', '18': ' Akihabara – Perfect City Life  Image Courtesy: goodfreephotos com  Known as the ‘world’s geek capital’, Akihabara is famous for having a vast category of video and computer games on the planet  One of the main cafes of the like in this region is fantastical Akihabara, that will offer you a fun and engrossing gaming experience  Make sure you look out for the ones which are safe enough and not hoax in any form  You might not want to miss one of the best places to visit in Japan  Top attractions:  Tokyo Anime Center Ryōgoku Edo Noren Ginza Line Crossing  Best things to do:  Shop at 2k540 Aki-Oka Artisan Witness endless lush greenery at Chidorigafuchi moat Rent a bike and tour the place on your own  Places to stay:  APA Hotel Akihabaraeki Denkigaiguchi Akihabara Washington Hotel Keikyu EX Inn Akihabara  Places to eat:  Kyushu Jangara Ramen Akihabara Tempura Hisago Tonkatsu Marugo  How to reach: The nearest airport to Asakusa is the Tokyo Haneda airport  You can find taxis from the airport to reach your destination  Suggested Read: 7 Japan Hill Stations  ', '19': ' Odaiba – For A Rejuvenating Experience  Image Source  Further ahead of Rainbow Bridge, the magnificent island of Odaiba has exquisite shopping centres which also boast of a Ferris wheel inside  What else can you wish for in Japan? Another reason for the fame of this place is the installation of a Gundam statue right outside of Diver City Mall, which literally seems to be alive! Having a theme park on board, this place is nothing less than a perfect spot for your vacation in Japan! Top attractions:  Daikanransha Ferris wheel Seaside Park Yurikamome train  Best things to do:  Indulge in a fine sushi experience at the sushi bars Shop at Aqua City for a unique experience Spot a few fun robots at Miraikan science museum  Places to stay:  Hilton Tokyo Odaiba Grand Nikko Tokyo Daiba Hotel Trusty Tokyo Bayside  Places to eat:  KUA`AINA Odaiba Gonpachi Odaiba Zest Cantina  How to reach: The nearest airport to Asakusa is the Tokyo Haneda airport  Local taxis and cabs are in abundance to drop you at your destination   ', '20': ' Kabukicho – Nightclubs And More  Image Source It is indeed not strange for a place to have several neon signs  So, when you plan to visit Kabukicho, don’t be surprised to spot a few too many here  One of the main red-light areas of Japan, this place is famous for various adult indulgences and has many pubs with the same themes for all tourists passing by  Make sure you visit Shinjuku for an extraordinary virtual gaming experience here  Top attractions:  Robot Restaurant Shinjuku Golden Gai Museum of Haiku Literature  Best things to do:  Try various fun rides at VR Zone Shinjuku Watch a Tokyo Robot Evening Cabaret Show Get to know more about Haiku at Museum of Haiku Literature  Places to stay:  APA Hotel Higashi Shinjuku Kabukicho Shinjuku Granbell Hotel  Places to eat:  Oedo Ayatori Robot Restaurant Kuriya  How to reach: The nearest airport is located in Tokyo i e the Tokyo International Airport, 18 miles from the city  Local buses and taxis are available that comfortably take you to your destination  Suggested Read: 25 Things To Do In Japan  ', '21': ' Ueno Park – For A Breath Of Fresh Air  Image Source  Having an array of diverse options in one place, Ueno Park in Tokyo is the place to be if you wish to visit a prominent tourist destination in Japan  Whether you’re an history buff or not, an ancient black market like the one found in Ameya Yokocho will give you chills down the scene due to its authenticity and extraordinary fun vibes  Don’t forget to tour Yanaka if you are looking for places to explore in Japan with cultural and historic past  Top attractions:  Tokyo National Museum Ueno Zoo Kaneiji Temple  Best things to do:  Try Hanami to respect and experience one of the traditions of Japan Visit National Museum of Nature and Science Experience bliss and serenity at Ueno Toshogu Shrine  Places to stay:  Ueno Hotel Candeo Hotels Ueno Koen APA Hotel Keisei Ueno-Ekimae  Places to eat:  Inshotei Khana Pina Ueno Izuei Umekawa-tei  How to reach: Tokyo Haneda Airport is the closest to Ueno Park  Hire a cab to reach the park   ', '22': ' Yokohama – Charming And Vibrant  Image Source  Having so many thrilling adventures and simply fun things to do, it is slightly sad that Yokohama doesn’t attract as many visitors as Tokyo, even though it is located quite close to Tokyo  Having a charming Minato Mirai waterfront on board, along with one of the biggest Chinatown regions, this place will surely surprise you more than you’d expect  Get ready to have a warm welcome from the locals here as it is weaved into their culture  This will sort out your query for where to visit in Japan for a romantic night!  Top attractions:  Yokohama Chinatown Yokohama Red Brick Warehouse Yokohama Hakkeijima Sea Paradise  Best things to do:  Visit Enoshima Island for some bliss Witness a traditional Japanese garden at Sankeien Garden Enjoy a fun outing at Shin-Yokohama Ramen Museum  Places to stay:  The Yokohama Bay Hotel Tokyu InterContinental Yokohama Grand Yokohama Royal Park Hotel  Places to eat:  Charcoal Grill Green Azamino Ukai-tei Ippudo  How to reach: The nearest international airport to Yokohama is Pohang Airport  Take a train from here or a cab if you want to reach Yokohama from here  Suggested Read: Exploring Japan In July  ', '23': ' Nikko – Historically Rich  Image Credit: ArvidO for Pixabay  Called as one of the most important regions of Eastern Japan, Nikko is located in close proximity of Tochigi Prefecture and has various shrines to be visited by travellers  These include Kanmangafuchi Abyss and Toshogu Shrine  If you wish to try something different, pay a visit to Edo Wonderland which is a theme back takes you back to the ancient era  If you’re thinking, ‘places I should visit in Japan’, make sure you don’t miss out on this one!  Top attractions:  Kegon Falls Nikko Futarasan jinja Tobu World Square  Best things to do:  Dip your toes in the hot springs of Kinugawa Onsen Walk down the history with Rinnō-ji museum Go hiking through Senjōgahara  Places to stay:  Oku Nikko Hotel Shikisai Nikko Kanaya Hotel Nikko Park Lodge Mountain Side  Places to eat:  Hippari-Dako Gyoza no Umechan Meiji-no-Yakata  How to reach: Ibaraki and Fukushima Airport are the closest ones to the city  You can find taxis from the airport to reach your destination   ', '24': ' Tohoku – Relax In Nature  Image Source  Wondering where to go in Japan? Also known as the hidden gem of Japan’s main island region, Tohoku has something for every kind of traveler planning to visit this place  But all that is just the tip of the iceberg, since the tourists from all over the world travel to this place exclusively for Aomori Nebuta Festival  Make sure to book in advance as the domestic travelers might make it a housefull! Top attractions:  Lake Ogawara Hotto Plaza Suginoko Hot Spring Eboshi-dake  Best things to do:  Camp at Ogawarako Park Try a soothing nature walk at Komaki Onsen Shibusawa Park Indulge in a good dining experience at Onsen inn Matsuzono  Places to stay:  Hotel New Tohoku Almont Hotel Sendai Westin Hotel Sendai  Places to eat:  Restaurant Karinba Marche Restaurant Steak House Yoshino  How to reach: The best way to explore Tohoku is by buying a Japan Rail pass and visiting several attractions of the island  Suggested Read: Japan In September  ', '25': 'Kawagoe – Revisit The History  Image Source  One of the surreal Japan points of interest, Kawagoe encompasses remnants of the ancient town from the Edo Period i e 1603-1867 and allows visitors to disapparate to the streets from past centuries  This tiny town is known as ‘Little Edo’ and is nothing less than a paradise for history buffs  Being one of the most important cities of trade, Kawagoe envelops an extremely rich history of Edo culture and architecture  Top Attractions:  Kitain Temple Warehouse District Honmaru Goten Candy Alley  Best Things To Do:  Visit the city museum to understand Kawagoe’s history Feel the essence of spirituality in Kitain Temple Explore the only remnants of Kawagoe’s palace from Edo Period  Places to stay:  Kawagoe Prince Hotel Kawagoe Daiichi Hotel Kawagoe Tobu Hotel  Places to eat:  Kawagoe Ichinoya Atre Ogakiku cafe torocco  How to reach: Kawagoe’s nearest airports are the Narita International Airport and Haneda Airport in Tokyo  Take an airport shuttle which takes about 2 hours to reach   ', '26': ' Nagoya – Traditionally Beautiful  Image Source  Home to little hidden gems of Japan, Nagoya is one of the unique places to visit in Japan and is often treated as a layover en route to Kyoto from Tokyo  Being one of the biggest cities in Central Japan, Nagoya was the heart of castle towns in Japan during the Edo period  Nagoya Castle is undergoing reconstruction by using traditional methods at present and this gives the explorers and wanderers a perfect chance to be a part of the rebirth of one of the most important aspects of the ancient times  Top Attractions:  Nagoya Castle Atsuta Jingu Higashiyama Zoo and Botanical Gardens Tokugawa Garden Nagoya City Science Museum  Best Things To Do:  Stroll through the castle and take in the ancient vibes of this town Witness the serenity of Tokugawa Garden Get in touch with the scientific technologies at the science museum Explore the famous cherry blossoms and the stunning landscapes at Tsuruma Park  Places to stay:  Kyoya Ryokan Nagoya Hotel MyStays Nagoya Sakae Nagoya JR Gate Tower Hotel  Places to eat:  Atsuta Horaiken – Main Restaurant Midtown BBQ – Nagoya Yamamotoya  How to reach: The Chūbu Centrair International Airport is the closest airport to the city  You can find taxis from the airport to reach your destination  Suggested Read: Spring Flower Cruise In Japan  ', '27': ' Kanazawa – For Food Culture  Image Source  Serving as the capital of Ishikawa Prefecture, Kanazawa blankets numerous historical attractions such as reconstructed residences and contemporary museums  One of the less popular tourist places in Japan, Kanazawa experiences less footfall, which makes this destination a perfect escape from the usually crowded world  Famous for its seafood, Kanazawa is a perfect jewel for those travelers who prefer taking the road less traveled  Top Attractions:  Kenroku-en Garden 21st Century Museum of Contemporary Art Omicho Market Kanazawa Castle  Best Things To Do:  Devour the famous authentic seafood Take a tour of the castle and explore the hidden passageways and tunnels Witness the beauty of the garden with three landscapes  Places to stay:  Emblem Stay Kanazawa Hotel Mystays Premier Kanazawa Hotel Trusty Kanazawa Korinbo  Places to eat:  Fuwari Sushi Ippei Pizzeria e Trattoria Da TAKE  How to reach: The nearest airport serving Kanazawa is in the city of Komatsu from where Japan Airlines manages a few airplanes   ', '28': ' Shirakawago – A Surreal Place  Image Source  Shirakawago is a cute little village in the valley of Ono District in Japan and it looks right out of a fairytale  With ‘gassho-zukuri’ buildings built by the inhabitants themselves, this destination is an epitome of the traditional village life of Japan  Shirakawago is famous for its residences that are crafted to shrug off the heavy snow from the roofs during winter months  For explorers seeking to learn about the authenticity of the Japanese countryside, Shirakawago will leave no stone unturned to help you get a glimpse of the same  This is one of the best places to go in Japan while on a solo tour  Top Attractions:  Fairytale Houses Wada House Gassho-zukuri Minkaen Hakusan National Park  Best Things To Do:  Get hands-on experience about the traditional life of Japan Witness the soul-soothing landscapes of the village Camp at the Hakusan National Park and satiate your adventurous inner self  Places to stay:  Onyado Yuinosho Shirakawa-go Terrace Hostel Fujiya  Places to eat:  Yukinko Irori Shiraogi  How to reach: The nearest airport is Fukushima Airport which is 21 km away  Local buses and taxis are available that comfortably take you to your destination  Suggested Read: 15 Haunted Places In Japan  ', '29': ' Shikoku – Where Serenity Welcomes You  Image Source  Still wondering best places in Japan? One of Japan’s four main islands, the charming island of Shikoku reflects the perfect blend of nature, tranquility, culture, and cuisine  Home to one of the oldest Japanese spa’s, Shikoku is famous for its breathtaking landscapes, pristine flowing rivers, and surreal Pacific coastline  Top Attractions:  Muroto-Misaki Ishizuchi-San Iya Valley Dogo Onsen  Best Things To Do:  Relax your mind and soul at the oldest spa in Japan Stroll along the pilgrimage route that connects around 88 temples on the island Hire a cycle and explore the city like a local  Places to stay:  Sunriver Oboke Kotohira Kadan  Places to eat:  Ofukuro Good food studio Cardamon Hamakaidoh  How to reach: You can travel by bus from Osaka Kansai to Shikoku via Takamatsu Chuo Interchange Bus Terminal in approximately 6 hours   ', '30': ' Nagasaki – A City With Sad History  Image Credit: Hruruk for Pixabay  This city of Japan too is one of the main ports lying in the southernmost region of the island  Just like the city of Hiroshima, Nagasaki is also known for its memorial of peace  You can also visit various temples as well as shrines here in order to be a witness to the cultural, religious, and historical aspects of Japan that are beautifully reflected  This is one of the most beautiful places in Japan  Top attractions:  Nagasaki Dutch Slope Nagasaki Chinatown Kofukuji Temple Glover Garden  Best things to do:  Learn the historical facts at Nagasaki Atomic Bomb Museum Witness the majestic species of penguins at Nagasaki Penguin Aquarium Travel around the city in Nagasaki Electric Tramway  Places to stay:  Hotel Monterey Nagasaki Luke Plaza Hotel Casa Blanca Guesthouse  Places to eat:  Kagetsu Horaiken Bekkan Shippoku Hamakatsu  How to reach: Kumamoto and Fukuoka Airports are the closest ones  Hire a cab, taxi or local bus to reach your destination  Suggested Read: 10 Tokyo Travel Tips  ', '31': ' Kobe – Surprisingly Attractive  Image Source  This city lies between Mount Rokko and the sea  Although there’s a lot to see and experience here but Kobe is essentially known for its delicious beef  Therefore, ordering a burger in one of its restaurants or cafes is a must! The city comes in the way when you’re travelling from Osaka to Hiroshima via bullet train  If you want to witness the charm of this city, you should keep some extra time in hand when travelling between the two cities  This is among the best cities to visit in Japan! Top attractions:  Wakamatsu Park Arima Onsen Kobe Oji Zoo  Best things to do:  Go for a leisure walk on Akashi Kaikyo Bridge Try the scrumptious local delicacies Go for the Mount Rokko trek  Places to stay:  Kobe Meriken Park Oriental Hotel Kobe Sannomiya Union Hotel Hotel Plaza Kobe  Places to eat:  Kobe Beef Steak Restaurant Royal Mouriya La Shomon Kokoroya  How to reach: Kansai International Airport is just 70 km away from Kobe and its the nearest international airport  Local taxis and cabs are in abundance to drop you at your destination   ', '32': ' Fukuoka – Japan’s Oldest City  Image Credit: Fg2 for wikipedia  Your answer where to go in Japan to explore the rich culture is Fukuoka  Known to be the oldest city in the country of Japan, a visit to this place is a must  Located in the southernmost island of Kyushu, the city is comparatively in close proximity to the mainland of Asia  Moreover, the city of Fukuoka is considered to be an imperative port since more hundreds of years  The food culture and the relaxed vibe of this place will make your travel experience simply worthwhile  So, make sure that you include this place in your itinerary as it is one of the best Japan tourist attractions  Top attractions:  Fukuoka Castle Canal City Hakata Ohori Park  Best things to do:  Go for an evening walk at Yusentei Park Pay a visit to Hakozaki Shrine Go for a karaoke night  Places to stay:  Plaza Hotel Premier Fukuoka Plaza Hotel Tenjin  Places to eat:  Yoshizuka Unagi Beef Taigen Hyotan Sushi  How to reach: The Saga airport is the closest one and you can find taxis from the airport to reach your destination  Suggested Read: 7 Best Gardens In Japan  ', '33': ' Hitsujiyama Park – For An Enormous Sight  Cherry Blossom in Japan is an enormous sight to behold  The country is very famous for the spectacle and therefore visiting during this season is a must  Make Hitsujiyama Park as your next destination for a picturesque setting and get blossomed by the mesmerizing views  With a huge flora of over 400,000 trees of nine different varieties, it’s a perfect patchwork of red, white, pink, and violet  Also, the park is in close proximity to some fine dessert restaurants where you can taste the best Japanese desserts  Now, who would want to miss a visit to one of the famous places in Japan? Top attractions:  Shibazakura Hill Mount Buko Nagatoro  Best things to do:  Catch the Chichibu Shibazakura Festival Hike among the many trails Buy festival snacks and souvenirs  Places to stay:  Hotel Route Inn Chichibu Araki Kosen Ryokan Guest House Nishiki  Places to eat:  Laboratorino Nosaka Horumon Takasago  How to reach: From Ikebukuro, the Seibu Limited Express Chichibu train goes direct to Seibu-Chichibu station and the journey  takes around 1 hour and 20 minutes to complete   ', '34': \" Hakone – Views Of Mount Fuji  Image Source  If you’re wondering where to go in Japan, then Hakone is a popular area with great views of Mt Fuji  If the weather is on your side, it can be both a great day trip as well as an overnight destination  If you are looking for a break from Tokyo, then visit Hakone, which is also a great place for a solo trip in Japan  Get mesmerized by the surrounding beauty and get excited about your next getaway which includes all the top places to visit in Japan  Top attractions:  Lake Ashinoko Fuji-Hakone-Izu National Park Open Air Museum  Best things to do:  Enjoy multiple hot springs Ropeway to the boiling sulphur pits Crisscrossing Lake Ashi on a pirate ship  Places to stay:  Kinnotake Tonosawa Hakone Senkei Okudo-Saryo Rikyu-an inn  Places to eat:  Hakone Karaage Karatto Gora Brewery & Grill Monsmare  How to reach: You can travel to Hakone via Odakyu Railway, Japan Railways or through the Odakyu Hakone Highway Bus  Suggested Read: Robot-Run Hotel In Japan  Best Time To Visit Japan  To explore the major tourist attractions in Japan the best time to visit is from March to May during the late spring  You can also plan a visit during late autumn, especially in the months from September to November for the best experiences  The temperature remains mild during this time with very little rainfall  Further Read: An Underwater Volcano Discovered In Japan  If the technological magic of the island nation couldn’t conquer your heart, we are sure that these best places to visit in Japan would! But which one would you visit first? Plan a trip to Japan with TravelTriangle and have the best vacation! Make sure you pack a few extra clothes in case these places change your mind, and you decide to extend your amazing vacation in Japan! For our editorial codes of conduct and copyright disclaimer, please click here  Cover Image Credit: Pxhere  Frequently Asked Questions About Places To Visit In Japan  What is the smallest town in Japan? The smallest city by population in Japan is Utashinai which is located in Sorachi Subprefecture of Hokkaido  What’s the oldest city in Japan?  The oldest city in Japan is Fukuoka which also happens to be the closest city to Korea  Are there still samurai in Japan? Samurai were abolished as Japan modernized  Although, Kanazawa still houses a samurai district and is the only city to preserve the samurai world  What are the famous places in Japan? The most famous places to visit in Japan are the following:  Mount Fiji  Kinkaku-Ji  Fushimi Inari Taisha  Kiyomizu-Dera  Arashiyama  Tokyo Skytree  Osaka Castle  Tokyo Tower  Meiji Jingu  Can I get vegetarian food in Japan? Yes, you can get vegetarian food in Japan  The following are the best vegetarian food that you can eat in Japan:  Mochi  Nasu or Eggplant  Kushimono  Pickles or Tsukemono  Daikon  Is there any temple in Japan? Yes, there are many interesting temples in Japan but the best amongst them are:  Kiyomizu-dera  Todai-ji  Kinkaku-ji  Horyu-ji  Senso-ji  Toji  Rengeoin Sanjusangendo  Higashiyama Jisho-ji  Where can I go free in Tokyo? The most popular free places in Tokyo are the following:  Hanabi  Matsuri  Suntory Musashino Brewery  Public Parks  The Imperial Palace East Garden  Meiji Shrine  Harajuku  What is the most beautiful place in Japan? There are various tourist sites in Japan that are considered to be quite beautiful  Some of them are:  Shirakawa-go  The Blue Pond  Fushimi Inari Shrine  Chureito Pagoda  Kanazawa  Is it expensive in Japan? Japan is essentially expensive when it comes to travelling around, staying at hotels, or eating out  However, if you want to avoid spending too much here, you can plan your stay at a hostel or eat at less expensive food joints  How much money do you need per day in Japan? On average, it will cost you over INR 7,000 per day when you’re travelling in Japan  Do I need a visa for Japan from India? Yes, you need to get a single entry visa to visit Japan which will be valid for up to 30 days Per Entry  To get the visa you can visit Japan embassy or consulate and submit all the required documents and fees related to the visa application  What is the best month to go to Japan?  To get the best experience of a Japan tour, you must plan your trip between March and May or September and November as the weather remains pleasant adding extra fun to your trip to Japan  What is Japan famous for?  Japan is famous for its rich cultural heritage, including traditional arts like tea ceremonies, ikebana (flower arranging), and origami (paper folding)  It's renowned for its cutting-edge technology, producing innovative electronics, robotics, and automobiles  Additionally, Japan is known for its delicious cuisine, featuring sushi, ramen, and tempura, as well as its stunning cherry blossoms during springtime  Which month is the cherry blossom in Japan?  Cherry blossoms in Japan typically bloom in April, marking the arrival of spring  This beautiful natural phenomenon, known as the 'sakura' season, is celebrated with hanami (flower viewing) gatherings and festivals across the country as people enjoy the fleeting beauty of the cherry blossoms  People Also Read:  Places To Visit In Amsterdam Places To Visit In Christchurch Places To Visit In Canada   PREVIOUS POST NEXT POST Category: Japan, Places To Visit Follow Us On:   Vietnam Holiday Packages  17% Off  ₹ 15600  ₹ 13000  per person  Stupendous Vietnam Family Tour Package  4D & 3N  Ho Chi Minh City  Upto 3 Stars  Meals  Sightseeing  Entry fee charges  Transfers  Customize & Get Quotes  14% Off  ₹ 15166  ₹  per person  Romantic Vietnam Tour Package  4D & 3N  Hanoi  Upto 3 Stars  Meals  Sightseeing  Transfers  Customize & Get Quotes  17% Off  ₹ 15600  ₹ 13000  per person  Stupendous Vietnam Family Tour Package  4D & 3N  Ho Chi Minh City  Upto 3 Stars  Meals  Sightseeing  Entry fee charges  Transfers  Customize & Get Quotes  14% Off  ₹ 15166  ₹ 12999  per person  Romantic Vietnam Tour Package  4D & 3N  Hanoi  Upto 3 Stars  Meals  Sightseeing  Transfers  Customize & Get Quotes Previous Next Recent Posts  Thommanon Temple In Cambodia Where You Can Explore The Enigmatic Beauty  Hoi An Memories Land Is A Cultural Extravaganza You Can’t-Miss  5 Things To Do At The Erawan Museum For A Relaxing Day Out  Trending Blogs  20 Mysterious Places In India To Visit In 2024 More Bizarre Than The Bermuda Triangle  Scariest Roads In India That Are A Driver’s Nightmare  101 Places To Visit In India Before You Turn 30 in 2024  Best Places To Visit In India By Month  Jan    Feb    Mar    Apr    May    Jun    Jul     Aug    Sep    Oct    Nov    Dec  Best Places To Visit Outside India By Month  Jan    Feb    Mar    Apr    May    Jun    Jul     Aug    Sep    Oct    Nov     Dec  TravelTriangle>Blog>International>Destinations»Japan»>35 Best Places To Visit In Japan That Make It Look Right Out Of A Storybook In Packages By Theme International Tour Packages Packages From Top Cities International Tourism Guide Top International Hotels Our Story About us Team We are hiring! Get Inspired Testimonials Blog Travelogues Policies Terms and Conditions Privacy Policy More FAQs Contact Us RSS Feeds  Corporate Office  Holiday Triangle Travel Private Limited  Address: Plot No - 52 , 3rd Floor,  Batra House , Sector 32,  Gurugram -122001,Haryana  Landline: 1800 123 5555   1800 123 5555  customercare@traveltriangle com  All rights reserved © 2024  Attractions:   Popular Cities:   Tours: \"}, 2: {'0': ' Imperial Citadel Of Thang Long As a place of the former political centre of the country for 13 uninterrupted centuries, Imperial Citadel of Thang Long is one of the most famous Vietnam tourist spots  A World Heritage Site since 2010, this place is a glorious vintage fortress that reflects the remnants of Vietnamese military power  Archaeological expeditions have found relics of age-old roads, palaces, wells, ponds, potteries, coins, and many other war remnants  It is one of the most famous Vietnam tourist attractions  Location: 19C Hoàng Diệu, Điện Bàn, Ba Đình, Hà Nội 100000, Vietnam Timings: 8:00 a m to 5:00 p m  Famous for: It was declared a UNESCO world heritage site in 2010 Entry fee: VND30,000  Ho Chi Minh Shopping: 10 Places To Splurge And Shop At This Vietnamese Hub  ', '1': ' Ho Chi Minh’s Mausoleum  One of the most famous places to visit in Vietnam, Ho Chi Minh’s Mausoleum is a piece of spectacular marble construction, built with materials collected from all over the country  This monumental marble architecture is quite popular and one of the most famous places to visit in Ho Chi Minh city  Ho Chi Minh’s pale body is well-preserved in a glass sarcophagus inside the building  This place is closed from September 4th to November 4th when Ho Chi Minh’s body is taken to Russia for annual maintenance and preservation procedures  People of Vietnam regard this as a sacred place hence there are certain restrictions for visitors  It is amongst the most visited Vietnam tourist spots  Note: It is not allowed to wear short clothes, hats, and tank tops inside the premises  Talking on the phone and clicking pictures is strictly prohibited  Also note, nobody is allowed to walk inside keeping his hands inside their pocket  Location: 2 Hùng Vương, Điện Bàn, Ba Đình, Hà Nội 100000, Vietnam Timings: 8:00 a m to 11:00 a m ; Saturday – Thursday Famous for: The stunning construction of marble Entry fee: Free of cost  ', '2': ' Hoan Kiem Lake And Ngoc Son  Image Source If you are travelling with your family and want to spend a day with fun and laughter this is the place where you should head towards  The lake is also popular as Turtle Lake and is famous for the natural beauty around and is one of the most famous places to visit in Vietnam  And to emphasize the beauty more, there is Ngoc Son Temple in the middle of the lake  Linked by a small bridge to the mainland, the island and the temple is the awesome place where you can take some great pictures with a fantastic background  Location: Đinh Tiên Hoàng, Hàng Trống, Hoàn Kiếm, Hà Nội 100000, Vietnam Timings: 8:00 a m to 6:00 p m  Famous for: The aesthetic beauty of the place Entry fee: No entry fee for Hoan Kiem Lake, but for Ngoc Son temple there is an entry fee of VND30,000 Here’s How Manish Spent His 6 Days In Vietnam With Family For A Blissful Vacation  ', '3': ' Vietnam Museum Of Ethnology  Image Credit: Rungbachduong for Wikipedia  This museum in Vietnam is one of the few that are based on the various ethnic groups of the country  Vietnam Museum of Ethnology was constructed in 1997 and many changes have been brought to the place over a period of time  The architect Ha Duc Linh has done a brilliant job in designing the building and was himself a member of one of the ethnic groups of Vietnam  Location: Nguyễn Văn Huyên, Quan Hoa, Cầu Giấy, Hà Nội 100000, Vietnam Timings: 8:30 a m to 5:30 p m  Famous for: The aesthetic beauty of the place  Entry fee: Adults: VND40,000, Vietnamese Students:  VND15,000, Students (6 – 8 years):  VND10,000  ', '4': ' Vietnam Military History Museum  Amongs the best sightseeing places in Vietnam , this history museum is among the 7 national museums in the country  If you have a thing for military weapons, then this place is a must-visit for people like you  The museum was constructed on July 17th in the year 1956  There are various things on display that reminds the visitors of the Vietnam war  Location: 28A Điện Biên Phủ, Điện Bàn, Ba Đình, Hà Nội, Vietnam Timings: 8:00 a m to 4:30 p m  Famous for: One of the seven national museums in Vietnam Entry fee: VND30,000  New Year In Vietnam: 14 Experiences For A Lit Beginning  Ho Chi Minh City ', '5': ' Temple Of Literature  Image Credit: Chuoibk for wikipedia  If you want to learn about the cultural aspects of Vietnam, then a visit to this place is a must  The Temple of Literature is considered the Temple of Confucius  This temple is also a host to the first national university of Vietnam, the Imperial Academy  The construction of this temple started in the year 1070 during the reign of Emperor Lý Thánh Tông  The architecture and aura of this place define Vietnamese historicity  Location: Hanoi, Vietnam Timings: Open all-day Famous for: One of the most picturesque places in Vietnam Entry fee: VND 30,000  for adults and VND 15,000 for students  You may still know this region by its old name, Saigon  It is the largest city in Vietnam and also the commercial hub where you will find anything, from history to the best entertainment zone, the scrumptious Vietnamese food, to places to hang out with kiddos  Best Time To Visit: May to November is the best time to visit Ho Chi Minh city  Tropical downpours can be expected during these months  However, travel is seldom affected by rain  The region is lush and green during these months   ', '6': ' War Remnants Museum  Image Source  One of the popular tourist places in Vietnam, the War Remnant Museum displays various items and relics of different wars of world history  A variety of weapons, armoured vehicles, bombs, bunkers, tanks, infantry weapons, and artillery items are displayed here  Being one of the must-visit places in Vietnam, the museum also houses a section dedicated to photographs and posters of different anti-war movements and drives that happened globally   Location: 28 Võ Văn Tần, Phường 6, Quận 3, Hồ Chí Minh 700000, Vietnam Timings: 7:00 a m to 12:30 p m and 1:30 p m to 5:00 p m  Famous for: The history of War and its aftermath Entry fee: VND15,000  12 Things To Do In Ho Chi Minh To Make The Most Of This Bustling City  ', '7': ' Cu Chi Tunnels  Image Credit: Kevyn Jacobs for Wikipedia  Cu Chi is a sub-surface tunnel network created for communication purpose  This 250 km long Cu Chi tunnel network was dug in 1940 as a place to hide during Vietnam War against France and was later used during American war for the same reason  It comprises of meandering tunnels, dark & narrow branches, hidden doors, weapon storerooms, and secret routes for canals and rivers reaching up to the border of Cambodia  As it is one of the thrilling places to see in Vietnam, some of the tunnels have been widened for visitors  If you are a brave heart, you must try the superb experience  Location: TL15, Phú Hiệp, Củ Chi, Hồ Chí Minh 733814, Vietnam Timings: 7:30 a m to 4:30 p m  Famous for: Thrilling long tunnels and the history behind it Entry fee: NA  ', '8': ' Mekong Delta  Mekong Delta has a geographical significance, not only because of its delta features but also due to the abundance of rice cultivation on both the banks  It is one of the must places to visit in Vietnam  The most mesmerising feature of this popular tourist destination is that the houseboats and markets float on rivers & canals that intersect the land  Location: South Vietnam Timings: Open throughout the day Famous for: Due to plenty of rice cultivation at the banks and its delta features  Entry fee: NA  Top Restaurants In Hue For An Authentic Culinary Affair While Backpacking In Vietnam  ', '9': ' Golden Dragon Water Puppet Theatre  Image Source  You may have seen different types of puppet shows around the world, but what you get to see here is exclusive  It is water puppetry that was originated almost 1000 years ago in the Red River Delta Region of Vietnam and one of the important places to go in Vietnam  Each show is for 50 minutes and you can get to peep through the country’s culture and social life within this time  The shows are garnered with live music performances which are additional fun while watching the puppets, telling you a story  You get to listen to traditional Vietnamese music instruments like two-stringed violins, bamboo flutes and so on  It is one of the popular Vietnam tourist spots  Location: 55B Nguyễn Thị Minh Khai, Phường Bến Thành, Quận 1, Hồ Chí Minh, Vietnam Timings: NA Famous for: The water puppet show Entry fee: VND100,000  ', '10': ' Thien Hau Temple  Image Source  Soak in the good vibes and seek blessings at one of the oldest Chinese temples in Ho Chi Minh city  The temple is dedicated to the Lady of the Sea, Thien Hau who is worshipped by locals here as it’s one of the best places to visit in Vietnam for spirituality and religious purposes  The tourists visit to seek solitude and experience the calm vibes of this temple with the aroma of incense sticks lingering in the air and candles flickering on the altars  The sunlight coming through the roof and the spiritual atmosphere of this temple are worth a visit  You can simply stroll in the open courtyard and marvel at the porcelain dioramas that depict the Chinese way of living from the 19th century  Location: 710 Nguyễn Trãi, Phường 11, Quận 5, Hồ Chí Minh 70000, Vietnam Timings: 8:00 a m to 4:30 p m  Famous for: The oldest temple in the city dedicated to the Lady of the sea Entry fee: NA  10 Beaches In Ho Chi Minh City To Visit In Vietnam On A Trip  ', '11': ' Saigon Opera House  An architectural marvel, this French colonial style building is a treat to the eyes that was built as Opera de Saigon in 1897 by Eugene Ferret, a French architect making it one of the best places to visit in Vietnam  It later became a theatre in 1975 where you can watch a show or attend the orchestra  Both the Ho Chi Minh City Ballet Symphony Orchestra and Opera perform here, you can purchase the tickets from the box office  You can also visit the Notre Dame Cathedral and Reunification Palace nearby which is considered to be one of the best places to go in Vietnam   Location: 7 Lam Son Square, Ben Nghe Ward, District 1, Ho Chi Minh City Timings: 9:00 a m to 4:30 p m (Monday to Friday), 9:00 a m to 11:30 p m (Saturday and Sunday) Famous for: French colonial style architecture Entry fee: There is no entry fee, you can purchase the ticket for the event that you want to attend  Hoi An  If you want to get a glimpse of Vietnam, visit the Quang Nam Province, especially Hoi An that is considered to be amongst the best places in Vietnam  This historical city is a UNESCO-listed World Heritage Site where you can spend a few days exploring Vietnamese history, culture, and tradition  Best Time To Visit: May to July is the best time to visit Hoi An  It is perfect beach weather  The tourist footfall is low  So, the hotel prices are also low   ', '12': ' Hoi An Ancient Town  Image Source  One of the best places to visit in Vietnam, Hoi An is an ancient coastal town and the former trading post of south-eastern Asia  The vintage town is one of the must-see places in Vietnam  The style and architecture of the buildings reflect a perfect amalgamation of the east and the west  Chinese Temples, Japanese Designed Bridge, Pagoda, Old Canal, and French Colonial Houses still reflect the old world charm  For those who love serenity, Hoi An is an ideal choice where one can relax on their stunning and less crowded beaches or enjoy the nightlife in one of the quaint cafes by the river  Location: Hoi An, Vietnam Timings: NA Famous for: The architecture of the buildings Entry fee: VND120,000  14 Festivals In Vietnam That Are All About Glitz, Glam, And Grandeur  ', '13': ' Cantonese Assembly Hall  Image Source  Lying in close proximity to Bridge Pagoda, this Assembly Hall of the Cantonese Chinese Congregation was established in the 18th century  The main altar of the hall is dedicated to Quan Cong  The Chinese general is praised for his bravery and also worshipped  Notably, the assembly is one of the five assembly halls in Hoi An that is for different Chinese ethnic groups  Location: 176 Tran Phu, Minh An Ward, Hoi An, Quang Nam, Vietnam Timings: 8:00 a m to 5:00 p m  Famous for: The architecture of the hall Entry fee: NA  ', '14': ' My Son Sanctuary  One of the best places in Vietnam, My Son Sanctuary is an ancient site of art and architecture that carries immense historical significance  Located on the coast of present-day central Vietnam, this World Heritage Site was the erstwhile capital of the Champa Kingdom  Several partially demolished tower temples dedicated to Lord Shiva make this site one of the most interesting places to see in Vietnam  These spectacular architectural edifices have been raised over a period of 10 centuries (4th to 14th Century AD) and the carvings truly reflect the culture, ethos, history, and heritage of south-east Asia  Location: Duy Phú, Duy Xuyên District, Quang Nam Province, Vietnam Timings: 6:30 a m to 4:30 p m  Famous for: Temples dedicated to Lord Shiva Entry fee: VND150,000  30 Exciting Things To Do In Cambodia For A Truly Refreshing Retreat  ', '15': ' Cham Island  Locally known as Cu Lao Cham, this is a small pristine island with amazing landscape and one of the best places to explore in Vietnam  One of the upcoming places to see in Vietnam, the island is rich in marine biodiversity and comprises many endangered species  A 30 minutes’ speedboat ride from Hoi An is all it takes to reach this Vietnam tourist attraction  The island is known for coral spotting, swimming, diving, and snorkelling  One should spend overnight on the island to experience the most photogenic sunrise  Location: Quang Nam Province, Hoi An, Vietnam Timings: Open throughout the day Famous for: Home to many endangered species and marine biodiversity  Entry fee: VND70,000  ', '16': ' Phuoc Lam Pagoda If you’re looking for the best Vietnam tourist places then this is the place to be  While you are in Hoi An, you will be amazed to see lots of pagodas and temples  You should not miss Phuoc Lam Pagoda which is really unique in its design and architecture  It is the tranquillity around the place that will keep you calm and quiet while you will enjoy the serene beauty of the pagoda  Decorated with potted plants on the porch and the religious statues on the walls, this pagoda is really awesome to spend a day here  Location: Lê Hồng Phong, Cẩm Hà, Hội An, Quảng Nam, Vietnam Timings: 7:30 a m to 9:30 p m  Famous for: Famous historic site in Hoi an Entry fee: No entry fee  10 Homestays In Vietnam That Redefine Affordable Luxury  ', '17': ' Old House Of Phun Hung  Image Source  As the name suggests, this place rightly depicts the old charm of the city of Hoi An and Vietnam as a whole and is one of the must-visit places in Vietnam  Old House of Phun Hung is full of elements that represent the aspects like trade as well as different local values of the country of Vietnam quite effectively  Since this place appropriately displays the old values of the country, it has been recorded as one of the World Heritage Sites  Location: Hoi An, Vietnam Timings: 8:00 a m to 6:00 p m  Famous for: This place displays the local values and culture of Vietnam Entry fee: NA  ', '18': ' Quan Cong Temple  Image Source  This temple was constructed in the year 1653  However, since that year, the temple has been renovated multiple times, keeping the Chinese architecture intact  The name of this temple has been inspired by a Chinese rebel who belonged to the Han Dynasty  The Chinese military general was famous for his dedication as well as integrity towards his nation and among the top places to visit in Vietnam  Location: 24 Trần Phú, Cẩm Châu, Hội An, Quảng Nam, Vietnam Timings: 10:30 a m to 10:00 p m  Famous for: Its Chinese architecture Entry fee: VND120 000 per person  Vietnam In October: What The Month Has In Store For You Here This Year  Hue  As Hue was the old capital of Vietnam, it has seen lots of historical changes in Vietnam  During the Vietnam War, this is the city that suffered the most  Now, it has recovered from those dark days with plenty of things to do in Hue and you can visit lots of museums, tombs, buildings with some other marvels if you’re visiting places in Vietnam that are in Hue  Best Time To Visit: January – August is the best time to visit Hue  It is a dry season with light afternoon showers  The temperatures range between mid-twenties and mid-thirties   ', '19': ' Complex Of Hue Monuments  The former political, cultural, and spiritual centre of Nguyen dynasty is another historical site of Vietnam  Located in proximity to the Hue city, this is a collection of age-old monuments set amid the Blue Mountains and the meandering Perfume River  The place comprises of former administrative, defence, and cultural headquarters  Also situated right outside the boundary of the complex are several temples  The Complex of Hue Monuments showcases the perfect example of planning and building processes of a city in a stipulated time period  The layout and the planning demonstrate the essence of feudal urban planning  Location: Thành phố Huế, Thua Thien Hue, Vietnam Timings: 8:00 a m to 6:00 p m  Famous for: A UNESCO world heritage site Entry fee: VND150,000 for adults, VND30,000 for children  ', '20': ' The Perfume River  Image Source  The name is really interesting, right? You will feel amazing while strolling on the riverside and enjoying the sunset  The aroma coming from the river is because of the rich flora and fauna underwater  It fills the air and you feel the tranquility of nature  Sitting on the riverside and watching the boats is really romantic  If you want an evening alone with your partner, be there  Location: Thua Thien Hue, Vietnam Timings: Open throughout the day Famous for: The Aroma coming from the river Entry fee: NA  10 Places To Visit In Da Nang That Must Be On Your Vietnam Itinerary  ', '21': ' Pagoda Of The Celestial Lady  Image Credit: Casablanca1911 for wikipedia  This is a popular seven-storeyed temple in Vietnam that is known for its historicity and for the best Vietnam sightseeing experience  The most interesting fact about this temple is that it has usually been a part of the folklore  The temple has been erected atop the Hà Khê hill in the Hương Long ward  This pagoda is also unofficially known to be the symbol of the city of Hue    Location: Hương Hòa, Thành phố Huế, Hương Hòa Thành phố Huế Thừa Thiên Huế 532761, Vietnam Timings: 8:00 a m to 6:00 p,m, Famous for: Its iconic seven-story Pagoda Entry fee: NA  ', '22': ' Tomb Of Khai Dinh  Image Credit: LÊ TẤN LỘC for wikipedia  Also known by the name Ung Mausoleum, the Tomb of Khai Dinh has been established upon the Chau Chu mountain and famous for the best Vietnam tourist attractions  As the name suggests, the temple was built for the 12th Emperor of the Nguyen Dynasty  The construction of this tomb took 11 years (1920-31) and the architecture is a reflection of the Oriental as well as Occidental influences  Location: Khải Định, Thủy Bằng, Hương Thủy, Thừa Thiên Huế 530000, Vietnam Timings: 7:00 a m to 5:30 p m  Famous for: Its architecture and History Entry fee: VND100,000  Shopping In Can Tho: 7 Ultimate Places For Bringing Home The Best Vietnamese Finds!  ', '23': ' Phu Cam Cathedral  Image Credit: Lưu Ly for wikipedia  This one on our list is among the best places to visit in Vietnam in December  A cathedral established atop a hill that was known for its rich orange plantation  The construction of this church commenced in the year 1963 and till 2000 it has gone through various renovations  The modern architecture of Phu Cam Cathedral reflects the expertise of the architect Ngo Viet Thu   Location: 1 Đoàn Hữu Trưng, Phước Vĩnh, Thành phố Huế, Thừa Thiên Huế 530000, Vietnam Timings: 5:00 a m to 6:30 p m  Famous for: One of the biggest churches in the city Entry fee: No entry fee  ', '24': ' An Hien Garden House  Image Source  This is one of the best places to visit in the city of Hue  If you are a nature lover, then this place will definitely leave you all excited  The ancient architecture will give you an insight into the historical aspects of the city as well as the whole country of Vietnam  An Hien Garden House is the ideal place to spend quality time with your loved one in peace  Location: 58 Nguyễn Phúc Nguyên, Hương Long, Thành phố Huế, Huế, Vietnam Timings: 7:00 a m to 6:00 p m  Famous for: The lush greenery and the architecture Entry fee: VND35,000  Thai Vi Temple: Everything You Need To Know About This Gem In Vietnam  Halong  Each year, people around the world visit Halong Bay as they get attracted to the spectacular scenic beauty and rich history of the place  There are nearly 2000 islands, hundreds of beaches and around 59 caves and grottos in Halong Bay, waiting to amaze its tourists  Best Time To Visit: October – April is the best time to visit Halong Bay  the days are warm with clear skies  The weather is perfect for cruising, kayaking, and swimming   ', '25': ' Halong Bay  Image Source  Halong Bay is a picture-postcard destination with its emerald blue water and marine cliffs scattered throughout with magnificent karst topography  Locally known as ‘where the dragon descends into the sea’, this Halong Bay has numerous wind and wave-eroded limestone caves, sinkhole lakes, and grottoes  Located 182 km east of Hanoi, this spectacular bay was tagged as World Heritage Site in 1994 and is one of the most popular places to visit in Vietnam  Location: On the western side of Gulf of Tokin Timings: NA Famous for: Home to a large number of islands Entry fee: VND290,000  ', '26': ' Lan Ha Bay  Image Credit: Kenznguyen for Pixabay  Unusual to the bays and beach towns, Lan Ha Bay is free from crowd & chaos and is among the top unique places to visit in Vietnam  If you are on a honeymoon trip and want to spend some alone time with your spouse, you can head towards this bay  You can hire a sailboat or kayak to explore the bay and reach the areas which are more secluded  Location: Halong Bay, Vietnam Timings: Open throughout the day Famous for: Stunning scenery and peaceful environment Entry fee: NA  4 Days In Vietnam: What All Places to Add To Your Backpacking Itinerary  ', '27': ' Sung Sot Cave  Image Source  This cave is one of the largest caves in Halong Bay and one of the most famous tourist attractions of Halong Bay  Known as the Cave of Marvels, this cave features unique striking rock formations including a Buddha, a tortoise and phallus that are illuminated by lights  Once you get inside the cave, you’ll be awestruck by its grandeur and mesmerizing beauty  Spot different kinds of shapes that almost seem real  Exploring this cave is a one-of-a-kind experience that you shouldn’t miss while in Halong Bay  Location: Ha Long Bay, Halong City, Quảng Ninh Timings: 8:00 a m to 6:00 p m  Famous for: One of the largest caves in Halong Bay Entry fee: NA  ', '28': ' Cat Ba Island This is the largest island in Halong Bay, it is the hub for all water sport activities like swimming, snorkelling, kayaking, diving, and caving as well  If you want to experience the best of snorkelling in Vietnam then this is the place to be  Other adventures include trekking, hiking and rock climbing  The beaches might feel overcrowded, but there’s plenty of space to relax, unwind and sunbathe without getting disturbed  You can find your own secluded spot to lay your beach mat and just relax amidst serene views  Location: Halong Bay, Northern Vietnam, Vietnam Timings: 8:00 a m to 5:00 p m  Famous for: For its waters sports activities Entry fee: NA  Vietnam Visa For Indians: Everything You Need To Know Before Applying  ', '29': ' Dau Be Island  Famous for flying squirrels, golden monkeys and other species of birds, this island is quite secluded and consists of three ocean basins and a cave that features unique rock formations  The island is best for snorkelling as the marine life is rich and diverse  You can spend hours snorkelling around the island and getting lost in the magical underwater world  You can also swim on this island as it’s comprised of three inland lakes and witness the vibrant corals  Location: Southwestern of Halong Bay, Vietnam Timings: Open all-day Famous for: Diverse Flora and Fauna Entry fee: NA  ', '30': ' Ti Top (Titov) Island  Image Source  Ti Top island is one of the most famous and scenic islands of Halong Bay  It is named after a Russian astronaut, Gherman Titov who visited Halong Bay in 1962  The summit of this island can be reached by a steep climb, the panoramic views from the top are worth the climb  It is one of the must places to visit in Halong Bay and ideal for all recreational activities like swimming, kayaking, snorkelling and more  If you’re an adventure enthusiast then we highly recommend you take the hike up the 427 steps to reach the mountaintop gazebo and be rewarded with breathtaking views of the surreal landscape  Location: Located about 14 kilometres to the east of Bai Chay tourist harbour, Vietnam Timings: All day Famous for: Scenic beauty and recreational activities Entry fee: VND50  Vietnamese Street Foods: A Guide To Some Scrumptious Dishes To Try  Sa Pa  Sapa is one of the best places to visit in North Vietnam  The picturesque destination is surrounded by lofty hills and overlooks the rolling plush green valleys with plenty of things to do in Sapa  The topography, the terraced paddy cultivation, and the serene-yet-colourful countryside together has made Sapa an idyllic holiday retreat  Best Time To Visit: March – April and October – November are the best months to visit Sa Pa  The weather is not too hot  Rainfall is little and there is plenty of sunshine   ', '31': ' Ta Phin Village  Sa Pa has always been on the top of the list of tourists who want to visit Vietnam  But, this village has been made its place recently on that list  Located 17km west of Sa Pa, this village belongs to the Red Dao’s people who have maintained their traditional lifestyle, away from the touch of modernity  Tips: The roads towards the village aren’t suitable for cars  So, you can hire bikes and visit the village  The journey is also beautiful with astounding views of the road  Location: Sa Pa, Lao Cai, Vietnam Timings: NA Famous for: Traditional lifestyle of people and the stunning views Entry fee: VND40,000  ', '32': ' Fansipan Mountain  This mountain is the highest in the Indochinese Peninsula and is famously known as the roof of the Indochina  It has stunning sceneries and a beautiful landscape surrounding it that makes it ideal for trekking expeditions for adventure junkies  If you’re not up for a trekking excursion then you can also choose to take the cable car ride to witness the panoramic views of the Indochina region  Explore the rich flora and fauna of this mountain and marvel at the views of the swirling clouds and forested slopes on your way  Location: SaPa, Vietnam Timings: All day Famous for: The highest mountain in the Indochinese peninsula Entry fee: Fansipan cable car tickets – VND70,000 per person (adults)  My Khe Beach: A Handy Tour Guide To This Picturesque Land In Vietnamese  ', '33': ' Silver Waterfall  Image Source  The Silver waterfall is a mesmerizing waterfall that has white water cascading down the giant slope of a hill  The sunlight falling on the waters gives it a shining colour and makes it look like silver, hence, the name Silver Waterfall  This waterfall can be visible from afar, and is ideal for hiking in Vietnam adventure  Location: QL4D, San Sả Hồ, Sa Pa, Lào Cai, Vietnam Timings: Open 24 hours Famous for: The silver appearance of the stunning waterfall Entry fee: VND20,000  ', '34': ' Hoang Lien National Park  Image Source  One of the most important national parks of Vietnam, it is situated at a height of 3,000 m above sea level  The Hoang Lien National Park boasts ecotourism and it’s also a hub for scientific research with an extensive range of forests and exotic wildlife  You can explore the wilderness of this national park with trekking expeditions and enjoy your time in the lap of nature  Location: Lao Cai, Vietnam Timings: Open 24 hours Famous for: It has a wide range of extensive forests and exotic wildlife Entry fee: VND5  10 Things To Do In Nha Trang For An Incredible Vietnamese Vacay  South Central Coast  Central Coast is Vietnam’s most exciting destination to visit  It is a long and narrow land with a surreal seascape, it is the southern part of Central Vietnam that attracts a great number of tourists  Best Time To Visit: February – May is the best time to visit the central coast of Vietnam  The weather is in mid-thirties and there is little or no rainfall   ', '35': ' Da Nang  Danang – the fourth largest city in Vietnam – is located halfway between Hanoi and Ho Chi Minh City  The quirky bridge, museum, stunning beaches, fascinating restaurants, and dazzling nightlife are the elements of the charm of this lively city  Location: Da Nang, Vietnam Timings: NA Famous for: Stunning beaches and dazzling nightlife Entry fee: VND40,000  ', '36': ' Nha Trang  Image Source  Nha Trang – the capital city of Khánh Hòa Province – is a coastal destination with a crescent-shaped beach and turquoise bay dotted with small islands and surrounded by a string of hills  This is one of the most popular beach destinations in Vietnam and the most visited Vietnam tourist attraction  One of the best places to visit in South Vietnam, the city is also known for its Po Nagar Tower built by Champa Rulers, scuba diving centre for the best experience of scuba diving in Vietnam, stunning beaches, pristine landscape, and cool, comfortable climate  Location: Khanh Hoa Province, Vietnam Timings: NA Famous for: Stunning landscape and beaches Entry Fee: VND600,000 per person (adults) for the activities  Vietnam In May: A Travel Experience You’ll Cherish For A Lifetime  ', '37': ' Lan Chau Island  Immerse into the beautiful scenery, live the island life and plunge into the crystal clear waters of the most beautiful island in Cua Lo  The white sand beaches and the blue waters are ideal for a relaxing time on this island  The locals call it the Ru Coc (toad) island because it looks like a giant toad towards the sea  The steep cliffs and the rock formations on this island make it famous  Location: Located near Cua Lo beach, Nghe An, Vietnam Timings: Open throughout the day Famous for: Its tranquil blue waters and the scenic views Entry fee: NA  ', '38': ' Buon Ma Thuot  Go off the beaten track and explore the quaint town for pristine nature and experience the rustic side of Vietnam  Also known as the coffee capital of Vietnam, Buon Ma Thuot and the surrounding region is known to grow the best coffee that hosts the Biennial Coffee Festival  You can also visit the Yok Don National Park, Vietnam’s largest nature reserve and explore a few striking waterfalls, villages and unravel the local culture of Vietnam  Location: Dak Lak Province, Vietnam Timings: NA Famous for: Its coffee production and the Biennial Coffee Festival Entry fee: NA   Vietnam Nightlife Guide: 15 Places For Experiencing The Best Of Nightclubs, Shopping & More  ', '39': ' Pu Luong Nature Reserve  Phu Long Nature Reserve is the best place for tourists looking for an offbeat place  Home to a large number of rice paddies and stunning limestone Panoramas  Located roughly 170 km from Hanoi  Trekking in the forest alongside the rice paddies, cycling in the reserve and exploring the small villages are some of the common activities that one can do  It is a hidden gem amongst all the other Vietnam visiting places  Location: Bá Thước District, Thanh Hoa, Vietnam Timings: Open all-day Famous for: Home to a large number of rice paddies and the scenic beauty of the place Entry fee: NA  Other Beautiful Places To Visit In Vietnam  Vietnam houses not only these places but more than you expected  So, here is a list of more places that you can explore when planning a vacation to Vietnam   ', '40': ' Dalat  Located on the Lang Biang highlands, around a lake and a golf course, Dalat is a cool and serene place for a perfect holiday retreat  Dalat has pleasant days and soothing cool nights  Therefore, the climate here is rightly tagged as ‘eternal spring ’ This perfect holiday destination boasts its stunning lakes, waterfalls, and lush green valleys with vibrant flower beds that have put it among the most amazing places to visit in Vietnam  Location: Lam Dong Province, Dalat, Vietnam Timings: NA Famous for: Stunning waterfalls, lush greenery and the amazing weather of the place Entry fee: NA  Your Guide To Scuba Diving In Vietnam: Find The Best Spots, Ideal Time, And Much More  ', '41': ' Sand Dunes Of Mui Ne  Mui Ne boasts of its spectacular white and red sand dunes, eroded by oceanic wind  The winds have carved out mind-blowing formations, such as Barchans & Sieve, and display amazing desert topography  As one of the most fascinating Vietnam tourist places, it is crowded during the peak season  Yet, it is quite challenging to explore the entire area by trekking  Hence, people need to hire sledge, quad bikes, and buggies or take an ostrich ride  Location: South China Sea, Southeast Vietnam, Vietnam Timings: NA Famous for: The stunning view of the place and the activities at the place Entry Fee: VND10,000 camps  ', '42': ' Phu Quoc  Image Source  Located about 50 km from the Vietnam mainland, Phu Quoc is a spectacular land on the Gulf of Thailand  One of the most famous places in Vietnam, the island consists of sparkling white sand beaches, nearly transparent crystal clear water, virgin shoreline, bustling shacks, and a serene environment  Enjoy the photogenic sunset or take a stroll along the beaches and make the holiday a dream come true  Location: Kien Giang province, Vietnam Timings: All-day Famous for: Largest island in Vietnam Entry fee: NA  The Complete Guide To Tam Coc In Vietnam: The Mysterious Caves Of North Vietnam  ', '43': ' Ninh Binh  Ninh Binh is another topographical splendour on the southern end of the Red River Delta  The place represents a typical Vietnamese rural scene with lush green paddy fields, verdant mountains, and winding rivers cutting through the village  The former capital of Vietnam, Ninh Binh is one of the popular Vietnam tourist places  Location: Red River Delta, Northern Vietnam Timings: All-day Famous for: Awestruck beauty of the place Entry fee: NA   Phong Nha Ke Bang National Park  Image Source  Phong Nha Ke Bang National Park – a world heritage site – is a biosphere reserve that comprises evergreen forests and more than 100 fauna species  These include tigers, elephants, primates, saola, reptiles, amphibians, and many varieties of birds  The national park – comprising of Asia’s largest karst mountains, caves, and underground rivers – is of the most famous Vietnam tourist spots among others  Location: Phong NHA, Bố Trạch District, Quang Binh Province 511860, Vietnam Timings: 7:00 a m to 4:00 p m  Famous for: Home to a large variety of fauna Entry fee: NA  Vietnam Shopping: 21 Places For Shopaholics Fancying An Astounding Experience   Ba Be National Park  Image Source  Built-in 1992, Ba Be National Park is located in the Bac Kan Province and is considered as one of the mind-blowing tourist places in Vietnam  People visit this national park for the superb karst topography, sparkling waterfalls, stunning lake, and amazing wildlife  The rare mammals, butterflies, turtles, and fishes that can be seen here attract nature enthusiasts and photographers from across the world  Location: Bố Lù, Ba Bể District, Bắc Kạn Province 23511, Vietnam Timings: Open 24 hours Famous for: Abode to rare fauna Entry fee: VND15,000 VND20,000   Ha Giang  Image Credit: Quangpraha for Pixabay  The place is yet to be unravelled or excavated by mass tourists  It’s still a hidden gem in Vietnam popular for its natural beauty  This place is the home for ninety per cent of the ethnic minorities who have a noticeable influence over the culture predominant in this place  Due to the political turmoil this region has remained unaffected by the economic uplift in Vietnam for the past 20 years  Dong Van Karst Global Geopark, was chosen by UNESCO as one of the 77 sites with geological and cultural heritage  The Geopark is filled with delicate Karst formations nearly 400 million years old  Meo Vac town visit is another amazing experience especially on Sunday mornings as the marketplace set up and one can be the witness of the social conduct shared by the ethnic tribe and as a traveller, it will be a whole new different experience if one gets to taste their local food  Among the farthest most places in North Vietnam, another most wonderful spot to visit is The Hmong King’s palace in Sa-Phin located on the road to Dong Van   Location: Northern Vietnam Timings: NA Famous for: Home to 90% of an ethnic minority, rich in culture and natural beauty Entry fee: VND230,000  Vietnam In June: A Guide For An Exhilarating Summer Staycation   Dien Bien Phu  Image Source  The place is surrounded by forests mostly dominated by it  The place is important for its historical relevance on the basis of the war which resulted in the collapse of the French Indochina dominion  The historical background calls for tourists all around the world specifically the battleground located in the west of the Nam Yum River  This place is located in the Muong Thanh Valley  This place was founded by the Nguyen Dynasty in the year 1841  The forest and the historical facts make this special for the tourist in Vietnam  Location: Northwestern Vietnam Timings: NA Famous for: Its history Entry fee: No entry fee   Ba Be Lake  Image Source  For adventure lovers, this place is the right location, the freshwater lake located in Back Kan province in Vietnam is the most suitable place for adventure lovers to indulge in various outdoor activities which include boating, kayaking and even climbing through tropical jungles  Location: Nam Mau, Ba Be district, Bac Kan Province, Northeast Vietnam Timings: All-day Famous for: Its scenic beauty and the activities Entry fee: NA  All About The Enticing Cham Islands For An Exciting Vietnamese Holiday   Ban Gioc Waterfall  Image Source  Located in the Cao Ban province of Vietnam were to reach the falls one needs to sail through the waters  The other most mesmerizing fact about the place is the mountains, which are made up of limestones  It straddles the international border of Vietnam and China  Location: TL 211, Đàm Thuỷ, Trùng Khánh, Cao Bằng, Vietnam Timings: Open 24 hours Famous for: The mountains made of limestones and the water stream Entry fee: VND40,000   Bai Tu Long The island is away from the crowd located in the North-East direction of Halong Bay The place with its natural beauty and aura will leave tourists awestruck  The Karsts made limestone is the main attraction for the tourists  Location: Halong Bay, Vietnam Timings: All-day Famous for: The natural beauty and the limestone plateau Entry fee: NA  8 Famous Hindu Temples In Vietnam To Seek Blessings   Co To Island The island belonging to the Quang Ninh Province of Vietnam with fine white sand, and blue waters acts as a favourable place for tourists to spend their leisure  It is an Archipelago located in the Gulf of Tokin  It is one of the most romantic places in Vietnam with tranquil blue waters, white sandy beaches and golden sunshine  It is quite famous among all the other Vietnam tourist attractions  Location: Quang Ninh Province, Vietnam Timings: All-day Famous for: Its natural beauty and the calm environment of the place Entry fee: NA   Han River Bridge  Image Credit: Dragfyre for Wikipedia  Located in the city of Da Nang, Han River Bridge is considered to be a treat to the eyes  It is one of the 4 bridges in the city  The cable-supported swing bridge is an ideal place to enjoy a peaceful evening stroll  During the night, this bridge lights up magnificently and gives one all the reasons to stay a little longer  It is one of the most famous Vietnam visiting places  Location: Da Nang, Vietnam Timings: All-day Famous for: the beauty of the place at night Entry fee: VND22,300  Villas In Vietnam: 6 Places To Hit The Sack In Trung Quốc  Now that you have a fair idea about the must-see places in Vietnam, it is time to pack your bags and plan your holiday to Vietnam right away  Wait no more and convince your family or friends for this holiday and do not forget to include all these places to visit in Vietnam in your itinerary  Click selfies, soak yourself in the sun, and gather all the memories  For our editorial codes of conduct and copyright disclaimer please click here  Frequently Asked Questions About Places to Visit in Vietnam  Why is Vietnam a popular tourist destination? Vietnam is a country that has almost everything to offer to tourists, right from some very lush and green paddy fields to the curvaceous peaks of mountain ranges  Whether you just want to mingle with the melting pot of cultural ethnicities, or you want to immerse yourself in the hypnotizing beauty of Halong Bay or just want to ride your bike out in the countryside, Vietnam will live up to your expectations on every front  What is Vietnam famous for?  Vietnam has a rich history and has a lot of tangible resources to show for it which include the Hoa Lo Prison of Hanoi, the palatial buildings of Nguyen dynasty, tunnels from the time of the Vietnamese war like the Cu Chi tunnel and a DMZ in central Vietnam housing several monuments and museums  All of this doesn’t discredit the very rich natural biodiversity of Vietnam which ranges from mountains to deltas to plains and what not  Is it safe to travel to Vietnam given the covid situation? Make sure you understand and follow all airline and destination requirements related to travel, testing, masking, or quarantine  You need to follow all the mandatory guidelines and safety protocols mentioned by the government  Make sure that you take the following precautions: 1  Wearing masks and gloves in public places 2  Maintaining social distancing 3  Sanitizing your hands regularly 4  Avoiding crowded spaces 5  In case of any symptoms, get yourself tested urgently  Is Vietnam cheap for tourists?  Vietnam is a developing nation, with comparatively low costs for travellers  The costs are comparable to Thailand and other nearby countries  However, the accommodation cost is a bit high  The cost will depend on the kind of stay, the number of days you plan for and the food that you want to try  What is the most visited place in Vietnam?  Vietnam is full of stunning sightseeing points and places  It is difficult to pick any particular place as there are a lot of famous places amongst tourists  Some of which are Ha Long Bay, Ho Chi Minh city, Hanoi, Hue and many more  What should I avoid in Vietnam? Vietnam is continuously growing in terms of tourism and so are the concerns and problems related to it  Few things you should take care of are: 1  Avoid carrying any money while travelling, in order to avoid robbery or being a victim of pickpockets  Do not wear shorts, dresses or skirts, or tops with low-necklines and bare shoulders to Temples and Pagodas   Public display of affection is frowned upon  Do not take photos of any military installation or anything to do with the military as that may come under breach of national security  Be a responsible tourist and respect the locals and the place  Which is the best place to visit in Vietnam?  Ha Giang, Sa Pa, Hanoi’s Old Quarter, Ha Long Bay, Ninh Binh and Phong Nha are some of the best places to visit in Vietnam which cannot be missed  It is advised to all the tourists to keep a perfect balance between exploring the rural areas with breathtaking landscapes and the big cities which stand as a testament to modern society  Is Vietnam safe to visit? Vietnam is quite a safe place to travel as the rules and regulations are quite strict here and people abide by them  The police here keep a tight grip and there are rarely any reports of theft and robbery in the country,although scams and hassles still persist at Hanoi, HCMC, and Nha Trang  Where is the best nightlife in Vietnam?  Some of the best places to explore the nightlife in Vietnam are Bia Hoi junction, Saigon Saigon rooftop bar, Sky36 club Da Nang, Rex Hotel Rooftop Bar and Level 23 Wine Bar  The best part about the nightlife in Vietnam is that it brews some of the cheapest draft beer in the world  How many days are enough to explore Vietnam? A traveler visiting Vietnam must have at least 2 weeks in hand to explore the best sights of the country and to explore the places which are quite unusual, 3 weeks are enough  However, 10 days is the minimum period one should keep in hand to cover the 4 most iconic Vietnamese spots- Ho Chi Minh City, Hanoi, Halong Bay and Hoi An  What is the best month to visit in Vietnam?  The summer months which start from May to August are the summer months which are typically hot and humid, while during the spring time which starts from March to April it is quite pleasant as the weather is warm and sunny  What to wear in Vietnam?  The travellers can pack loose and breathable clothes which cover up the knees and shoulders, while there are swim shorts and bathing suits  Alongside that people can also carry Sarong, light jackets and fleece, while for the winters there can be a warm hoodie which will be perfect to enjoy the time here in the country  People Also Read:  Places To Visit In China Places To Visit In Japan Places To Visit In Bishkek   PREVIOUS POST NEXT POST Category: Places To Visit, Vietnam Follow Us On:   Goa Holiday Packages  6% Off  ₹ 14893  ₹ 13999  per person  Goa 5 Days Package  5D & 4N  Goa  Upto 3 Stars  Meals  Sightseeing  Stay Included  Transfers  Customize & Get Quotes  8% Off  ₹ 7608  ₹ 6999  per person  Glorious Goa Tour Package  3D & 2N  Calangute  Upto 3 Stars  Meals  Sightseeing  Transfers  Customize & Get Quotes  9% Off  ₹ 7692  ₹ 7000  per person  Exciting Goa Sightseeing Tour Package  3D & 2N  Goa  Upto 3 Stars  Meals  Sightseeing  Stay Included  Transfers  Customize & Get Quotes  9% Off  ₹ 7692  ₹  per person  Best Selling Goa Holiday Packages For A Fantastic Trip In 2023  3D & 2N  Goa  Upto 3 Stars  Meals  Sightseeing  Stay Included  Transfers  Customize & Get Quotes  8% Off  ₹ 9782  ₹  per person  Goa Tour Package For 2 Persons  3D & 2N  Goa  Upto 3 Stars  Meals  Sightseeing  Stay Included  Transfers  Customize & Get Quotes  8% Off  ₹ 10869  ₹ 9999  per person  Goa Packages For Friends  4D & 3N  Goa  Upto 3 Stars  Meals  Sightseeing Stay Included  Transfers  Customize & Get Quotes  11% Off  ₹ 11235  ₹  per person  Dazzling Goa Tour Package  4D & 3N  Candolim  Upto 3 Stars  Meals  Sightseeing  Transfers  Customize & Get Quotes  8% Off  ₹ 11086  ₹ 10199  per person  Goa Tour Package For 4 Persons  3D & 2N  Goa  Upto 4 Stars  Meals  Sightseeing  Stay Included  Transfers  Customize & Get Quotes  9% Off  ₹ 12637  ₹  per person  4 Days Goa Package From Kolkata  4D & 3N  Goa  Upto 4 Stars  Meals  Sightseeing  Stay Included  Transfers  Customize & Get Quotes  9% Off  ₹ 12637  ₹ 11500  per person  A Goa Tour Full of Fun n Frolic  4D & 3N  Goa  Upto 3 Stars  Meals  Sightseeing  Stay Included  Transfers  Customize & Get Quotes  6% Off  ₹ 14893  ₹  per person  Goa 5 Days Package  5D & 4N  Goa  Upto 3 Stars  Meals  Sightseeing  Stay Included  Transfers  Customize & Get Quotes  8% Off  ₹ 7608  ₹ 6999  per person  Glorious Goa Tour Package  3D & 2N  Calangute  Upto 3 Stars  Meals  Sightseeing  Transfers  Customize & Get Quotes Previous Next  Calculate Your Trip Cost  ₹24,460 - ₹36,929  Per person cost calculated using travel cost of 1000+ travelers  Destination*  Hotel Category  2 Star 3 Star Star 5 Star  No of Days  7+ Month of Travel Jul  Flights Yes No Get Quotes Recent Posts  Thommanon Temple In Cambodia Where You Can Explore The Enigmatic Beauty  Hoi An Memories Land Is A Cultural Extravaganza You Can’t-Miss  5 Things To Do At The Erawan Museum For A Relaxing Day Out  Trending Blogs  Mysterious Places In India To Visit In 2024 More Bizarre Than The Bermuda Triangle  10 Scariest Roads In India That Are A Driver’s Nightmare  101 Places To Visit In India Before You Turn 30 in  Best Places To Visit In India By Month  Jan    Feb    Mar     Apr    May    Jun    Jul    Aug    Sep    Oct    Nov     Dec  Best Places To Visit Outside India By Month  Jan    Feb     Mar    Apr    May    Jun    Jul    Aug    Sep    Oct     Nov    Dec  TravelTriangle>Blog>International>Vietnam»>53 Stunning Places To Visit In Vietnam In 2024 For A Natural And Historic Retreat Packages By Theme International Tour Packages Packages From Top Cities International Tourism Guide Top International Hotels Our Story About us Team We are hiring! Get Inspired Testimonials Blog Travelogues Policies Terms and Conditions Privacy Policy More FAQs Contact Us RSS Feeds  Corporate Office  Holiday Triangle Travel Private Limited  Address: Plot No - 52 , 3rd Floor,  Batra House , Sector 32,  Gurugram -122001,Haryana  Landline: 1800 123 5555   1800 123 5555  customercare@traveltriangle com  All rights reserved © 2024  Trip Planner SEND  Attractions:   Popular Cities:   Tours: '}}\n"
          ]
        }
      ],
      "source": [
        "context_data_files = [\n",
        "    \"fine-tuning-traveltriangle-goa.json\",\n",
        "    \"fine-tuning-traveltriangle-japan.json\",\n",
        "    \"fine-tuning-traveltriangle-vietnam.json\"\n",
        "]\n",
        "dataset_files = [\n",
        "    \"fine-tuning-dataset-traveltriangle-goa.json\",\n",
        "    \"fine-tuning-dataset-traveltriangle-japan.json\",\n",
        "    \"fine-tuning-dataset-traveltriangle-vietnam.json\"\n",
        "]\n",
        "\n",
        "context_data = {}\n",
        "for i, file_path in enumerate(context_data_files):\n",
        "    with open(file_path, \"r\") as file:\n",
        "        context_data[i] = json.load(file)\n",
        "\n",
        "print(context_data)\n",
        "questions = [\n",
        "    \"What is the name of the attraction?\",\n",
        "    \"What is the location of the attraction?\",\n",
        "    \"Describe the attraction in detail.\",\n",
        "    \"What type of attraction is it? (e.g. historical, natural, amusement, beach)\"\n",
        "]\n"
      ]
    },
    {
      "cell_type": "code",
      "execution_count": 53,
      "metadata": {
        "id": "pxlzYjXVwxKZ",
        "outputId": "66ed7c76-b68a-4c87-dcc9-662bee552ac8",
        "colab": {
          "base_uri": "https://localhost:8080/"
        }
      },
      "outputs": [
        {
          "output_type": "execute_result",
          "data": {
            "text/plain": [
              "Dataset({\n",
              "    features: ['document', 'summary', 'id'],\n",
              "    num_rows: 402\n",
              "})"
            ]
          },
          "metadata": {},
          "execution_count": 53
        }
      ],
      "source": [
        "training_data = []\n",
        "\n",
        "for i, file_path in enumerate(dataset_files):\n",
        "    with open(file_path, \"r\") as file:\n",
        "        dataset = json.load(file)\n",
        "        for entry in dataset:\n",
        "\n",
        "            if entry['question'] != \"What type of attraction is it? (e.g. historical, natural, amusement, beach)\":\n",
        "                training_data.append({\"document\": context_data[i][str(entry['context_index'])], \"summary\": entry['answer'], \"id\": (str(i) + str(entry['context_index']))})\n",
        "\n",
        "df = pandas.DataFrame(training_data)\n",
        "\n",
        "dataset = Dataset.from_pandas(df)\n",
        "\n",
        "train_dataset = dataset\n",
        "test_dataset = dataset\n",
        "metric = load(\"rouge\")\n",
        "dataset"
      ]
    },
    {
      "cell_type": "code",
      "execution_count": 54,
      "metadata": {
        "id": "60XbR4zowxKZ",
        "outputId": "5f97d099-6b8c-41eb-8b9e-f68dc27f5a61",
        "colab": {
          "base_uri": "https://localhost:8080/"
        }
      },
      "outputs": [
        {
          "output_type": "execute_result",
          "data": {
            "text/plain": [
              "{'rouge1': 1.0, 'rouge2': 1.0, 'rougeL': 1.0, 'rougeLsum': 1.0}"
            ]
          },
          "metadata": {},
          "execution_count": 54
        }
      ],
      "source": [
        "fake_preds = [\"hello there\", \"general kenobi\"]\n",
        "fake_labels = [\"hello there\", \"general kenobi\"]\n",
        "metric.compute(predictions=fake_preds, references=fake_labels)"
      ]
    },
    {
      "cell_type": "code",
      "execution_count": 55,
      "metadata": {
        "id": "jzKwJWKfwxKZ"
      },
      "outputs": [],
      "source": [
        "from transformers import AutoTokenizer\n",
        "model_checkpoint = \"t5-small\"\n",
        "tokenizer = AutoTokenizer.from_pretrained(model_checkpoint)\n",
        "if model_checkpoint in [\"t5-small\", \"t5-base\", \"t5-larg\", \"t5-3b\", \"t5-11b\"]:\n",
        "    prefix = \"summarize: \"\n",
        "else:\n",
        "    prefix = \"\""
      ]
    },
    {
      "cell_type": "code",
      "execution_count": 56,
      "metadata": {
        "id": "BdPOH7ZpwxKZ",
        "outputId": "0bfddc2a-1cc1-43a4-e9cc-c787a6f94ef7",
        "colab": {
          "base_uri": "https://localhost:8080/"
        }
      },
      "outputs": [
        {
          "output_type": "execute_result",
          "data": {
            "text/plain": [
              "{'input_ids': [[21603, 10, 71, 1744, 9, 26, 9, 4361, 10, 7622, 20875, 663, 6298, 9149, 180, 2632, 2338, 53, 16, 1263, 9, 19, 19840, 406, 3, 9, 719, 12, 4361, 71, 1744, 9, 26, 9, 6, 25178, 8382, 44, 8, 259, 76, 1208, 13, 8, 4033, 1140, 26, 9881, 461, 8, 3457, 596, 13, 8, 21, 17, 6, 3, 9, 10785, 1408, 13, 1131, 18, 14853, 29, 1480, 5730, 131, 139, 8, 10210, 12, 607, 3, 9, 3, 354, 16142, 344, 192, 422, 23151, 576, 162, 7, 100, 20675, 2140, 19, 801, 38, 8271, 835, 5397, 2979, 10450, 10, 4361, 71, 1744, 9, 26, 9, 391, 26, 6, 71, 1744, 9, 26, 9, 4361, 5690, 6, 12959, 32, 4941, 6, 1263, 9, 1283, 2469, 1808, 4485, 53, 7, 10, 23239, 5422, 3, 104, 23096, 3246, 66, 477, 13, 8, 471, 14862, 938, 10, 21076, 14862, 18, 1570, 10, 898, 4198, 10892, 2122, 1384, 7, 10, 37, 2808, 2215, 173, 11, 3, 9, 957, 189, 12336, 2892, 1840, 571, 304, 23202, 10, 37, 21, 17, 19, 1069, 30, 8, 71, 1744, 9, 26, 9, 18, 134, 23, 32, 4941, 2409, 11, 54, 36, 1153, 3495, 57, 1373, 20333, 8495, 10, 465, 1764, 2572, 12021, 3403, 10, 2208, 2979, 8220, 7, 86, 1263, 9, 9557, 39, 2297, 16, 1263, 9, 68, 11319, 81, 125, 12, 103, 58, 506, 1263, 9, 1111, 1937, 199, 25, 253, 39, 200, 1469, 664, 55, 3385, 565, 6, 2979, 15, 7, 6, 3, 184, 2345, 15, 7, 55, 20492, 83, 7772, 7, 1129, 71, 925, 5271, 697, 16354, 51, 32, 106, 86, 1263, 9, 465, 3337, 1263, 9, 19, 8, 2979, 5826, 13, 1547, 55, 3403, 1537, 27, 60, 7, 107, 6792, 7, 37, 1377, 3385, 1225, 7187, 7, 1029, 978, 1263, 9, 16354, 51, 32, 106, 16993, 27676, 3, 7, 28586, 6, 24568, 53, 6, 3, 184, 3432, 14432, 420, 8, 570, 3403, 1537, 71, 1538, 7105, 7, 978, 7187, 1129, 389, 597, 302, 3471, 3385, 1225, 3351, 1129, 1263, 9, 3, 7855, 7, 4070, 9252, 3, 184, 223, 3552, 7, 55, 2321, 140, 132, 6, 230, 55, 3403, 1537, 6110, 7, 1483, 31, 7, 6288, 1129, 71, 1263, 9, 3351, 749, 162, 7, 466, 1263, 9, 27, 7, 1537, 19224, 71, 3450, 19344, 257, 12316, 6, 27256, 6, 7245, 18, 1549, 2608, 8108, 6, 11, 34, 744, 31, 17, 1190, 132, 55, 3403, 1537, 366, 86, 1263, 9, 6, 531, 363, 37, 2194, 3272, 7, 3963, 461, 2940, 3712, 9108, 2979, 3, 21714, 6, 3, 27471, 6, 10721, 190, 15412, 1475, 1628, 6, 3, 184, 72, 3403, 1537, 8555, 15, 7, 107, 23400, 7105, 7, 71, 4983, 19098, 1129, 1003, 3137, 86, 1263, 9, 6236, 17, 77, 3671, 15, 4559, 6791, 6, 9252, 6, 9894, 6, 3, 184, 72, 3403, 1537, 1610, 72, 44, 3, 11359, 24544, 16840, 19775, 3765, 3, 6657, 4957, 3637, 3, 2, 2490, 1], [21603, 10, 71, 1744, 9, 26, 9, 4361, 10, 7622, 20875, 663, 6298, 9149, 180, 2632, 2338, 53, 16, 1263, 9, 19, 19840, 406, 3, 9, 719, 12, 4361, 71, 1744, 9, 26, 9, 6, 25178, 8382, 44, 8, 259, 76, 1208, 13, 8, 4033, 1140, 26, 9881, 461, 8, 3457, 596, 13, 8, 21, 17, 6, 3, 9, 10785, 1408, 13, 1131, 18, 14853, 29, 1480, 5730, 131, 139, 8, 10210, 12, 607, 3, 9, 3, 354, 16142, 344, 192, 422, 23151, 576, 162, 7, 100, 20675, 2140, 19, 801, 38, 8271, 835, 5397, 2979, 10450, 10, 4361, 71, 1744, 9, 26, 9, 391, 26, 6, 71, 1744, 9, 26, 9, 4361, 5690, 6, 12959, 32, 4941, 6, 1263, 9, 1283, 2469, 1808, 4485, 53, 7, 10, 23239, 5422, 3, 104, 23096, 3246, 66, 477, 13, 8, 471, 14862, 938, 10, 21076, 14862, 18, 1570, 10, 898, 4198, 10892, 2122, 1384, 7, 10, 37, 2808, 2215, 173, 11, 3, 9, 957, 189, 12336, 2892, 1840, 571, 304, 23202, 10, 37, 21, 17, 19, 1069, 30, 8, 71, 1744, 9, 26, 9, 18, 134, 23, 32, 4941, 2409, 11, 54, 36, 1153, 3495, 57, 1373, 20333, 8495, 10, 465, 1764, 2572, 12021, 3403, 10, 2208, 2979, 8220, 7, 86, 1263, 9, 9557, 39, 2297, 16, 1263, 9, 68, 11319, 81, 125, 12, 103, 58, 506, 1263, 9, 1111, 1937, 199, 25, 253, 39, 200, 1469, 664, 55, 3385, 565, 6, 2979, 15, 7, 6, 3, 184, 2345, 15, 7, 55, 20492, 83, 7772, 7, 1129, 71, 925, 5271, 697, 16354, 51, 32, 106, 86, 1263, 9, 465, 3337, 1263, 9, 19, 8, 2979, 5826, 13, 1547, 55, 3403, 1537, 27, 60, 7, 107, 6792, 7, 37, 1377, 3385, 1225, 7187, 7, 1029, 978, 1263, 9, 16354, 51, 32, 106, 16993, 27676, 3, 7, 28586, 6, 24568, 53, 6, 3, 184, 3432, 14432, 420, 8, 570, 3403, 1537, 71, 1538, 7105, 7, 978, 7187, 1129, 389, 597, 302, 3471, 3385, 1225, 3351, 1129, 1263, 9, 3, 7855, 7, 4070, 9252, 3, 184, 223, 3552, 7, 55, 2321, 140, 132, 6, 230, 55, 3403, 1537, 6110, 7, 1483, 31, 7, 6288, 1129, 71, 1263, 9, 3351, 749, 162, 7, 466, 1263, 9, 27, 7, 1537, 19224, 71, 3450, 19344, 257, 12316, 6, 27256, 6, 7245, 18, 1549, 2608, 8108, 6, 11, 34, 744, 31, 17, 1190, 132, 55, 3403, 1537, 366, 86, 1263, 9, 6, 531, 363, 37, 2194, 3272, 7, 3963, 461, 2940, 3712, 9108, 2979, 3, 21714, 6, 3, 27471, 6, 10721, 190, 15412, 1475, 1628, 6, 3, 184, 72, 3403, 1537, 8555, 15, 7, 107, 23400, 7105, 7, 71, 4983, 19098, 1129, 1003, 3137, 86, 1263, 9, 6236, 17, 77, 3671, 15, 4559, 6791, 6, 9252, 6, 9894, 6, 3, 184, 72, 3403, 1537, 1610, 72, 44, 3, 11359, 24544, 16840, 19775, 3765, 3, 6657, 4957, 3637, 3, 2, 2490, 1]], 'attention_mask': [[1, 1, 1, 1, 1, 1, 1, 1, 1, 1, 1, 1, 1, 1, 1, 1, 1, 1, 1, 1, 1, 1, 1, 1, 1, 1, 1, 1, 1, 1, 1, 1, 1, 1, 1, 1, 1, 1, 1, 1, 1, 1, 1, 1, 1, 1, 1, 1, 1, 1, 1, 1, 1, 1, 1, 1, 1, 1, 1, 1, 1, 1, 1, 1, 1, 1, 1, 1, 1, 1, 1, 1, 1, 1, 1, 1, 1, 1, 1, 1, 1, 1, 1, 1, 1, 1, 1, 1, 1, 1, 1, 1, 1, 1, 1, 1, 1, 1, 1, 1, 1, 1, 1, 1, 1, 1, 1, 1, 1, 1, 1, 1, 1, 1, 1, 1, 1, 1, 1, 1, 1, 1, 1, 1, 1, 1, 1, 1, 1, 1, 1, 1, 1, 1, 1, 1, 1, 1, 1, 1, 1, 1, 1, 1, 1, 1, 1, 1, 1, 1, 1, 1, 1, 1, 1, 1, 1, 1, 1, 1, 1, 1, 1, 1, 1, 1, 1, 1, 1, 1, 1, 1, 1, 1, 1, 1, 1, 1, 1, 1, 1, 1, 1, 1, 1, 1, 1, 1, 1, 1, 1, 1, 1, 1, 1, 1, 1, 1, 1, 1, 1, 1, 1, 1, 1, 1, 1, 1, 1, 1, 1, 1, 1, 1, 1, 1, 1, 1, 1, 1, 1, 1, 1, 1, 1, 1, 1, 1, 1, 1, 1, 1, 1, 1, 1, 1, 1, 1, 1, 1, 1, 1, 1, 1, 1, 1, 1, 1, 1, 1, 1, 1, 1, 1, 1, 1, 1, 1, 1, 1, 1, 1, 1, 1, 1, 1, 1, 1, 1, 1, 1, 1, 1, 1, 1, 1, 1, 1, 1, 1, 1, 1, 1, 1, 1, 1, 1, 1, 1, 1, 1, 1, 1, 1, 1, 1, 1, 1, 1, 1, 1, 1, 1, 1, 1, 1, 1, 1, 1, 1, 1, 1, 1, 1, 1, 1, 1, 1, 1, 1, 1, 1, 1, 1, 1, 1, 1, 1, 1, 1, 1, 1, 1, 1, 1, 1, 1, 1, 1, 1, 1, 1, 1, 1, 1, 1, 1, 1, 1, 1, 1, 1, 1, 1, 1, 1, 1, 1, 1, 1, 1, 1, 1, 1, 1, 1, 1, 1, 1, 1, 1, 1, 1, 1, 1, 1, 1, 1, 1, 1, 1, 1, 1, 1, 1, 1, 1, 1, 1, 1, 1, 1, 1, 1, 1, 1, 1, 1, 1, 1, 1, 1, 1, 1, 1, 1, 1, 1, 1, 1, 1, 1, 1, 1, 1, 1, 1, 1, 1, 1, 1, 1, 1, 1, 1, 1, 1, 1, 1, 1, 1, 1, 1, 1, 1, 1, 1, 1, 1, 1, 1, 1, 1, 1, 1, 1, 1, 1, 1, 1, 1, 1, 1, 1, 1, 1, 1, 1, 1, 1, 1, 1, 1, 1, 1, 1, 1, 1, 1, 1, 1, 1, 1, 1, 1, 1, 1, 1, 1, 1, 1, 1], [1, 1, 1, 1, 1, 1, 1, 1, 1, 1, 1, 1, 1, 1, 1, 1, 1, 1, 1, 1, 1, 1, 1, 1, 1, 1, 1, 1, 1, 1, 1, 1, 1, 1, 1, 1, 1, 1, 1, 1, 1, 1, 1, 1, 1, 1, 1, 1, 1, 1, 1, 1, 1, 1, 1, 1, 1, 1, 1, 1, 1, 1, 1, 1, 1, 1, 1, 1, 1, 1, 1, 1, 1, 1, 1, 1, 1, 1, 1, 1, 1, 1, 1, 1, 1, 1, 1, 1, 1, 1, 1, 1, 1, 1, 1, 1, 1, 1, 1, 1, 1, 1, 1, 1, 1, 1, 1, 1, 1, 1, 1, 1, 1, 1, 1, 1, 1, 1, 1, 1, 1, 1, 1, 1, 1, 1, 1, 1, 1, 1, 1, 1, 1, 1, 1, 1, 1, 1, 1, 1, 1, 1, 1, 1, 1, 1, 1, 1, 1, 1, 1, 1, 1, 1, 1, 1, 1, 1, 1, 1, 1, 1, 1, 1, 1, 1, 1, 1, 1, 1, 1, 1, 1, 1, 1, 1, 1, 1, 1, 1, 1, 1, 1, 1, 1, 1, 1, 1, 1, 1, 1, 1, 1, 1, 1, 1, 1, 1, 1, 1, 1, 1, 1, 1, 1, 1, 1, 1, 1, 1, 1, 1, 1, 1, 1, 1, 1, 1, 1, 1, 1, 1, 1, 1, 1, 1, 1, 1, 1, 1, 1, 1, 1, 1, 1, 1, 1, 1, 1, 1, 1, 1, 1, 1, 1, 1, 1, 1, 1, 1, 1, 1, 1, 1, 1, 1, 1, 1, 1, 1, 1, 1, 1, 1, 1, 1, 1, 1, 1, 1, 1, 1, 1, 1, 1, 1, 1, 1, 1, 1, 1, 1, 1, 1, 1, 1, 1, 1, 1, 1, 1, 1, 1, 1, 1, 1, 1, 1, 1, 1, 1, 1, 1, 1, 1, 1, 1, 1, 1, 1, 1, 1, 1, 1, 1, 1, 1, 1, 1, 1, 1, 1, 1, 1, 1, 1, 1, 1, 1, 1, 1, 1, 1, 1, 1, 1, 1, 1, 1, 1, 1, 1, 1, 1, 1, 1, 1, 1, 1, 1, 1, 1, 1, 1, 1, 1, 1, 1, 1, 1, 1, 1, 1, 1, 1, 1, 1, 1, 1, 1, 1, 1, 1, 1, 1, 1, 1, 1, 1, 1, 1, 1, 1, 1, 1, 1, 1, 1, 1, 1, 1, 1, 1, 1, 1, 1, 1, 1, 1, 1, 1, 1, 1, 1, 1, 1, 1, 1, 1, 1, 1, 1, 1, 1, 1, 1, 1, 1, 1, 1, 1, 1, 1, 1, 1, 1, 1, 1, 1, 1, 1, 1, 1, 1, 1, 1, 1, 1, 1, 1, 1, 1, 1, 1, 1, 1, 1, 1, 1, 1, 1, 1, 1, 1, 1, 1, 1, 1, 1, 1, 1, 1, 1, 1, 1, 1, 1, 1, 1, 1, 1, 1, 1, 1, 1, 1, 1, 1, 1, 1, 1, 1]], 'labels': [[71, 1744, 9, 26, 9, 4361, 1], [4361, 71, 1744, 9, 26, 9, 391, 26, 6, 71, 1744, 9, 26, 9, 4361, 5690, 6, 12959, 32, 4941, 6, 1263, 9, 1283, 2469, 1808, 1]]}"
            ]
          },
          "metadata": {},
          "execution_count": 56
        }
      ],
      "source": [
        "max_input_length = 1024\n",
        "max_target_length = 128\n",
        "def preprocess_function(examples):\n",
        "    inputs = [prefix + doc for doc in examples[\"document\"]]\n",
        "    model_inputs = tokenizer(inputs, max_length=max_input_length, truncation=True)\n",
        "\n",
        "    # Setup the tokenizer for targets\n",
        "    labels = tokenizer(text_target=examples[\"summary\"], max_length=max_target_length, truncation=True)\n",
        "\n",
        "    model_inputs[\"labels\"] = labels[\"input_ids\"]\n",
        "    return model_inputs\n",
        "\n",
        "preprocess_function(train_dataset[:2])"
      ]
    },
    {
      "cell_type": "code",
      "execution_count": 57,
      "metadata": {
        "id": "rAAZgrm3wxKa",
        "outputId": "a64a762f-81c5-4482-db20-e28cc28bc94b",
        "colab": {
          "base_uri": "https://localhost:8080/",
          "height": 81,
          "referenced_widgets": [
            "127a3bc08a4441129cd543905f1d73ea",
            "782c5fceff4745a1b5e651fbd14c3f71",
            "056d5b4707c9437c8f3f42c706301a99",
            "b0cfdbbc78894ac7870bd09ae900210b",
            "451f87fd7f694595aef8eddb251934df",
            "a0238a78f6ae47849e4885191ccafe40",
            "659e7ebda88349caa4ecfe80550568db",
            "8971a0f026924fc0b65cd7555d14b18d",
            "7ccc50b244664be39f7d706188ca6851",
            "478da96ad02f4cebbb6728d1466a9543",
            "6ed70b7c404c40f2af9511ec25e20aaa",
            "2592034b93994edda1a30a2dc087111e",
            "74af4efd9dfe4f68b69a8dcef2d02406",
            "8aa6cd6c8a6d4d508df368f263d44e7c",
            "9013121c3aa344048976d5640eaaba17",
            "4578303724ec47cf9fc2c187e1b728f6",
            "e3776d36e1e3414db309a3a37ac5213c",
            "2b9385c7dc654940bfa60bf6cf78f8f7",
            "bd1a1381ac0f4efbbe1aa070a40ebdc1",
            "1cb047beea7244409faf22956d96bc0f",
            "91d3b5610b3249d8a92ac7f9858d81af",
            "2b891c0bd661441ba30067ddeb4aba57"
          ]
        }
      },
      "outputs": [
        {
          "output_type": "display_data",
          "data": {
            "text/plain": [
              "Map:   0%|          | 0/402 [00:00<?, ? examples/s]"
            ],
            "application/vnd.jupyter.widget-view+json": {
              "version_major": 2,
              "version_minor": 0,
              "model_id": "127a3bc08a4441129cd543905f1d73ea"
            }
          },
          "metadata": {}
        },
        {
          "output_type": "display_data",
          "data": {
            "text/plain": [
              "Map:   0%|          | 0/402 [00:00<?, ? examples/s]"
            ],
            "application/vnd.jupyter.widget-view+json": {
              "version_major": 2,
              "version_minor": 0,
              "model_id": "2592034b93994edda1a30a2dc087111e"
            }
          },
          "metadata": {}
        }
      ],
      "source": [
        "training_dataset = train_dataset.map(preprocess_function, batched=True)\n",
        "testing_dataset = test_dataset.map(preprocess_function, batched=True)\n",
        "\n"
      ]
    },
    {
      "cell_type": "code",
      "execution_count": 58,
      "metadata": {
        "id": "6c2sgSYswxKa"
      },
      "outputs": [],
      "source": [
        "from transformers import AutoModelForSeq2SeqLM, DataCollatorForSeq2Seq, Seq2SeqTrainingArguments, Seq2SeqTrainer\n",
        "\n",
        "model = AutoModelForSeq2SeqLM.from_pretrained(model_checkpoint)"
      ]
    },
    {
      "cell_type": "code",
      "source": [
        "!pip install accelerate -U\n",
        "!pip install transformers[torch]"
      ],
      "metadata": {
        "id": "1NDAG0Rix3Qw",
        "outputId": "8993ca8e-cffa-4dd4-99cf-d6ea9c034f24",
        "colab": {
          "base_uri": "https://localhost:8080/"
        }
      },
      "execution_count": 59,
      "outputs": [
        {
          "output_type": "stream",
          "name": "stdout",
          "text": [
            "Requirement already satisfied: accelerate in /usr/local/lib/python3.10/dist-packages (0.31.0)\n",
            "Requirement already satisfied: numpy>=1.17 in /usr/local/lib/python3.10/dist-packages (from accelerate) (1.25.2)\n",
            "Requirement already satisfied: packaging>=20.0 in /usr/local/lib/python3.10/dist-packages (from accelerate) (24.1)\n",
            "Requirement already satisfied: psutil in /usr/local/lib/python3.10/dist-packages (from accelerate) (5.9.5)\n",
            "Requirement already satisfied: pyyaml in /usr/local/lib/python3.10/dist-packages (from accelerate) (6.0.1)\n",
            "Requirement already satisfied: torch>=1.10.0 in /usr/local/lib/python3.10/dist-packages (from accelerate) (2.3.0+cu121)\n",
            "Requirement already satisfied: huggingface-hub in /usr/local/lib/python3.10/dist-packages (from accelerate) (0.23.3)\n",
            "Requirement already satisfied: safetensors>=0.3.1 in /usr/local/lib/python3.10/dist-packages (from accelerate) (0.4.3)\n",
            "Requirement already satisfied: filelock in /usr/local/lib/python3.10/dist-packages (from torch>=1.10.0->accelerate) (3.14.0)\n",
            "Requirement already satisfied: typing-extensions>=4.8.0 in /usr/local/lib/python3.10/dist-packages (from torch>=1.10.0->accelerate) (4.12.2)\n",
            "Requirement already satisfied: sympy in /usr/local/lib/python3.10/dist-packages (from torch>=1.10.0->accelerate) (1.12.1)\n",
            "Requirement already satisfied: networkx in /usr/local/lib/python3.10/dist-packages (from torch>=1.10.0->accelerate) (3.3)\n",
            "Requirement already satisfied: jinja2 in /usr/local/lib/python3.10/dist-packages (from torch>=1.10.0->accelerate) (3.1.4)\n",
            "Requirement already satisfied: fsspec in /usr/local/lib/python3.10/dist-packages (from torch>=1.10.0->accelerate) (2023.6.0)\n",
            "Requirement already satisfied: nvidia-cuda-nvrtc-cu12==12.1.105 in /usr/local/lib/python3.10/dist-packages (from torch>=1.10.0->accelerate) (12.1.105)\n",
            "Requirement already satisfied: nvidia-cuda-runtime-cu12==12.1.105 in /usr/local/lib/python3.10/dist-packages (from torch>=1.10.0->accelerate) (12.1.105)\n",
            "Requirement already satisfied: nvidia-cuda-cupti-cu12==12.1.105 in /usr/local/lib/python3.10/dist-packages (from torch>=1.10.0->accelerate) (12.1.105)\n",
            "Requirement already satisfied: nvidia-cudnn-cu12==8.9.2.26 in /usr/local/lib/python3.10/dist-packages (from torch>=1.10.0->accelerate) (8.9.2.26)\n",
            "Requirement already satisfied: nvidia-cublas-cu12==12.1.3.1 in /usr/local/lib/python3.10/dist-packages (from torch>=1.10.0->accelerate) (12.1.3.1)\n",
            "Requirement already satisfied: nvidia-cufft-cu12==11.0.2.54 in /usr/local/lib/python3.10/dist-packages (from torch>=1.10.0->accelerate) (11.0.2.54)\n",
            "Requirement already satisfied: nvidia-curand-cu12==10.3.2.106 in /usr/local/lib/python3.10/dist-packages (from torch>=1.10.0->accelerate) (10.3.2.106)\n",
            "Requirement already satisfied: nvidia-cusolver-cu12==11.4.5.107 in /usr/local/lib/python3.10/dist-packages (from torch>=1.10.0->accelerate) (11.4.5.107)\n",
            "Requirement already satisfied: nvidia-cusparse-cu12==12.1.0.106 in /usr/local/lib/python3.10/dist-packages (from torch>=1.10.0->accelerate) (12.1.0.106)\n",
            "Requirement already satisfied: nvidia-nccl-cu12==2.20.5 in /usr/local/lib/python3.10/dist-packages (from torch>=1.10.0->accelerate) (2.20.5)\n",
            "Requirement already satisfied: nvidia-nvtx-cu12==12.1.105 in /usr/local/lib/python3.10/dist-packages (from torch>=1.10.0->accelerate) (12.1.105)\n",
            "Requirement already satisfied: triton==2.3.0 in /usr/local/lib/python3.10/dist-packages (from torch>=1.10.0->accelerate) (2.3.0)\n",
            "Requirement already satisfied: nvidia-nvjitlink-cu12 in /usr/local/lib/python3.10/dist-packages (from nvidia-cusolver-cu12==11.4.5.107->torch>=1.10.0->accelerate) (12.5.40)\n",
            "Requirement already satisfied: requests in /usr/local/lib/python3.10/dist-packages (from huggingface-hub->accelerate) (2.32.3)\n",
            "Requirement already satisfied: tqdm>=4.42.1 in /usr/local/lib/python3.10/dist-packages (from huggingface-hub->accelerate) (4.66.4)\n",
            "Requirement already satisfied: MarkupSafe>=2.0 in /usr/local/lib/python3.10/dist-packages (from jinja2->torch>=1.10.0->accelerate) (2.1.5)\n",
            "Requirement already satisfied: charset-normalizer<4,>=2 in /usr/local/lib/python3.10/dist-packages (from requests->huggingface-hub->accelerate) (3.3.2)\n",
            "Requirement already satisfied: idna<4,>=2.5 in /usr/local/lib/python3.10/dist-packages (from requests->huggingface-hub->accelerate) (3.7)\n",
            "Requirement already satisfied: urllib3<3,>=1.21.1 in /usr/local/lib/python3.10/dist-packages (from requests->huggingface-hub->accelerate) (2.0.7)\n",
            "Requirement already satisfied: certifi>=2017.4.17 in /usr/local/lib/python3.10/dist-packages (from requests->huggingface-hub->accelerate) (2024.6.2)\n",
            "Requirement already satisfied: mpmath<1.4.0,>=1.1.0 in /usr/local/lib/python3.10/dist-packages (from sympy->torch>=1.10.0->accelerate) (1.3.0)\n",
            "Requirement already satisfied: transformers[torch] in /usr/local/lib/python3.10/dist-packages (4.41.2)\n",
            "Requirement already satisfied: filelock in /usr/local/lib/python3.10/dist-packages (from transformers[torch]) (3.14.0)\n",
            "Requirement already satisfied: huggingface-hub<1.0,>=0.23.0 in /usr/local/lib/python3.10/dist-packages (from transformers[torch]) (0.23.3)\n",
            "Requirement already satisfied: numpy>=1.17 in /usr/local/lib/python3.10/dist-packages (from transformers[torch]) (1.25.2)\n",
            "Requirement already satisfied: packaging>=20.0 in /usr/local/lib/python3.10/dist-packages (from transformers[torch]) (24.1)\n",
            "Requirement already satisfied: pyyaml>=5.1 in /usr/local/lib/python3.10/dist-packages (from transformers[torch]) (6.0.1)\n",
            "Requirement already satisfied: regex!=2019.12.17 in /usr/local/lib/python3.10/dist-packages (from transformers[torch]) (2024.5.15)\n",
            "Requirement already satisfied: requests in /usr/local/lib/python3.10/dist-packages (from transformers[torch]) (2.32.3)\n",
            "Requirement already satisfied: tokenizers<0.20,>=0.19 in /usr/local/lib/python3.10/dist-packages (from transformers[torch]) (0.19.1)\n",
            "Requirement already satisfied: safetensors>=0.4.1 in /usr/local/lib/python3.10/dist-packages (from transformers[torch]) (0.4.3)\n",
            "Requirement already satisfied: tqdm>=4.27 in /usr/local/lib/python3.10/dist-packages (from transformers[torch]) (4.66.4)\n",
            "Requirement already satisfied: torch in /usr/local/lib/python3.10/dist-packages (from transformers[torch]) (2.3.0+cu121)\n",
            "Requirement already satisfied: accelerate>=0.21.0 in /usr/local/lib/python3.10/dist-packages (from transformers[torch]) (0.31.0)\n",
            "Requirement already satisfied: psutil in /usr/local/lib/python3.10/dist-packages (from accelerate>=0.21.0->transformers[torch]) (5.9.5)\n",
            "Requirement already satisfied: fsspec>=2023.5.0 in /usr/local/lib/python3.10/dist-packages (from huggingface-hub<1.0,>=0.23.0->transformers[torch]) (2023.6.0)\n",
            "Requirement already satisfied: typing-extensions>=3.7.4.3 in /usr/local/lib/python3.10/dist-packages (from huggingface-hub<1.0,>=0.23.0->transformers[torch]) (4.12.2)\n",
            "Requirement already satisfied: sympy in /usr/local/lib/python3.10/dist-packages (from torch->transformers[torch]) (1.12.1)\n",
            "Requirement already satisfied: networkx in /usr/local/lib/python3.10/dist-packages (from torch->transformers[torch]) (3.3)\n",
            "Requirement already satisfied: jinja2 in /usr/local/lib/python3.10/dist-packages (from torch->transformers[torch]) (3.1.4)\n",
            "Requirement already satisfied: nvidia-cuda-nvrtc-cu12==12.1.105 in /usr/local/lib/python3.10/dist-packages (from torch->transformers[torch]) (12.1.105)\n",
            "Requirement already satisfied: nvidia-cuda-runtime-cu12==12.1.105 in /usr/local/lib/python3.10/dist-packages (from torch->transformers[torch]) (12.1.105)\n",
            "Requirement already satisfied: nvidia-cuda-cupti-cu12==12.1.105 in /usr/local/lib/python3.10/dist-packages (from torch->transformers[torch]) (12.1.105)\n",
            "Requirement already satisfied: nvidia-cudnn-cu12==8.9.2.26 in /usr/local/lib/python3.10/dist-packages (from torch->transformers[torch]) (8.9.2.26)\n",
            "Requirement already satisfied: nvidia-cublas-cu12==12.1.3.1 in /usr/local/lib/python3.10/dist-packages (from torch->transformers[torch]) (12.1.3.1)\n",
            "Requirement already satisfied: nvidia-cufft-cu12==11.0.2.54 in /usr/local/lib/python3.10/dist-packages (from torch->transformers[torch]) (11.0.2.54)\n",
            "Requirement already satisfied: nvidia-curand-cu12==10.3.2.106 in /usr/local/lib/python3.10/dist-packages (from torch->transformers[torch]) (10.3.2.106)\n",
            "Requirement already satisfied: nvidia-cusolver-cu12==11.4.5.107 in /usr/local/lib/python3.10/dist-packages (from torch->transformers[torch]) (11.4.5.107)\n",
            "Requirement already satisfied: nvidia-cusparse-cu12==12.1.0.106 in /usr/local/lib/python3.10/dist-packages (from torch->transformers[torch]) (12.1.0.106)\n",
            "Requirement already satisfied: nvidia-nccl-cu12==2.20.5 in /usr/local/lib/python3.10/dist-packages (from torch->transformers[torch]) (2.20.5)\n",
            "Requirement already satisfied: nvidia-nvtx-cu12==12.1.105 in /usr/local/lib/python3.10/dist-packages (from torch->transformers[torch]) (12.1.105)\n",
            "Requirement already satisfied: triton==2.3.0 in /usr/local/lib/python3.10/dist-packages (from torch->transformers[torch]) (2.3.0)\n",
            "Requirement already satisfied: nvidia-nvjitlink-cu12 in /usr/local/lib/python3.10/dist-packages (from nvidia-cusolver-cu12==11.4.5.107->torch->transformers[torch]) (12.5.40)\n",
            "Requirement already satisfied: charset-normalizer<4,>=2 in /usr/local/lib/python3.10/dist-packages (from requests->transformers[torch]) (3.3.2)\n",
            "Requirement already satisfied: idna<4,>=2.5 in /usr/local/lib/python3.10/dist-packages (from requests->transformers[torch]) (3.7)\n",
            "Requirement already satisfied: urllib3<3,>=1.21.1 in /usr/local/lib/python3.10/dist-packages (from requests->transformers[torch]) (2.0.7)\n",
            "Requirement already satisfied: certifi>=2017.4.17 in /usr/local/lib/python3.10/dist-packages (from requests->transformers[torch]) (2024.6.2)\n",
            "Requirement already satisfied: MarkupSafe>=2.0 in /usr/local/lib/python3.10/dist-packages (from jinja2->torch->transformers[torch]) (2.1.5)\n",
            "Requirement already satisfied: mpmath<1.4.0,>=1.1.0 in /usr/local/lib/python3.10/dist-packages (from sympy->torch->transformers[torch]) (1.3.0)\n"
          ]
        }
      ]
    },
    {
      "cell_type": "code",
      "execution_count": 60,
      "metadata": {
        "id": "F7fclJJGwxKa",
        "outputId": "402bb30b-d20b-4b1d-90d7-d0237b4154fe",
        "colab": {
          "base_uri": "https://localhost:8080/"
        }
      },
      "outputs": [
        {
          "output_type": "stream",
          "name": "stderr",
          "text": [
            "/usr/local/lib/python3.10/dist-packages/transformers/training_args.py:1474: FutureWarning: `evaluation_strategy` is deprecated and will be removed in version 4.46 of 🤗 Transformers. Use `eval_strategy` instead\n",
            "  warnings.warn(\n"
          ]
        }
      ],
      "source": [
        "batch_size = 16\n",
        "model_name = model_checkpoint.split(\"/\")[-1]\n",
        "args = Seq2SeqTrainingArguments(\n",
        "    f\"{model_name}-finetuned-attraction\",\n",
        "\n",
        "    evaluation_strategy = \"epoch\",\n",
        "    learning_rate=2e-5,\n",
        "    per_device_train_batch_size=batch_size,\n",
        "    per_device_eval_batch_size=batch_size,\n",
        "    weight_decay=0.01,\n",
        "    save_total_limit=3,\n",
        "    num_train_epochs=1,\n",
        "    predict_with_generate=True,\n",
        "    fp16=True,\n",
        "    push_to_hub=True,\n",
        ")"
      ]
    },
    {
      "cell_type": "code",
      "execution_count": 61,
      "metadata": {
        "id": "IEtA5FUNwxKa"
      },
      "outputs": [],
      "source": [
        "data_collator = DataCollatorForSeq2Seq(tokenizer, model=model)"
      ]
    },
    {
      "cell_type": "code",
      "execution_count": 72,
      "metadata": {
        "id": "fE7MPkldwxKa",
        "outputId": "a43e6b20-fc2a-44b8-ece6-33710b307219",
        "colab": {
          "base_uri": "https://localhost:8080/"
        }
      },
      "outputs": [
        {
          "output_type": "stream",
          "name": "stderr",
          "text": [
            "[nltk_data] Downloading package punkt to /root/nltk_data...\n",
            "[nltk_data]   Unzipping tokenizers/punkt.zip.\n"
          ]
        }
      ],
      "source": [
        "import nltk\n",
        "import numpy as np\n",
        "\n",
        "nltk.download(\"punkt\")\n",
        "\n",
        "def compute_metrics(eval_pred):\n",
        "    predictions, labels = eval_pred\n",
        "    decoded_preds = tokenizer.batch_decode(predictions, skip_special_tokens=True)\n",
        "    # Replace -100 in the labels as we can't decode them.\n",
        "    labels = np.where(labels != -100, labels, tokenizer.pad_token_id)\n",
        "    decoded_labels = tokenizer.batch_decode(labels, skip_special_tokens=True)\n",
        "\n",
        "    # Rouge expects a newline after each sentence\n",
        "    decoded_preds = [\"\\n\".join(nltk.sent_tokenize(pred.strip())) for pred in decoded_preds]\n",
        "    decoded_labels = [\"\\n\".join(nltk.sent_tokenize(label.strip())) for label in decoded_labels]\n",
        "\n",
        "    # Note that other metrics may not have a `use_aggregator` parameter\n",
        "    # and thus will return a list, computing a metric for each sentence.\n",
        "    result = metric.compute(predictions=decoded_preds, references=decoded_labels, use_stemmer=True, use_aggregator=True)\n",
        "    # Extract a few results\n",
        "    result = {key: value * 100 for key, value in result.items()}\n",
        "\n",
        "    # Add mean generated length\n",
        "    prediction_lens = [np.count_nonzero(pred != tokenizer.pad_token_id) for pred in predictions]\n",
        "    result[\"gen_len\"] = np.mean(prediction_lens)\n",
        "\n",
        "    return {k: round(v, 4) for k, v in result.items()}"
      ]
    },
    {
      "cell_type": "code",
      "execution_count": 73,
      "metadata": {
        "id": "WIT2xihywxKa"
      },
      "outputs": [],
      "source": [
        "trainer = Seq2SeqTrainer(\n",
        "    model,\n",
        "    args,\n",
        "    train_dataset=training_dataset,\n",
        "    eval_dataset=testing_dataset,\n",
        "    data_collator=data_collator,\n",
        "    tokenizer=tokenizer,\n",
        "    compute_metrics=compute_metrics,\n",
        ")"
      ]
    },
    {
      "cell_type": "code",
      "source": [
        "print(\"Training dataset size:\", len(training_dataset))\n",
        "print(\"Test dataset size:\", len(testing_dataset))"
      ],
      "metadata": {
        "id": "wfdQom4G5QRi",
        "outputId": "24258ff8-c2de-44fa-9798-c2e2c27df002",
        "colab": {
          "base_uri": "https://localhost:8080/"
        }
      },
      "execution_count": 74,
      "outputs": [
        {
          "output_type": "stream",
          "name": "stdout",
          "text": [
            "Training dataset size: 402\n",
            "Test dataset size: 402\n"
          ]
        }
      ]
    },
    {
      "cell_type": "code",
      "source": [
        "trainer.train()"
      ],
      "metadata": {
        "id": "QXV-IJyC5DPP",
        "outputId": "37c85a19-16c0-493c-ecae-ea13ab0ecc2c",
        "colab": {
          "base_uri": "https://localhost:8080/",
          "height": 245
        }
      },
      "execution_count": 75,
      "outputs": [
        {
          "output_type": "display_data",
          "data": {
            "text/plain": [
              "<IPython.core.display.HTML object>"
            ],
            "text/html": [
              "\n",
              "    <div>\n",
              "      \n",
              "      <progress value='26' max='26' style='width:300px; height:20px; vertical-align: middle;'></progress>\n",
              "      [26/26 00:26, Epoch 1/1]\n",
              "    </div>\n",
              "    <table border=\"1\" class=\"dataframe\">\n",
              "  <thead>\n",
              " <tr style=\"text-align: left;\">\n",
              "      <th>Epoch</th>\n",
              "      <th>Training Loss</th>\n",
              "      <th>Validation Loss</th>\n",
              "      <th>Rouge1</th>\n",
              "      <th>Rouge2</th>\n",
              "      <th>Rougel</th>\n",
              "      <th>Rougelsum</th>\n",
              "      <th>Gen Len</th>\n",
              "    </tr>\n",
              "  </thead>\n",
              "  <tbody>\n",
              "    <tr>\n",
              "      <td>1</td>\n",
              "      <td>No log</td>\n",
              "      <td>1.696002</td>\n",
              "      <td>21.702600</td>\n",
              "      <td>11.570300</td>\n",
              "      <td>20.816600</td>\n",
              "      <td>21.343400</td>\n",
              "      <td>19.000000</td>\n",
              "    </tr>\n",
              "  </tbody>\n",
              "</table><p>"
            ]
          },
          "metadata": {}
        },
        {
          "output_type": "stream",
          "name": "stderr",
          "text": [
            "/usr/local/lib/python3.10/dist-packages/transformers/generation/utils.py:1168: UserWarning: Using the model-agnostic default `max_length` (=20) to control the generation length. We recommend setting `max_new_tokens` to control the maximum length of the generation.\n",
            "  warnings.warn(\n"
          ]
        },
        {
          "output_type": "execute_result",
          "data": {
            "text/plain": [
              "TrainOutput(global_step=26, training_loss=1.9877380957970252, metrics={'train_runtime': 27.0889, 'train_samples_per_second': 14.84, 'train_steps_per_second': 0.96, 'total_flos': 60691810418688.0, 'train_loss': 1.9877380957970252, 'epoch': 1.0})"
            ]
          },
          "metadata": {},
          "execution_count": 75
        }
      ]
    },
    {
      "cell_type": "code",
      "source": [
        "model_name = model_checkpoint.split(\"/\")[-1]\n",
        "trainer.push_to_hub(\"T5-Finetuning\")"
      ],
      "metadata": {
        "id": "twI8sa5i5_rK",
        "outputId": "85f516b2-2df6-4f4f-8f1d-77d151348106",
        "colab": {
          "base_uri": "https://localhost:8080/",
          "height": 85
        }
      },
      "execution_count": 77,
      "outputs": [
        {
          "output_type": "execute_result",
          "data": {
            "text/plain": [
              "CommitInfo(commit_url='https://huggingface.co/NoelTiju/t5-small-finetuned-attraction/commit/6a3776362655c833b0347dd57ad2a8424b04e380', commit_message='T5-Finetuning', commit_description='', oid='6a3776362655c833b0347dd57ad2a8424b04e380', pr_url=None, pr_revision=None, pr_num=None)"
            ],
            "application/vnd.google.colaboratory.intrinsic+json": {
              "type": "string"
            }
          },
          "metadata": {},
          "execution_count": 77
        }
      ]
    },
    {
      "cell_type": "markdown",
      "source": [],
      "metadata": {
        "id": "Bx_mm9gC6I-H"
      }
    }
  ],
  "metadata": {
    "kernelspec": {
      "display_name": "Python 3",
      "name": "python3"
    },
    "language_info": {
      "codemirror_mode": {
        "name": "ipython",
        "version": 3
      },
      "file_extension": ".py",
      "mimetype": "text/x-python",
      "name": "python",
      "nbconvert_exporter": "python",
      "pygments_lexer": "ipython3",
      "version": "3.10.14"
    },
    "colab": {
      "provenance": [],
      "gpuType": "T4"
    },
    "accelerator": "GPU",
    "widgets": {
      "application/vnd.jupyter.widget-state+json": {
        "d995253b2bf84bdd9e1b0ca233da9f4d": {
          "model_module": "@jupyter-widgets/controls",
          "model_name": "VBoxModel",
          "model_module_version": "1.5.0",
          "state": {
            "_dom_classes": [],
            "_model_module": "@jupyter-widgets/controls",
            "_model_module_version": "1.5.0",
            "_model_name": "VBoxModel",
            "_view_count": null,
            "_view_module": "@jupyter-widgets/controls",
            "_view_module_version": "1.5.0",
            "_view_name": "VBoxView",
            "box_style": "",
            "children": [
              "IPY_MODEL_954b577cbf5c44d289ace558a9a79c45",
              "IPY_MODEL_6a0c5da13bfe484ba0b5b3a621340234",
              "IPY_MODEL_59ce45b5094b4338a22a8211cccfff0d",
              "IPY_MODEL_a410066e6d414592b9fc81207b5cadf2"
            ],
            "layout": "IPY_MODEL_fb1f4f3784264b8eb11f808ec37156e6"
          }
        },
        "47bff32c3087499e97dd747ea6cf45c1": {
          "model_module": "@jupyter-widgets/controls",
          "model_name": "HTMLModel",
          "model_module_version": "1.5.0",
          "state": {
            "_dom_classes": [],
            "_model_module": "@jupyter-widgets/controls",
            "_model_module_version": "1.5.0",
            "_model_name": "HTMLModel",
            "_view_count": null,
            "_view_module": "@jupyter-widgets/controls",
            "_view_module_version": "1.5.0",
            "_view_name": "HTMLView",
            "description": "",
            "description_tooltip": null,
            "layout": "IPY_MODEL_cfd02a839f9b4c16ac568afccbd0ebbf",
            "placeholder": "​",
            "style": "IPY_MODEL_5022f237162147ecb7824ea47cab8027",
            "value": "<center> <img\nsrc=https://huggingface.co/front/assets/huggingface_logo-noborder.svg\nalt='Hugging Face'> <br> Copy a token from <a\nhref=\"https://huggingface.co/settings/tokens\" target=\"_blank\">your Hugging Face\ntokens page</a> and paste it below. <br> Immediately click login after copying\nyour token or it might be stored in plain text in this notebook file. </center>"
          }
        },
        "cd33e71ea7924c9f93e9dea9028949b3": {
          "model_module": "@jupyter-widgets/controls",
          "model_name": "PasswordModel",
          "model_module_version": "1.5.0",
          "state": {
            "_dom_classes": [],
            "_model_module": "@jupyter-widgets/controls",
            "_model_module_version": "1.5.0",
            "_model_name": "PasswordModel",
            "_view_count": null,
            "_view_module": "@jupyter-widgets/controls",
            "_view_module_version": "1.5.0",
            "_view_name": "PasswordView",
            "continuous_update": true,
            "description": "Token:",
            "description_tooltip": null,
            "disabled": false,
            "layout": "IPY_MODEL_36d4746f49b541ca99ae1845aa5c8cf3",
            "placeholder": "​",
            "style": "IPY_MODEL_917af53f919c488ba856619661cbb09c",
            "value": ""
          }
        },
        "760f11ac6eff4daa854c247873a9db70": {
          "model_module": "@jupyter-widgets/controls",
          "model_name": "CheckboxModel",
          "model_module_version": "1.5.0",
          "state": {
            "_dom_classes": [],
            "_model_module": "@jupyter-widgets/controls",
            "_model_module_version": "1.5.0",
            "_model_name": "CheckboxModel",
            "_view_count": null,
            "_view_module": "@jupyter-widgets/controls",
            "_view_module_version": "1.5.0",
            "_view_name": "CheckboxView",
            "description": "Add token as git credential?",
            "description_tooltip": null,
            "disabled": false,
            "indent": true,
            "layout": "IPY_MODEL_78e466d29c8b4b8ea68568bd85b0d4ac",
            "style": "IPY_MODEL_9e9d5e90f82e4f6f94eac65e569f7d2a",
            "value": true
          }
        },
        "7c412bd5b3d248ea8cd38f604c75977b": {
          "model_module": "@jupyter-widgets/controls",
          "model_name": "ButtonModel",
          "model_module_version": "1.5.0",
          "state": {
            "_dom_classes": [],
            "_model_module": "@jupyter-widgets/controls",
            "_model_module_version": "1.5.0",
            "_model_name": "ButtonModel",
            "_view_count": null,
            "_view_module": "@jupyter-widgets/controls",
            "_view_module_version": "1.5.0",
            "_view_name": "ButtonView",
            "button_style": "",
            "description": "Login",
            "disabled": false,
            "icon": "",
            "layout": "IPY_MODEL_ce293f2d54b5473e963c47e6b76cd720",
            "style": "IPY_MODEL_1fdf7d00770e425483d93c0998139fcb",
            "tooltip": ""
          }
        },
        "5f6d559bde06424e8432b3be37d16a61": {
          "model_module": "@jupyter-widgets/controls",
          "model_name": "HTMLModel",
          "model_module_version": "1.5.0",
          "state": {
            "_dom_classes": [],
            "_model_module": "@jupyter-widgets/controls",
            "_model_module_version": "1.5.0",
            "_model_name": "HTMLModel",
            "_view_count": null,
            "_view_module": "@jupyter-widgets/controls",
            "_view_module_version": "1.5.0",
            "_view_name": "HTMLView",
            "description": "",
            "description_tooltip": null,
            "layout": "IPY_MODEL_a20cfc0143d94bf0bc2918e0971f7311",
            "placeholder": "​",
            "style": "IPY_MODEL_95110d31dec54a9288ab76b908c88142",
            "value": "\n<b>Pro Tip:</b> If you don't already have one, you can create a dedicated\n'notebooks' token with 'write' access, that you can then easily reuse for all\nnotebooks. </center>"
          }
        },
        "fb1f4f3784264b8eb11f808ec37156e6": {
          "model_module": "@jupyter-widgets/base",
          "model_name": "LayoutModel",
          "model_module_version": "1.2.0",
          "state": {
            "_model_module": "@jupyter-widgets/base",
            "_model_module_version": "1.2.0",
            "_model_name": "LayoutModel",
            "_view_count": null,
            "_view_module": "@jupyter-widgets/base",
            "_view_module_version": "1.2.0",
            "_view_name": "LayoutView",
            "align_content": null,
            "align_items": "center",
            "align_self": null,
            "border": null,
            "bottom": null,
            "display": "flex",
            "flex": null,
            "flex_flow": "column",
            "grid_area": null,
            "grid_auto_columns": null,
            "grid_auto_flow": null,
            "grid_auto_rows": null,
            "grid_column": null,
            "grid_gap": null,
            "grid_row": null,
            "grid_template_areas": null,
            "grid_template_columns": null,
            "grid_template_rows": null,
            "height": null,
            "justify_content": null,
            "justify_items": null,
            "left": null,
            "margin": null,
            "max_height": null,
            "max_width": null,
            "min_height": null,
            "min_width": null,
            "object_fit": null,
            "object_position": null,
            "order": null,
            "overflow": null,
            "overflow_x": null,
            "overflow_y": null,
            "padding": null,
            "right": null,
            "top": null,
            "visibility": null,
            "width": "50%"
          }
        },
        "cfd02a839f9b4c16ac568afccbd0ebbf": {
          "model_module": "@jupyter-widgets/base",
          "model_name": "LayoutModel",
          "model_module_version": "1.2.0",
          "state": {
            "_model_module": "@jupyter-widgets/base",
            "_model_module_version": "1.2.0",
            "_model_name": "LayoutModel",
            "_view_count": null,
            "_view_module": "@jupyter-widgets/base",
            "_view_module_version": "1.2.0",
            "_view_name": "LayoutView",
            "align_content": null,
            "align_items": null,
            "align_self": null,
            "border": null,
            "bottom": null,
            "display": null,
            "flex": null,
            "flex_flow": null,
            "grid_area": null,
            "grid_auto_columns": null,
            "grid_auto_flow": null,
            "grid_auto_rows": null,
            "grid_column": null,
            "grid_gap": null,
            "grid_row": null,
            "grid_template_areas": null,
            "grid_template_columns": null,
            "grid_template_rows": null,
            "height": null,
            "justify_content": null,
            "justify_items": null,
            "left": null,
            "margin": null,
            "max_height": null,
            "max_width": null,
            "min_height": null,
            "min_width": null,
            "object_fit": null,
            "object_position": null,
            "order": null,
            "overflow": null,
            "overflow_x": null,
            "overflow_y": null,
            "padding": null,
            "right": null,
            "top": null,
            "visibility": null,
            "width": null
          }
        },
        "5022f237162147ecb7824ea47cab8027": {
          "model_module": "@jupyter-widgets/controls",
          "model_name": "DescriptionStyleModel",
          "model_module_version": "1.5.0",
          "state": {
            "_model_module": "@jupyter-widgets/controls",
            "_model_module_version": "1.5.0",
            "_model_name": "DescriptionStyleModel",
            "_view_count": null,
            "_view_module": "@jupyter-widgets/base",
            "_view_module_version": "1.2.0",
            "_view_name": "StyleView",
            "description_width": ""
          }
        },
        "36d4746f49b541ca99ae1845aa5c8cf3": {
          "model_module": "@jupyter-widgets/base",
          "model_name": "LayoutModel",
          "model_module_version": "1.2.0",
          "state": {
            "_model_module": "@jupyter-widgets/base",
            "_model_module_version": "1.2.0",
            "_model_name": "LayoutModel",
            "_view_count": null,
            "_view_module": "@jupyter-widgets/base",
            "_view_module_version": "1.2.0",
            "_view_name": "LayoutView",
            "align_content": null,
            "align_items": null,
            "align_self": null,
            "border": null,
            "bottom": null,
            "display": null,
            "flex": null,
            "flex_flow": null,
            "grid_area": null,
            "grid_auto_columns": null,
            "grid_auto_flow": null,
            "grid_auto_rows": null,
            "grid_column": null,
            "grid_gap": null,
            "grid_row": null,
            "grid_template_areas": null,
            "grid_template_columns": null,
            "grid_template_rows": null,
            "height": null,
            "justify_content": null,
            "justify_items": null,
            "left": null,
            "margin": null,
            "max_height": null,
            "max_width": null,
            "min_height": null,
            "min_width": null,
            "object_fit": null,
            "object_position": null,
            "order": null,
            "overflow": null,
            "overflow_x": null,
            "overflow_y": null,
            "padding": null,
            "right": null,
            "top": null,
            "visibility": null,
            "width": null
          }
        },
        "917af53f919c488ba856619661cbb09c": {
          "model_module": "@jupyter-widgets/controls",
          "model_name": "DescriptionStyleModel",
          "model_module_version": "1.5.0",
          "state": {
            "_model_module": "@jupyter-widgets/controls",
            "_model_module_version": "1.5.0",
            "_model_name": "DescriptionStyleModel",
            "_view_count": null,
            "_view_module": "@jupyter-widgets/base",
            "_view_module_version": "1.2.0",
            "_view_name": "StyleView",
            "description_width": ""
          }
        },
        "78e466d29c8b4b8ea68568bd85b0d4ac": {
          "model_module": "@jupyter-widgets/base",
          "model_name": "LayoutModel",
          "model_module_version": "1.2.0",
          "state": {
            "_model_module": "@jupyter-widgets/base",
            "_model_module_version": "1.2.0",
            "_model_name": "LayoutModel",
            "_view_count": null,
            "_view_module": "@jupyter-widgets/base",
            "_view_module_version": "1.2.0",
            "_view_name": "LayoutView",
            "align_content": null,
            "align_items": null,
            "align_self": null,
            "border": null,
            "bottom": null,
            "display": null,
            "flex": null,
            "flex_flow": null,
            "grid_area": null,
            "grid_auto_columns": null,
            "grid_auto_flow": null,
            "grid_auto_rows": null,
            "grid_column": null,
            "grid_gap": null,
            "grid_row": null,
            "grid_template_areas": null,
            "grid_template_columns": null,
            "grid_template_rows": null,
            "height": null,
            "justify_content": null,
            "justify_items": null,
            "left": null,
            "margin": null,
            "max_height": null,
            "max_width": null,
            "min_height": null,
            "min_width": null,
            "object_fit": null,
            "object_position": null,
            "order": null,
            "overflow": null,
            "overflow_x": null,
            "overflow_y": null,
            "padding": null,
            "right": null,
            "top": null,
            "visibility": null,
            "width": null
          }
        },
        "9e9d5e90f82e4f6f94eac65e569f7d2a": {
          "model_module": "@jupyter-widgets/controls",
          "model_name": "DescriptionStyleModel",
          "model_module_version": "1.5.0",
          "state": {
            "_model_module": "@jupyter-widgets/controls",
            "_model_module_version": "1.5.0",
            "_model_name": "DescriptionStyleModel",
            "_view_count": null,
            "_view_module": "@jupyter-widgets/base",
            "_view_module_version": "1.2.0",
            "_view_name": "StyleView",
            "description_width": ""
          }
        },
        "ce293f2d54b5473e963c47e6b76cd720": {
          "model_module": "@jupyter-widgets/base",
          "model_name": "LayoutModel",
          "model_module_version": "1.2.0",
          "state": {
            "_model_module": "@jupyter-widgets/base",
            "_model_module_version": "1.2.0",
            "_model_name": "LayoutModel",
            "_view_count": null,
            "_view_module": "@jupyter-widgets/base",
            "_view_module_version": "1.2.0",
            "_view_name": "LayoutView",
            "align_content": null,
            "align_items": null,
            "align_self": null,
            "border": null,
            "bottom": null,
            "display": null,
            "flex": null,
            "flex_flow": null,
            "grid_area": null,
            "grid_auto_columns": null,
            "grid_auto_flow": null,
            "grid_auto_rows": null,
            "grid_column": null,
            "grid_gap": null,
            "grid_row": null,
            "grid_template_areas": null,
            "grid_template_columns": null,
            "grid_template_rows": null,
            "height": null,
            "justify_content": null,
            "justify_items": null,
            "left": null,
            "margin": null,
            "max_height": null,
            "max_width": null,
            "min_height": null,
            "min_width": null,
            "object_fit": null,
            "object_position": null,
            "order": null,
            "overflow": null,
            "overflow_x": null,
            "overflow_y": null,
            "padding": null,
            "right": null,
            "top": null,
            "visibility": null,
            "width": null
          }
        },
        "1fdf7d00770e425483d93c0998139fcb": {
          "model_module": "@jupyter-widgets/controls",
          "model_name": "ButtonStyleModel",
          "model_module_version": "1.5.0",
          "state": {
            "_model_module": "@jupyter-widgets/controls",
            "_model_module_version": "1.5.0",
            "_model_name": "ButtonStyleModel",
            "_view_count": null,
            "_view_module": "@jupyter-widgets/base",
            "_view_module_version": "1.2.0",
            "_view_name": "StyleView",
            "button_color": null,
            "font_weight": ""
          }
        },
        "a20cfc0143d94bf0bc2918e0971f7311": {
          "model_module": "@jupyter-widgets/base",
          "model_name": "LayoutModel",
          "model_module_version": "1.2.0",
          "state": {
            "_model_module": "@jupyter-widgets/base",
            "_model_module_version": "1.2.0",
            "_model_name": "LayoutModel",
            "_view_count": null,
            "_view_module": "@jupyter-widgets/base",
            "_view_module_version": "1.2.0",
            "_view_name": "LayoutView",
            "align_content": null,
            "align_items": null,
            "align_self": null,
            "border": null,
            "bottom": null,
            "display": null,
            "flex": null,
            "flex_flow": null,
            "grid_area": null,
            "grid_auto_columns": null,
            "grid_auto_flow": null,
            "grid_auto_rows": null,
            "grid_column": null,
            "grid_gap": null,
            "grid_row": null,
            "grid_template_areas": null,
            "grid_template_columns": null,
            "grid_template_rows": null,
            "height": null,
            "justify_content": null,
            "justify_items": null,
            "left": null,
            "margin": null,
            "max_height": null,
            "max_width": null,
            "min_height": null,
            "min_width": null,
            "object_fit": null,
            "object_position": null,
            "order": null,
            "overflow": null,
            "overflow_x": null,
            "overflow_y": null,
            "padding": null,
            "right": null,
            "top": null,
            "visibility": null,
            "width": null
          }
        },
        "95110d31dec54a9288ab76b908c88142": {
          "model_module": "@jupyter-widgets/controls",
          "model_name": "DescriptionStyleModel",
          "model_module_version": "1.5.0",
          "state": {
            "_model_module": "@jupyter-widgets/controls",
            "_model_module_version": "1.5.0",
            "_model_name": "DescriptionStyleModel",
            "_view_count": null,
            "_view_module": "@jupyter-widgets/base",
            "_view_module_version": "1.2.0",
            "_view_name": "StyleView",
            "description_width": ""
          }
        },
        "dce658fdea9545b6ae091c0d0c9b3f01": {
          "model_module": "@jupyter-widgets/controls",
          "model_name": "LabelModel",
          "model_module_version": "1.5.0",
          "state": {
            "_dom_classes": [],
            "_model_module": "@jupyter-widgets/controls",
            "_model_module_version": "1.5.0",
            "_model_name": "LabelModel",
            "_view_count": null,
            "_view_module": "@jupyter-widgets/controls",
            "_view_module_version": "1.5.0",
            "_view_name": "LabelView",
            "description": "",
            "description_tooltip": null,
            "layout": "IPY_MODEL_c70ae4f54b564dc5b5f564b156c49d01",
            "placeholder": "​",
            "style": "IPY_MODEL_edc05d4e9ace4cfea586c7e60bf9ae8f",
            "value": "Connecting..."
          }
        },
        "c70ae4f54b564dc5b5f564b156c49d01": {
          "model_module": "@jupyter-widgets/base",
          "model_name": "LayoutModel",
          "model_module_version": "1.2.0",
          "state": {
            "_model_module": "@jupyter-widgets/base",
            "_model_module_version": "1.2.0",
            "_model_name": "LayoutModel",
            "_view_count": null,
            "_view_module": "@jupyter-widgets/base",
            "_view_module_version": "1.2.0",
            "_view_name": "LayoutView",
            "align_content": null,
            "align_items": null,
            "align_self": null,
            "border": null,
            "bottom": null,
            "display": null,
            "flex": null,
            "flex_flow": null,
            "grid_area": null,
            "grid_auto_columns": null,
            "grid_auto_flow": null,
            "grid_auto_rows": null,
            "grid_column": null,
            "grid_gap": null,
            "grid_row": null,
            "grid_template_areas": null,
            "grid_template_columns": null,
            "grid_template_rows": null,
            "height": null,
            "justify_content": null,
            "justify_items": null,
            "left": null,
            "margin": null,
            "max_height": null,
            "max_width": null,
            "min_height": null,
            "min_width": null,
            "object_fit": null,
            "object_position": null,
            "order": null,
            "overflow": null,
            "overflow_x": null,
            "overflow_y": null,
            "padding": null,
            "right": null,
            "top": null,
            "visibility": null,
            "width": null
          }
        },
        "edc05d4e9ace4cfea586c7e60bf9ae8f": {
          "model_module": "@jupyter-widgets/controls",
          "model_name": "DescriptionStyleModel",
          "model_module_version": "1.5.0",
          "state": {
            "_model_module": "@jupyter-widgets/controls",
            "_model_module_version": "1.5.0",
            "_model_name": "DescriptionStyleModel",
            "_view_count": null,
            "_view_module": "@jupyter-widgets/base",
            "_view_module_version": "1.2.0",
            "_view_name": "StyleView",
            "description_width": ""
          }
        },
        "954b577cbf5c44d289ace558a9a79c45": {
          "model_module": "@jupyter-widgets/controls",
          "model_name": "LabelModel",
          "model_module_version": "1.5.0",
          "state": {
            "_dom_classes": [],
            "_model_module": "@jupyter-widgets/controls",
            "_model_module_version": "1.5.0",
            "_model_name": "LabelModel",
            "_view_count": null,
            "_view_module": "@jupyter-widgets/controls",
            "_view_module_version": "1.5.0",
            "_view_name": "LabelView",
            "description": "",
            "description_tooltip": null,
            "layout": "IPY_MODEL_d47abbee4b6c4c82a34cc60c0822fef4",
            "placeholder": "​",
            "style": "IPY_MODEL_f70b298c15734f64aaff02b4271ef937",
            "value": "Token is valid (permission: fineGrained)."
          }
        },
        "6a0c5da13bfe484ba0b5b3a621340234": {
          "model_module": "@jupyter-widgets/controls",
          "model_name": "LabelModel",
          "model_module_version": "1.5.0",
          "state": {
            "_dom_classes": [],
            "_model_module": "@jupyter-widgets/controls",
            "_model_module_version": "1.5.0",
            "_model_name": "LabelModel",
            "_view_count": null,
            "_view_module": "@jupyter-widgets/controls",
            "_view_module_version": "1.5.0",
            "_view_name": "LabelView",
            "description": "",
            "description_tooltip": null,
            "layout": "IPY_MODEL_5e1be729142c4b5bbbb6239294d28e6f",
            "placeholder": "​",
            "style": "IPY_MODEL_e7111efebfcd47629745bb76d0a26852",
            "value": "Your token has been saved in your configured git credential helpers (store)."
          }
        },
        "59ce45b5094b4338a22a8211cccfff0d": {
          "model_module": "@jupyter-widgets/controls",
          "model_name": "LabelModel",
          "model_module_version": "1.5.0",
          "state": {
            "_dom_classes": [],
            "_model_module": "@jupyter-widgets/controls",
            "_model_module_version": "1.5.0",
            "_model_name": "LabelModel",
            "_view_count": null,
            "_view_module": "@jupyter-widgets/controls",
            "_view_module_version": "1.5.0",
            "_view_name": "LabelView",
            "description": "",
            "description_tooltip": null,
            "layout": "IPY_MODEL_d332a27bd40545b6b30b95ceb7c20114",
            "placeholder": "​",
            "style": "IPY_MODEL_a3d3348580ce40b080fc70ebb4fffc3d",
            "value": "Your token has been saved to /root/.cache/huggingface/token"
          }
        },
        "a410066e6d414592b9fc81207b5cadf2": {
          "model_module": "@jupyter-widgets/controls",
          "model_name": "LabelModel",
          "model_module_version": "1.5.0",
          "state": {
            "_dom_classes": [],
            "_model_module": "@jupyter-widgets/controls",
            "_model_module_version": "1.5.0",
            "_model_name": "LabelModel",
            "_view_count": null,
            "_view_module": "@jupyter-widgets/controls",
            "_view_module_version": "1.5.0",
            "_view_name": "LabelView",
            "description": "",
            "description_tooltip": null,
            "layout": "IPY_MODEL_a2c7c9f90df041f593b021df8097d827",
            "placeholder": "​",
            "style": "IPY_MODEL_0e5800264ff44cd3b10b58429f44e7cc",
            "value": "Login successful"
          }
        },
        "d47abbee4b6c4c82a34cc60c0822fef4": {
          "model_module": "@jupyter-widgets/base",
          "model_name": "LayoutModel",
          "model_module_version": "1.2.0",
          "state": {
            "_model_module": "@jupyter-widgets/base",
            "_model_module_version": "1.2.0",
            "_model_name": "LayoutModel",
            "_view_count": null,
            "_view_module": "@jupyter-widgets/base",
            "_view_module_version": "1.2.0",
            "_view_name": "LayoutView",
            "align_content": null,
            "align_items": null,
            "align_self": null,
            "border": null,
            "bottom": null,
            "display": null,
            "flex": null,
            "flex_flow": null,
            "grid_area": null,
            "grid_auto_columns": null,
            "grid_auto_flow": null,
            "grid_auto_rows": null,
            "grid_column": null,
            "grid_gap": null,
            "grid_row": null,
            "grid_template_areas": null,
            "grid_template_columns": null,
            "grid_template_rows": null,
            "height": null,
            "justify_content": null,
            "justify_items": null,
            "left": null,
            "margin": null,
            "max_height": null,
            "max_width": null,
            "min_height": null,
            "min_width": null,
            "object_fit": null,
            "object_position": null,
            "order": null,
            "overflow": null,
            "overflow_x": null,
            "overflow_y": null,
            "padding": null,
            "right": null,
            "top": null,
            "visibility": null,
            "width": null
          }
        },
        "f70b298c15734f64aaff02b4271ef937": {
          "model_module": "@jupyter-widgets/controls",
          "model_name": "DescriptionStyleModel",
          "model_module_version": "1.5.0",
          "state": {
            "_model_module": "@jupyter-widgets/controls",
            "_model_module_version": "1.5.0",
            "_model_name": "DescriptionStyleModel",
            "_view_count": null,
            "_view_module": "@jupyter-widgets/base",
            "_view_module_version": "1.2.0",
            "_view_name": "StyleView",
            "description_width": ""
          }
        },
        "5e1be729142c4b5bbbb6239294d28e6f": {
          "model_module": "@jupyter-widgets/base",
          "model_name": "LayoutModel",
          "model_module_version": "1.2.0",
          "state": {
            "_model_module": "@jupyter-widgets/base",
            "_model_module_version": "1.2.0",
            "_model_name": "LayoutModel",
            "_view_count": null,
            "_view_module": "@jupyter-widgets/base",
            "_view_module_version": "1.2.0",
            "_view_name": "LayoutView",
            "align_content": null,
            "align_items": null,
            "align_self": null,
            "border": null,
            "bottom": null,
            "display": null,
            "flex": null,
            "flex_flow": null,
            "grid_area": null,
            "grid_auto_columns": null,
            "grid_auto_flow": null,
            "grid_auto_rows": null,
            "grid_column": null,
            "grid_gap": null,
            "grid_row": null,
            "grid_template_areas": null,
            "grid_template_columns": null,
            "grid_template_rows": null,
            "height": null,
            "justify_content": null,
            "justify_items": null,
            "left": null,
            "margin": null,
            "max_height": null,
            "max_width": null,
            "min_height": null,
            "min_width": null,
            "object_fit": null,
            "object_position": null,
            "order": null,
            "overflow": null,
            "overflow_x": null,
            "overflow_y": null,
            "padding": null,
            "right": null,
            "top": null,
            "visibility": null,
            "width": null
          }
        },
        "e7111efebfcd47629745bb76d0a26852": {
          "model_module": "@jupyter-widgets/controls",
          "model_name": "DescriptionStyleModel",
          "model_module_version": "1.5.0",
          "state": {
            "_model_module": "@jupyter-widgets/controls",
            "_model_module_version": "1.5.0",
            "_model_name": "DescriptionStyleModel",
            "_view_count": null,
            "_view_module": "@jupyter-widgets/base",
            "_view_module_version": "1.2.0",
            "_view_name": "StyleView",
            "description_width": ""
          }
        },
        "d332a27bd40545b6b30b95ceb7c20114": {
          "model_module": "@jupyter-widgets/base",
          "model_name": "LayoutModel",
          "model_module_version": "1.2.0",
          "state": {
            "_model_module": "@jupyter-widgets/base",
            "_model_module_version": "1.2.0",
            "_model_name": "LayoutModel",
            "_view_count": null,
            "_view_module": "@jupyter-widgets/base",
            "_view_module_version": "1.2.0",
            "_view_name": "LayoutView",
            "align_content": null,
            "align_items": null,
            "align_self": null,
            "border": null,
            "bottom": null,
            "display": null,
            "flex": null,
            "flex_flow": null,
            "grid_area": null,
            "grid_auto_columns": null,
            "grid_auto_flow": null,
            "grid_auto_rows": null,
            "grid_column": null,
            "grid_gap": null,
            "grid_row": null,
            "grid_template_areas": null,
            "grid_template_columns": null,
            "grid_template_rows": null,
            "height": null,
            "justify_content": null,
            "justify_items": null,
            "left": null,
            "margin": null,
            "max_height": null,
            "max_width": null,
            "min_height": null,
            "min_width": null,
            "object_fit": null,
            "object_position": null,
            "order": null,
            "overflow": null,
            "overflow_x": null,
            "overflow_y": null,
            "padding": null,
            "right": null,
            "top": null,
            "visibility": null,
            "width": null
          }
        },
        "a3d3348580ce40b080fc70ebb4fffc3d": {
          "model_module": "@jupyter-widgets/controls",
          "model_name": "DescriptionStyleModel",
          "model_module_version": "1.5.0",
          "state": {
            "_model_module": "@jupyter-widgets/controls",
            "_model_module_version": "1.5.0",
            "_model_name": "DescriptionStyleModel",
            "_view_count": null,
            "_view_module": "@jupyter-widgets/base",
            "_view_module_version": "1.2.0",
            "_view_name": "StyleView",
            "description_width": ""
          }
        },
        "a2c7c9f90df041f593b021df8097d827": {
          "model_module": "@jupyter-widgets/base",
          "model_name": "LayoutModel",
          "model_module_version": "1.2.0",
          "state": {
            "_model_module": "@jupyter-widgets/base",
            "_model_module_version": "1.2.0",
            "_model_name": "LayoutModel",
            "_view_count": null,
            "_view_module": "@jupyter-widgets/base",
            "_view_module_version": "1.2.0",
            "_view_name": "LayoutView",
            "align_content": null,
            "align_items": null,
            "align_self": null,
            "border": null,
            "bottom": null,
            "display": null,
            "flex": null,
            "flex_flow": null,
            "grid_area": null,
            "grid_auto_columns": null,
            "grid_auto_flow": null,
            "grid_auto_rows": null,
            "grid_column": null,
            "grid_gap": null,
            "grid_row": null,
            "grid_template_areas": null,
            "grid_template_columns": null,
            "grid_template_rows": null,
            "height": null,
            "justify_content": null,
            "justify_items": null,
            "left": null,
            "margin": null,
            "max_height": null,
            "max_width": null,
            "min_height": null,
            "min_width": null,
            "object_fit": null,
            "object_position": null,
            "order": null,
            "overflow": null,
            "overflow_x": null,
            "overflow_y": null,
            "padding": null,
            "right": null,
            "top": null,
            "visibility": null,
            "width": null
          }
        },
        "0e5800264ff44cd3b10b58429f44e7cc": {
          "model_module": "@jupyter-widgets/controls",
          "model_name": "DescriptionStyleModel",
          "model_module_version": "1.5.0",
          "state": {
            "_model_module": "@jupyter-widgets/controls",
            "_model_module_version": "1.5.0",
            "_model_name": "DescriptionStyleModel",
            "_view_count": null,
            "_view_module": "@jupyter-widgets/base",
            "_view_module_version": "1.2.0",
            "_view_name": "StyleView",
            "description_width": ""
          }
        },
        "127a3bc08a4441129cd543905f1d73ea": {
          "model_module": "@jupyter-widgets/controls",
          "model_name": "HBoxModel",
          "model_module_version": "1.5.0",
          "state": {
            "_dom_classes": [],
            "_model_module": "@jupyter-widgets/controls",
            "_model_module_version": "1.5.0",
            "_model_name": "HBoxModel",
            "_view_count": null,
            "_view_module": "@jupyter-widgets/controls",
            "_view_module_version": "1.5.0",
            "_view_name": "HBoxView",
            "box_style": "",
            "children": [
              "IPY_MODEL_782c5fceff4745a1b5e651fbd14c3f71",
              "IPY_MODEL_056d5b4707c9437c8f3f42c706301a99",
              "IPY_MODEL_b0cfdbbc78894ac7870bd09ae900210b"
            ],
            "layout": "IPY_MODEL_451f87fd7f694595aef8eddb251934df"
          }
        },
        "782c5fceff4745a1b5e651fbd14c3f71": {
          "model_module": "@jupyter-widgets/controls",
          "model_name": "HTMLModel",
          "model_module_version": "1.5.0",
          "state": {
            "_dom_classes": [],
            "_model_module": "@jupyter-widgets/controls",
            "_model_module_version": "1.5.0",
            "_model_name": "HTMLModel",
            "_view_count": null,
            "_view_module": "@jupyter-widgets/controls",
            "_view_module_version": "1.5.0",
            "_view_name": "HTMLView",
            "description": "",
            "description_tooltip": null,
            "layout": "IPY_MODEL_a0238a78f6ae47849e4885191ccafe40",
            "placeholder": "​",
            "style": "IPY_MODEL_659e7ebda88349caa4ecfe80550568db",
            "value": "Map: 100%"
          }
        },
        "056d5b4707c9437c8f3f42c706301a99": {
          "model_module": "@jupyter-widgets/controls",
          "model_name": "FloatProgressModel",
          "model_module_version": "1.5.0",
          "state": {
            "_dom_classes": [],
            "_model_module": "@jupyter-widgets/controls",
            "_model_module_version": "1.5.0",
            "_model_name": "FloatProgressModel",
            "_view_count": null,
            "_view_module": "@jupyter-widgets/controls",
            "_view_module_version": "1.5.0",
            "_view_name": "ProgressView",
            "bar_style": "success",
            "description": "",
            "description_tooltip": null,
            "layout": "IPY_MODEL_8971a0f026924fc0b65cd7555d14b18d",
            "max": 402,
            "min": 0,
            "orientation": "horizontal",
            "style": "IPY_MODEL_7ccc50b244664be39f7d706188ca6851",
            "value": 402
          }
        },
        "b0cfdbbc78894ac7870bd09ae900210b": {
          "model_module": "@jupyter-widgets/controls",
          "model_name": "HTMLModel",
          "model_module_version": "1.5.0",
          "state": {
            "_dom_classes": [],
            "_model_module": "@jupyter-widgets/controls",
            "_model_module_version": "1.5.0",
            "_model_name": "HTMLModel",
            "_view_count": null,
            "_view_module": "@jupyter-widgets/controls",
            "_view_module_version": "1.5.0",
            "_view_name": "HTMLView",
            "description": "",
            "description_tooltip": null,
            "layout": "IPY_MODEL_478da96ad02f4cebbb6728d1466a9543",
            "placeholder": "​",
            "style": "IPY_MODEL_6ed70b7c404c40f2af9511ec25e20aaa",
            "value": " 402/402 [00:01&lt;00:00, 414.28 examples/s]"
          }
        },
        "451f87fd7f694595aef8eddb251934df": {
          "model_module": "@jupyter-widgets/base",
          "model_name": "LayoutModel",
          "model_module_version": "1.2.0",
          "state": {
            "_model_module": "@jupyter-widgets/base",
            "_model_module_version": "1.2.0",
            "_model_name": "LayoutModel",
            "_view_count": null,
            "_view_module": "@jupyter-widgets/base",
            "_view_module_version": "1.2.0",
            "_view_name": "LayoutView",
            "align_content": null,
            "align_items": null,
            "align_self": null,
            "border": null,
            "bottom": null,
            "display": null,
            "flex": null,
            "flex_flow": null,
            "grid_area": null,
            "grid_auto_columns": null,
            "grid_auto_flow": null,
            "grid_auto_rows": null,
            "grid_column": null,
            "grid_gap": null,
            "grid_row": null,
            "grid_template_areas": null,
            "grid_template_columns": null,
            "grid_template_rows": null,
            "height": null,
            "justify_content": null,
            "justify_items": null,
            "left": null,
            "margin": null,
            "max_height": null,
            "max_width": null,
            "min_height": null,
            "min_width": null,
            "object_fit": null,
            "object_position": null,
            "order": null,
            "overflow": null,
            "overflow_x": null,
            "overflow_y": null,
            "padding": null,
            "right": null,
            "top": null,
            "visibility": null,
            "width": null
          }
        },
        "a0238a78f6ae47849e4885191ccafe40": {
          "model_module": "@jupyter-widgets/base",
          "model_name": "LayoutModel",
          "model_module_version": "1.2.0",
          "state": {
            "_model_module": "@jupyter-widgets/base",
            "_model_module_version": "1.2.0",
            "_model_name": "LayoutModel",
            "_view_count": null,
            "_view_module": "@jupyter-widgets/base",
            "_view_module_version": "1.2.0",
            "_view_name": "LayoutView",
            "align_content": null,
            "align_items": null,
            "align_self": null,
            "border": null,
            "bottom": null,
            "display": null,
            "flex": null,
            "flex_flow": null,
            "grid_area": null,
            "grid_auto_columns": null,
            "grid_auto_flow": null,
            "grid_auto_rows": null,
            "grid_column": null,
            "grid_gap": null,
            "grid_row": null,
            "grid_template_areas": null,
            "grid_template_columns": null,
            "grid_template_rows": null,
            "height": null,
            "justify_content": null,
            "justify_items": null,
            "left": null,
            "margin": null,
            "max_height": null,
            "max_width": null,
            "min_height": null,
            "min_width": null,
            "object_fit": null,
            "object_position": null,
            "order": null,
            "overflow": null,
            "overflow_x": null,
            "overflow_y": null,
            "padding": null,
            "right": null,
            "top": null,
            "visibility": null,
            "width": null
          }
        },
        "659e7ebda88349caa4ecfe80550568db": {
          "model_module": "@jupyter-widgets/controls",
          "model_name": "DescriptionStyleModel",
          "model_module_version": "1.5.0",
          "state": {
            "_model_module": "@jupyter-widgets/controls",
            "_model_module_version": "1.5.0",
            "_model_name": "DescriptionStyleModel",
            "_view_count": null,
            "_view_module": "@jupyter-widgets/base",
            "_view_module_version": "1.2.0",
            "_view_name": "StyleView",
            "description_width": ""
          }
        },
        "8971a0f026924fc0b65cd7555d14b18d": {
          "model_module": "@jupyter-widgets/base",
          "model_name": "LayoutModel",
          "model_module_version": "1.2.0",
          "state": {
            "_model_module": "@jupyter-widgets/base",
            "_model_module_version": "1.2.0",
            "_model_name": "LayoutModel",
            "_view_count": null,
            "_view_module": "@jupyter-widgets/base",
            "_view_module_version": "1.2.0",
            "_view_name": "LayoutView",
            "align_content": null,
            "align_items": null,
            "align_self": null,
            "border": null,
            "bottom": null,
            "display": null,
            "flex": null,
            "flex_flow": null,
            "grid_area": null,
            "grid_auto_columns": null,
            "grid_auto_flow": null,
            "grid_auto_rows": null,
            "grid_column": null,
            "grid_gap": null,
            "grid_row": null,
            "grid_template_areas": null,
            "grid_template_columns": null,
            "grid_template_rows": null,
            "height": null,
            "justify_content": null,
            "justify_items": null,
            "left": null,
            "margin": null,
            "max_height": null,
            "max_width": null,
            "min_height": null,
            "min_width": null,
            "object_fit": null,
            "object_position": null,
            "order": null,
            "overflow": null,
            "overflow_x": null,
            "overflow_y": null,
            "padding": null,
            "right": null,
            "top": null,
            "visibility": null,
            "width": null
          }
        },
        "7ccc50b244664be39f7d706188ca6851": {
          "model_module": "@jupyter-widgets/controls",
          "model_name": "ProgressStyleModel",
          "model_module_version": "1.5.0",
          "state": {
            "_model_module": "@jupyter-widgets/controls",
            "_model_module_version": "1.5.0",
            "_model_name": "ProgressStyleModel",
            "_view_count": null,
            "_view_module": "@jupyter-widgets/base",
            "_view_module_version": "1.2.0",
            "_view_name": "StyleView",
            "bar_color": null,
            "description_width": ""
          }
        },
        "478da96ad02f4cebbb6728d1466a9543": {
          "model_module": "@jupyter-widgets/base",
          "model_name": "LayoutModel",
          "model_module_version": "1.2.0",
          "state": {
            "_model_module": "@jupyter-widgets/base",
            "_model_module_version": "1.2.0",
            "_model_name": "LayoutModel",
            "_view_count": null,
            "_view_module": "@jupyter-widgets/base",
            "_view_module_version": "1.2.0",
            "_view_name": "LayoutView",
            "align_content": null,
            "align_items": null,
            "align_self": null,
            "border": null,
            "bottom": null,
            "display": null,
            "flex": null,
            "flex_flow": null,
            "grid_area": null,
            "grid_auto_columns": null,
            "grid_auto_flow": null,
            "grid_auto_rows": null,
            "grid_column": null,
            "grid_gap": null,
            "grid_row": null,
            "grid_template_areas": null,
            "grid_template_columns": null,
            "grid_template_rows": null,
            "height": null,
            "justify_content": null,
            "justify_items": null,
            "left": null,
            "margin": null,
            "max_height": null,
            "max_width": null,
            "min_height": null,
            "min_width": null,
            "object_fit": null,
            "object_position": null,
            "order": null,
            "overflow": null,
            "overflow_x": null,
            "overflow_y": null,
            "padding": null,
            "right": null,
            "top": null,
            "visibility": null,
            "width": null
          }
        },
        "6ed70b7c404c40f2af9511ec25e20aaa": {
          "model_module": "@jupyter-widgets/controls",
          "model_name": "DescriptionStyleModel",
          "model_module_version": "1.5.0",
          "state": {
            "_model_module": "@jupyter-widgets/controls",
            "_model_module_version": "1.5.0",
            "_model_name": "DescriptionStyleModel",
            "_view_count": null,
            "_view_module": "@jupyter-widgets/base",
            "_view_module_version": "1.2.0",
            "_view_name": "StyleView",
            "description_width": ""
          }
        },
        "2592034b93994edda1a30a2dc087111e": {
          "model_module": "@jupyter-widgets/controls",
          "model_name": "HBoxModel",
          "model_module_version": "1.5.0",
          "state": {
            "_dom_classes": [],
            "_model_module": "@jupyter-widgets/controls",
            "_model_module_version": "1.5.0",
            "_model_name": "HBoxModel",
            "_view_count": null,
            "_view_module": "@jupyter-widgets/controls",
            "_view_module_version": "1.5.0",
            "_view_name": "HBoxView",
            "box_style": "",
            "children": [
              "IPY_MODEL_74af4efd9dfe4f68b69a8dcef2d02406",
              "IPY_MODEL_8aa6cd6c8a6d4d508df368f263d44e7c",
              "IPY_MODEL_9013121c3aa344048976d5640eaaba17"
            ],
            "layout": "IPY_MODEL_4578303724ec47cf9fc2c187e1b728f6"
          }
        },
        "74af4efd9dfe4f68b69a8dcef2d02406": {
          "model_module": "@jupyter-widgets/controls",
          "model_name": "HTMLModel",
          "model_module_version": "1.5.0",
          "state": {
            "_dom_classes": [],
            "_model_module": "@jupyter-widgets/controls",
            "_model_module_version": "1.5.0",
            "_model_name": "HTMLModel",
            "_view_count": null,
            "_view_module": "@jupyter-widgets/controls",
            "_view_module_version": "1.5.0",
            "_view_name": "HTMLView",
            "description": "",
            "description_tooltip": null,
            "layout": "IPY_MODEL_e3776d36e1e3414db309a3a37ac5213c",
            "placeholder": "​",
            "style": "IPY_MODEL_2b9385c7dc654940bfa60bf6cf78f8f7",
            "value": "Map: 100%"
          }
        },
        "8aa6cd6c8a6d4d508df368f263d44e7c": {
          "model_module": "@jupyter-widgets/controls",
          "model_name": "FloatProgressModel",
          "model_module_version": "1.5.0",
          "state": {
            "_dom_classes": [],
            "_model_module": "@jupyter-widgets/controls",
            "_model_module_version": "1.5.0",
            "_model_name": "FloatProgressModel",
            "_view_count": null,
            "_view_module": "@jupyter-widgets/controls",
            "_view_module_version": "1.5.0",
            "_view_name": "ProgressView",
            "bar_style": "success",
            "description": "",
            "description_tooltip": null,
            "layout": "IPY_MODEL_bd1a1381ac0f4efbbe1aa070a40ebdc1",
            "max": 402,
            "min": 0,
            "orientation": "horizontal",
            "style": "IPY_MODEL_1cb047beea7244409faf22956d96bc0f",
            "value": 402
          }
        },
        "9013121c3aa344048976d5640eaaba17": {
          "model_module": "@jupyter-widgets/controls",
          "model_name": "HTMLModel",
          "model_module_version": "1.5.0",
          "state": {
            "_dom_classes": [],
            "_model_module": "@jupyter-widgets/controls",
            "_model_module_version": "1.5.0",
            "_model_name": "HTMLModel",
            "_view_count": null,
            "_view_module": "@jupyter-widgets/controls",
            "_view_module_version": "1.5.0",
            "_view_name": "HTMLView",
            "description": "",
            "description_tooltip": null,
            "layout": "IPY_MODEL_91d3b5610b3249d8a92ac7f9858d81af",
            "placeholder": "​",
            "style": "IPY_MODEL_2b891c0bd661441ba30067ddeb4aba57",
            "value": " 402/402 [00:01&lt;00:00, 342.08 examples/s]"
          }
        },
        "4578303724ec47cf9fc2c187e1b728f6": {
          "model_module": "@jupyter-widgets/base",
          "model_name": "LayoutModel",
          "model_module_version": "1.2.0",
          "state": {
            "_model_module": "@jupyter-widgets/base",
            "_model_module_version": "1.2.0",
            "_model_name": "LayoutModel",
            "_view_count": null,
            "_view_module": "@jupyter-widgets/base",
            "_view_module_version": "1.2.0",
            "_view_name": "LayoutView",
            "align_content": null,
            "align_items": null,
            "align_self": null,
            "border": null,
            "bottom": null,
            "display": null,
            "flex": null,
            "flex_flow": null,
            "grid_area": null,
            "grid_auto_columns": null,
            "grid_auto_flow": null,
            "grid_auto_rows": null,
            "grid_column": null,
            "grid_gap": null,
            "grid_row": null,
            "grid_template_areas": null,
            "grid_template_columns": null,
            "grid_template_rows": null,
            "height": null,
            "justify_content": null,
            "justify_items": null,
            "left": null,
            "margin": null,
            "max_height": null,
            "max_width": null,
            "min_height": null,
            "min_width": null,
            "object_fit": null,
            "object_position": null,
            "order": null,
            "overflow": null,
            "overflow_x": null,
            "overflow_y": null,
            "padding": null,
            "right": null,
            "top": null,
            "visibility": null,
            "width": null
          }
        },
        "e3776d36e1e3414db309a3a37ac5213c": {
          "model_module": "@jupyter-widgets/base",
          "model_name": "LayoutModel",
          "model_module_version": "1.2.0",
          "state": {
            "_model_module": "@jupyter-widgets/base",
            "_model_module_version": "1.2.0",
            "_model_name": "LayoutModel",
            "_view_count": null,
            "_view_module": "@jupyter-widgets/base",
            "_view_module_version": "1.2.0",
            "_view_name": "LayoutView",
            "align_content": null,
            "align_items": null,
            "align_self": null,
            "border": null,
            "bottom": null,
            "display": null,
            "flex": null,
            "flex_flow": null,
            "grid_area": null,
            "grid_auto_columns": null,
            "grid_auto_flow": null,
            "grid_auto_rows": null,
            "grid_column": null,
            "grid_gap": null,
            "grid_row": null,
            "grid_template_areas": null,
            "grid_template_columns": null,
            "grid_template_rows": null,
            "height": null,
            "justify_content": null,
            "justify_items": null,
            "left": null,
            "margin": null,
            "max_height": null,
            "max_width": null,
            "min_height": null,
            "min_width": null,
            "object_fit": null,
            "object_position": null,
            "order": null,
            "overflow": null,
            "overflow_x": null,
            "overflow_y": null,
            "padding": null,
            "right": null,
            "top": null,
            "visibility": null,
            "width": null
          }
        },
        "2b9385c7dc654940bfa60bf6cf78f8f7": {
          "model_module": "@jupyter-widgets/controls",
          "model_name": "DescriptionStyleModel",
          "model_module_version": "1.5.0",
          "state": {
            "_model_module": "@jupyter-widgets/controls",
            "_model_module_version": "1.5.0",
            "_model_name": "DescriptionStyleModel",
            "_view_count": null,
            "_view_module": "@jupyter-widgets/base",
            "_view_module_version": "1.2.0",
            "_view_name": "StyleView",
            "description_width": ""
          }
        },
        "bd1a1381ac0f4efbbe1aa070a40ebdc1": {
          "model_module": "@jupyter-widgets/base",
          "model_name": "LayoutModel",
          "model_module_version": "1.2.0",
          "state": {
            "_model_module": "@jupyter-widgets/base",
            "_model_module_version": "1.2.0",
            "_model_name": "LayoutModel",
            "_view_count": null,
            "_view_module": "@jupyter-widgets/base",
            "_view_module_version": "1.2.0",
            "_view_name": "LayoutView",
            "align_content": null,
            "align_items": null,
            "align_self": null,
            "border": null,
            "bottom": null,
            "display": null,
            "flex": null,
            "flex_flow": null,
            "grid_area": null,
            "grid_auto_columns": null,
            "grid_auto_flow": null,
            "grid_auto_rows": null,
            "grid_column": null,
            "grid_gap": null,
            "grid_row": null,
            "grid_template_areas": null,
            "grid_template_columns": null,
            "grid_template_rows": null,
            "height": null,
            "justify_content": null,
            "justify_items": null,
            "left": null,
            "margin": null,
            "max_height": null,
            "max_width": null,
            "min_height": null,
            "min_width": null,
            "object_fit": null,
            "object_position": null,
            "order": null,
            "overflow": null,
            "overflow_x": null,
            "overflow_y": null,
            "padding": null,
            "right": null,
            "top": null,
            "visibility": null,
            "width": null
          }
        },
        "1cb047beea7244409faf22956d96bc0f": {
          "model_module": "@jupyter-widgets/controls",
          "model_name": "ProgressStyleModel",
          "model_module_version": "1.5.0",
          "state": {
            "_model_module": "@jupyter-widgets/controls",
            "_model_module_version": "1.5.0",
            "_model_name": "ProgressStyleModel",
            "_view_count": null,
            "_view_module": "@jupyter-widgets/base",
            "_view_module_version": "1.2.0",
            "_view_name": "StyleView",
            "bar_color": null,
            "description_width": ""
          }
        },
        "91d3b5610b3249d8a92ac7f9858d81af": {
          "model_module": "@jupyter-widgets/base",
          "model_name": "LayoutModel",
          "model_module_version": "1.2.0",
          "state": {
            "_model_module": "@jupyter-widgets/base",
            "_model_module_version": "1.2.0",
            "_model_name": "LayoutModel",
            "_view_count": null,
            "_view_module": "@jupyter-widgets/base",
            "_view_module_version": "1.2.0",
            "_view_name": "LayoutView",
            "align_content": null,
            "align_items": null,
            "align_self": null,
            "border": null,
            "bottom": null,
            "display": null,
            "flex": null,
            "flex_flow": null,
            "grid_area": null,
            "grid_auto_columns": null,
            "grid_auto_flow": null,
            "grid_auto_rows": null,
            "grid_column": null,
            "grid_gap": null,
            "grid_row": null,
            "grid_template_areas": null,
            "grid_template_columns": null,
            "grid_template_rows": null,
            "height": null,
            "justify_content": null,
            "justify_items": null,
            "left": null,
            "margin": null,
            "max_height": null,
            "max_width": null,
            "min_height": null,
            "min_width": null,
            "object_fit": null,
            "object_position": null,
            "order": null,
            "overflow": null,
            "overflow_x": null,
            "overflow_y": null,
            "padding": null,
            "right": null,
            "top": null,
            "visibility": null,
            "width": null
          }
        },
        "2b891c0bd661441ba30067ddeb4aba57": {
          "model_module": "@jupyter-widgets/controls",
          "model_name": "DescriptionStyleModel",
          "model_module_version": "1.5.0",
          "state": {
            "_model_module": "@jupyter-widgets/controls",
            "_model_module_version": "1.5.0",
            "_model_name": "DescriptionStyleModel",
            "_view_count": null,
            "_view_module": "@jupyter-widgets/base",
            "_view_module_version": "1.2.0",
            "_view_name": "StyleView",
            "description_width": ""
          }
        }
      }
    }
  },
  "nbformat": 4,
  "nbformat_minor": 0
}