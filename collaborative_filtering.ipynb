{
 "cells": [
  {
   "cell_type": "code",
   "execution_count": 40,
   "metadata": {},
   "outputs": [],
   "source": [
    "import numpy as np\n",
    "import tensorflow as tf\n",
    "from tensorflow import keras"
   ]
  },
  {
   "cell_type": "code",
   "execution_count": 41,
   "metadata": {},
   "outputs": [
    {
     "name": "stdout",
     "output_type": "stream",
     "text": [
      "Initial Weights:  [[0.2945276  0.83136219 0.10846335]\n",
      " [0.37903723 0.18566696 0.91769698]\n",
      " [0.4339009  0.8753187  0.36540844]\n",
      " [0.45776368 0.85465294 0.50207773]\n",
      " [0.67864069 0.25100327 0.27942242]]\n",
      "Initial Ratings:  [[1 5 2 5 1]\n",
      " [2 2 2 2 4]\n",
      " [3 3 1 4 5]\n",
      " [3 4 2 4 3]\n",
      " [2 2 4 4 5]\n",
      " [4 1 4 3 4]\n",
      " [4 1 4 4 2]\n",
      " [1 1 1 4 5]\n",
      " [1 1 3 3 5]\n",
      " [3 5 3 3 4]]\n",
      "Shape of X:  (10, 3)\n",
      "Shape of W:  (5, 3)\n",
      "Shape of B:  (1, 5)\n",
      "Shape of Y:  (10, 5)\n"
     ]
    }
   ],
   "source": [
    "# Features: Google Review, Price, Roamify Rating\n",
    "X = [[3.7, 100, 3],\n",
    "    [4.5, 200, 4],\n",
    "    [4.2, 150, 4.2],\n",
    "    [4.3, 180, 4.1],\n",
    "    [4.7, 250, 4.5],\n",
    "    [4.6, 220, 4.3],\n",
    "    [4.1, 120, 4],\n",
    "    [4.4, 190, 4.2],\n",
    "    [4.8, 280, 4.7],\n",
    "    [3.9, 80, 3.8]]\n",
    "\n",
    "num_attractions = 10\n",
    "num_users = 5\n",
    "num_features = 3\n",
    "Y = np.random.randint(1, 6, size=(num_attractions, num_users))\n",
    "W = np.random.rand(num_users, num_features)\n",
    "B = np.random.rand(1,num_users)\n",
    "X = np.array(X)\n",
    "print(\"Initial Weights: \", W)\n",
    "print(\"Initial Ratings: \", Y)\n",
    "print(\"Shape of X: \", np.shape(X))\n",
    "print(\"Shape of W: \", np.shape(W))\n",
    "print(\"Shape of B: \", np.shape(B))\n",
    "print(\"Shape of Y: \", np.shape(Y))"
   ]
  },
  {
   "cell_type": "code",
   "execution_count": null,
   "metadata": {},
   "outputs": [],
   "source": []
  },
  {
   "cell_type": "code",
   "execution_count": 42,
   "metadata": {},
   "outputs": [],
   "source": [
    "def cofi_cost_func(X, W, b, Y, lambda_):\n",
    "    nm, n = X.shape\n",
    "    nm, nu = Y.shape\n",
    "    J = 0\n",
    "    for i in range(nm):\n",
    "        for j in range(nu):\n",
    "            # if (R[i][j] == 1):\n",
    "            sum_ = 0\n",
    "            for k in range(n):\n",
    "                sum_ += (W[j][k] * X[i][k])\n",
    "            cost = (sum_ + b[0][j] - Y[i][j]) ** 2\n",
    "            J+= (cost/2)\n",
    "        \n",
    "    for j in range(nu):\n",
    "        for k in range(n):\n",
    "            cost = (W[j][k]) ** 2\n",
    "            J += (cost * (lambda_ / 2))\n",
    "            \n",
    "    for j in range(nm):\n",
    "        for k in range(n):\n",
    "            cost = (X[j][k]) ** 2\n",
    "            J += (cost * (lambda_ / 2))\n",
    "    \n",
    "        \n",
    "\n",
    "    return J"
   ]
  },
  {
   "cell_type": "code",
   "execution_count": 43,
   "metadata": {},
   "outputs": [
    {
     "name": "stdout",
     "output_type": "stream",
     "text": [
      "Cost without regularization: 407448.14778023266\n",
      "Cost with regularization: 671043.7415201532\n"
     ]
    }
   ],
   "source": [
    "print(f\"Cost without regularization: {cofi_cost_func(X, W, B, Y, 0)}\")\n",
    "print(f\"Cost with regularization: {cofi_cost_func(X, W, B, Y, 1.5)}\")"
   ]
  },
  {
   "cell_type": "code",
   "execution_count": 44,
   "metadata": {},
   "outputs": [],
   "source": [
    "tf.random.set_seed(1234)\n",
    "W = tf.Variable(tf.random.normal((num_users,  num_features),dtype=tf.float64),  name='W')\n",
    "X = tf.Variable(tf.random.normal((num_attractions, num_features),dtype=tf.float64),  name='X')\n",
    "b = tf.Variable(tf.random.normal((1, num_users),   dtype=tf.float64),  name='B')\n",
    "\n",
    "optimizer = keras.optimizers.Adam(learning_rate=1e-1)"
   ]
  },
  {
   "cell_type": "code",
   "execution_count": 45,
   "metadata": {},
   "outputs": [
    {
     "name": "stdout",
     "output_type": "stream",
     "text": [
      "Training loss at iteration 0: 383.5\n",
      "Training loss at iteration 20: 52.4\n",
      "Training loss at iteration 40: 30.5\n",
      "Training loss at iteration 60: 24.3\n",
      "Training loss at iteration 80: 22.2\n",
      "Training loss at iteration 100: 20.6\n",
      "Training loss at iteration 120: 19.2\n",
      "Training loss at iteration 140: 18.1\n",
      "Training loss at iteration 160: 17.4\n",
      "Training loss at iteration 180: 17.1\n"
     ]
    }
   ],
   "source": [
    "iterations = 200\n",
    "lambda_ = 1\n",
    "for iter in range(iterations):\n",
    "\n",
    "    with tf.GradientTape() as tape:\n",
    "        cost_value = cofi_cost_func(X, W, b, Y, lambda_)\n",
    "\n",
    "    grads = tape.gradient( cost_value, [X,W,b] )\n",
    "\n",
    "    optimizer.apply_gradients(zip(grads, [X,W,b]) )\n",
    "\n",
    "    if iter % 20 == 0:\n",
    "        print(f\"Training loss at iteration {iter}: {cost_value:0.1f}\")"
   ]
  },
  {
   "cell_type": "code",
   "execution_count": 46,
   "metadata": {},
   "outputs": [
    {
     "name": "stdout",
     "output_type": "stream",
     "text": [
      "User 1:\n",
      "Attraction 1: Predicted Rating = 1.58, Actual Rating = 1\n",
      "Attraction 2: Predicted Rating = 2.20, Actual Rating = 2\n",
      "Attraction 3: Predicted Rating = 2.15, Actual Rating = 3\n",
      "Attraction 4: Predicted Rating = 2.56, Actual Rating = 3\n",
      "Attraction 5: Predicted Rating = 2.55, Actual Rating = 2\n",
      "Attraction 6: Predicted Rating = 3.53, Actual Rating = 4\n",
      "Attraction 7: Predicted Rating = 3.38, Actual Rating = 4\n",
      "Attraction 8: Predicted Rating = 1.04, Actual Rating = 1\n",
      "Attraction 9: Predicted Rating = 1.82, Actual Rating = 1\n",
      "Attraction 10: Predicted Rating = 3.11, Actual Rating = 3\n",
      "\n",
      "User 2:\n",
      "Attraction 1: Predicted Rating = 4.58, Actual Rating = 5\n",
      "Attraction 2: Predicted Rating = 2.16, Actual Rating = 2\n",
      "Attraction 3: Predicted Rating = 3.09, Actual Rating = 3\n",
      "Attraction 4: Predicted Rating = 3.83, Actual Rating = 4\n",
      "Attraction 5: Predicted Rating = 1.77, Actual Rating = 2\n",
      "Attraction 6: Predicted Rating = 1.30, Actual Rating = 1\n",
      "Attraction 7: Predicted Rating = 1.49, Actual Rating = 1\n",
      "Attraction 8: Predicted Rating = 1.45, Actual Rating = 1\n",
      "Attraction 9: Predicted Rating = 1.10, Actual Rating = 1\n",
      "Attraction 10: Predicted Rating = 4.28, Actual Rating = 5\n",
      "\n",
      "User 3:\n",
      "Attraction 1: Predicted Rating = 1.84, Actual Rating = 2\n",
      "Attraction 2: Predicted Rating = 2.41, Actual Rating = 2\n",
      "Attraction 3: Predicted Rating = 1.98, Actual Rating = 1\n",
      "Attraction 4: Predicted Rating = 2.42, Actual Rating = 2\n",
      "Attraction 5: Predicted Rating = 2.84, Actual Rating = 4\n",
      "Attraction 6: Predicted Rating = 3.83, Actual Rating = 4\n",
      "Attraction 7: Predicted Rating = 4.04, Actual Rating = 4\n",
      "Attraction 8: Predicted Rating = 1.68, Actual Rating = 1\n",
      "Attraction 9: Predicted Rating = 2.40, Actual Rating = 3\n",
      "Attraction 10: Predicted Rating = 2.51, Actual Rating = 3\n",
      "\n",
      "User 4:\n",
      "Attraction 1: Predicted Rating = 4.76, Actual Rating = 5\n",
      "Attraction 2: Predicted Rating = 3.42, Actual Rating = 2\n",
      "Attraction 3: Predicted Rating = 3.38, Actual Rating = 4\n",
      "Attraction 4: Predicted Rating = 3.83, Actual Rating = 4\n",
      "Attraction 5: Predicted Rating = 3.35, Actual Rating = 4\n",
      "Attraction 6: Predicted Rating = 3.15, Actual Rating = 3\n",
      "Attraction 7: Predicted Rating = 3.77, Actual Rating = 4\n",
      "Attraction 8: Predicted Rating = 3.62, Actual Rating = 4\n",
      "Attraction 9: Predicted Rating = 3.38, Actual Rating = 3\n",
      "Attraction 10: Predicted Rating = 3.42, Actual Rating = 3\n",
      "\n",
      "User 5:\n",
      "Attraction 1: Predicted Rating = 1.52, Actual Rating = 1\n",
      "Attraction 2: Predicted Rating = 4.41, Actual Rating = 4\n",
      "Attraction 3: Predicted Rating = 4.60, Actual Rating = 5\n",
      "Attraction 4: Predicted Rating = 3.11, Actual Rating = 3\n",
      "Attraction 5: Predicted Rating = 4.29, Actual Rating = 5\n",
      "Attraction 6: Predicted Rating = 3.98, Actual Rating = 4\n",
      "Attraction 7: Predicted Rating = 2.49, Actual Rating = 2\n",
      "Attraction 8: Predicted Rating = 4.78, Actual Rating = 5\n",
      "Attraction 9: Predicted Rating = 4.76, Actual Rating = 5\n",
      "Attraction 10: Predicted Rating = 3.77, Actual Rating = 4\n",
      "\n"
     ]
    }
   ],
   "source": [
    "predicted_ratings = np.dot(X, np.transpose(W)) + b\n",
    "\n",
    "for user in range(num_users):\n",
    "    print(f\"User {user+1}:\")\n",
    "    for attraction in range(num_attractions):\n",
    "        print(f\"Attraction {attraction+1}: Predicted Rating = {predicted_ratings[attraction][user]:.2f}, Actual Rating = {Y[attraction][user]}\")\n",
    "    print()"
   ]
  },
  {
   "cell_type": "code",
   "execution_count": 47,
   "metadata": {},
   "outputs": [
    {
     "name": "stdout",
     "output_type": "stream",
     "text": [
      "(10, 6)\n"
     ]
    }
   ],
   "source": [
    "#Testing ratings\n",
    "user_ratings = np.zeros(num_attractions)\n",
    "user_ratings[0] = 5\n",
    "user_ratings[1] = 4\n",
    "user_ratings[4] = 3\n",
    "user_ratings[8] = 2\n",
    "user_ratings[9] = 4\n",
    "\n",
    "user_rated = [i for i in range(num_attractions) if user_ratings[i] > 0]\n",
    "\n",
    "Y = np.c_[user_ratings, Y]\n",
    "print(Y.shape)"
   ]
  },
  {
   "cell_type": "code",
   "execution_count": 48,
   "metadata": {},
   "outputs": [],
   "source": [
    "num_attractions, num_users = Y.shape\n",
    "num_features = 3\n",
    "\n",
    "tf.random.set_seed(1234) # for consistent results\n",
    "W = tf.Variable(tf.random.normal((num_users,  num_features),dtype=tf.float64),  name='W')\n",
    "X = tf.Variable(tf.random.normal((num_attractions, num_features),dtype=tf.float64),  name='X')\n",
    "b = tf.Variable(tf.random.normal((1,          num_users),   dtype=tf.float64),  name='B')\n",
    "\n",
    "# Instantiate an optimizer.\n",
    "optimizer = keras.optimizers.Adam(learning_rate=1e-1)"
   ]
  },
  {
   "cell_type": "code",
   "execution_count": 49,
   "metadata": {},
   "outputs": [
    {
     "name": "stdout",
     "output_type": "stream",
     "text": [
      "Training loss at iteration 0: 462.1\n",
      "Training loss at iteration 20: 70.5\n",
      "Training loss at iteration 40: 42.4\n",
      "Training loss at iteration 60: 34.0\n",
      "Training loss at iteration 80: 30.8\n",
      "Training loss at iteration 100: 28.2\n",
      "Training loss at iteration 120: 25.9\n",
      "Training loss at iteration 140: 24.2\n",
      "Training loss at iteration 160: 23.3\n",
      "Training loss at iteration 180: 22.9\n"
     ]
    }
   ],
   "source": [
    "iterations = 200\n",
    "lambda_ = 1\n",
    "for iter in range(iterations):\n",
    "\n",
    "    with tf.GradientTape() as tape:\n",
    "        cost_value = cofi_cost_func(X, W, b, Y, lambda_)\n",
    "\n",
    "    grads = tape.gradient( cost_value, [X,W,b] )\n",
    "\n",
    "    optimizer.apply_gradients(zip(grads, [X,W,b]) )\n",
    "\n",
    "    if iter % 20 == 0:\n",
    "        print(f\"Training loss at iteration {iter}: {cost_value:0.1f}\")"
   ]
  },
  {
   "cell_type": "code",
   "execution_count": 50,
   "metadata": {},
   "outputs": [
    {
     "name": "stdout",
     "output_type": "stream",
     "text": [
      "\n",
      "\n",
      "Original vs Predicted ratings:\n",
      "\n",
      "Original 5.0, Predicted 4.59\n",
      "Original 4.0, Predicted 3.47\n",
      "Original 3.0, Predicted 2.77\n",
      "Original 2.0, Predicted 2.08\n",
      "Original 4.0, Predicted 3.73\n"
     ]
    }
   ],
   "source": [
    "p = np.dot(X,np.transpose(W)) + b\n",
    "\n",
    "pm = p.numpy()\n",
    "my_predictions = pm[:,0]\n",
    "\n",
    "# sort predictions\n",
    "ix = tf.argsort(my_predictions, direction='DESCENDING')\n",
    "\n",
    "print('\\n\\nOriginal vs Predicted ratings:\\n')\n",
    "for i in range(len(user_ratings)):\n",
    "    if user_ratings[i] > 0:\n",
    "        print(f'Original {user_ratings[i]}, Predicted {my_predictions[i]:0.2f}')"
   ]
  }
 ],
 "metadata": {
  "kernelspec": {
   "display_name": "Python 3",
   "language": "python",
   "name": "python3"
  },
  "language_info": {
   "codemirror_mode": {
    "name": "ipython",
    "version": 3
   },
   "file_extension": ".py",
   "mimetype": "text/x-python",
   "name": "python",
   "nbconvert_exporter": "python",
   "pygments_lexer": "ipython3",
   "version": "3.11.0"
  }
 },
 "nbformat": 4,
 "nbformat_minor": 2
}
